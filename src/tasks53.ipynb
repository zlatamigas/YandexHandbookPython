{
  "metadata": {
    "kernelspec": {
      "name": "python",
      "display_name": "Python (Pyodide)",
      "language": "python"
    },
    "language_info": {
      "codemirror_mode": {
        "name": "python",
        "version": 3
      },
      "file_extension": ".py",
      "mimetype": "text/x-python",
      "name": "python",
      "nbconvert_exporter": "python",
      "pygments_lexer": "ipython3",
      "version": "3.8"
    }
  },
  "nbformat_minor": 4,
  "nbformat": 4,
  "cells": [
    {
      "cell_type": "markdown",
      "source": "# 5.3. Модель исключений Python. Try, except, else, finally. Модули",
      "metadata": {}
    },
    {
      "cell_type": "markdown",
      "source": "## A. Обработка ошибок\n",
      "metadata": {}
    },
    {
      "cell_type": "code",
      "source": "try:\n    func()\nexcept Exception as e:   \n    print(e.__class__.__name__) \nelse:\n    print(\"No Exceptions\")    ",
      "metadata": {
        "trusted": true
      },
      "outputs": [],
      "execution_count": null
    },
    {
      "cell_type": "markdown",
      "source": "## B. Ломать — не строить\n",
      "metadata": {}
    },
    {
      "cell_type": "code",
      "source": "func(\"a\", 0.1)  ",
      "metadata": {
        "trusted": true
      },
      "outputs": [],
      "execution_count": null
    },
    {
      "cell_type": "markdown",
      "source": "## C. Ломать — не строить 2\n",
      "metadata": {}
    },
    {
      "cell_type": "code",
      "source": "class A:\n\n    def __init__(self):\n        pass\n\n    def __str__(self):\n        raise Exception()    \n        \n    def __repr__(self):\n        raise Exception()  \n\n\nfunc(A())",
      "metadata": {
        "trusted": true
      },
      "outputs": [],
      "execution_count": null
    },
    {
      "cell_type": "markdown",
      "source": "## D. Контроль параметров\n",
      "metadata": {}
    },
    {
      "cell_type": "code",
      "source": "def only_positive_even_sum(a, b):\n    if not isinstance(a, int) or not isinstance(b, int):\n        raise TypeError()\n    if a <= 0 or a % 2 == 1 or b <= 0 or b % 2 == 1:\n        raise ValueError()    \n    return a + b       ",
      "metadata": {
        "trusted": true
      },
      "outputs": [],
      "execution_count": null
    },
    {
      "cell_type": "markdown",
      "source": "## E. Слияние с проверкой\n",
      "metadata": {}
    },
    {
      "cell_type": "code",
      "source": "def merge(ac, bc):\n    try:\n        ai = iter(ac)\n        bi = iter(bc)\n    except TypeError:\n        raise StopIteration()\n    else:\n        av = list(ai)\n        bv = list(bi)\n        if len(av) > 0:\n            t = av[0]\n        elif len(bv) > 0:\n            t = bv[0]\n        else:\n            return tuple()\n\n        if any(type(x) is not type(t) for x in av) or any(type(x) is not type(t) for x in bv):\n            raise TypeError()\n        if sorted(av) != av or sorted(bv) != bv:\n            raise ValueError()        \n        \n        return tuple(sorted(av + bv))            ",
      "metadata": {
        "trusted": true
      },
      "outputs": [],
      "execution_count": null
    },
    {
      "cell_type": "markdown",
      "source": "## F. Корень зла 2\n",
      "metadata": {}
    },
    {
      "cell_type": "code",
      "source": "class NoSolutionsError(Exception):\n    pass\n\n\nclass InfiniteSolutionsError(Exception):\n    pass\n\n\ndef find_roots(a, b, c):\n    if not (isinstance(a, int | float) and isinstance(b, int | float) and isinstance(c, int | float)):\n        raise TypeError()    \n\n    if a == 0:\n        if b == c == 0:\n            raise InfiniteSolutionsError()\n        elif b == 0 and c != 0:\n            raise NoSolutionsError()\n        elif b != 0 and c == 0:\n            return (0, 0)  \n        else:\n            v = -c / b\n            return (v, v)          \n    else:\n        d = b * b - 4 * a * c\n        if d > 0:\n            sd = d ** 0.5\n            return ((-b - sd) / (2 * a), (-b + sd) / (2 * a))\n        elif d == 0:\n            v = -b / (2 * a)\n            return (v, v)\n        else:\n            raise NoSolutionsError()",
      "metadata": {
        "trusted": true
      },
      "outputs": [],
      "execution_count": null
    },
    {
      "cell_type": "markdown",
      "source": "## G. Валидация имени\n",
      "metadata": {}
    },
    {
      "cell_type": "code",
      "source": "import re\n\n\nclass CyrillicError(Exception):\n    pass\n\n\nclass CapitalError(Exception):\n    pass\n\n\ndef name_validation(name):\n    if not isinstance(name, str):\n        raise TypeError()\n    if not re.match(\"^[а-яё]+$\", name.lower()):   \n        raise CyrillicError()\n    if name.capitalize() != name:\n        raise CapitalError()  \n    return name    \n",
      "metadata": {
        "trusted": true
      },
      "outputs": [],
      "execution_count": null
    },
    {
      "cell_type": "markdown",
      "source": "## H. Валидация имени пользователя\n",
      "metadata": {}
    },
    {
      "cell_type": "code",
      "source": "import re\n\n\nclass BadCharacterError(Exception):\n    pass\n\n\nclass StartsWithDigitError(Exception):\n    pass\n\n\ndef username_validation(name):\n    if not isinstance(name, str):\n        raise TypeError()\n    if not re.match(\"^[a-zA-Z0-9_]+$\", name):   \n        raise BadCharacterError()\n    if name[0].isdigit():\n        raise StartsWithDigitError()  \n    return name    \n",
      "metadata": {
        "trusted": true
      },
      "outputs": [],
      "execution_count": null
    },
    {
      "cell_type": "code",
      "source": "import re\n\n\nclass BadCharacterError(Exception):\n    pass\n\n\nclass StartsWithDigitError(Exception):\n    pass\n\n\ndef username_validation(name):\n    if not isinstance(name, str):\n        raise TypeError()\n    if not re.match(\"^[a-z0-9_]+$\", name.lower()):   \n        raise BadCharacterError()\n    if name[0].isdigit():\n        raise StartsWithDigitError()  \n    return name    \n",
      "metadata": {
        "trusted": true
      },
      "outputs": [],
      "execution_count": null
    },
    {
      "cell_type": "markdown",
      "source": "## I. Валидация пользователя",
      "metadata": {}
    },
    {
      "cell_type": "code",
      "source": "import re\n\n\nclass CyrillicError(Exception):\n    pass\n\n\nclass CapitalError(Exception):\n    pass\n\n\nclass BadCharacterError(Exception):\n    pass\n\n\nclass StartsWithDigitError(Exception):\n    pass\n\n\ndef username_validation(name):\n    if not isinstance(name, str):\n        raise TypeError()\n    if not re.match(\"^[a-z0-9_]+$\", name.lower()):   \n        raise BadCharacterError()\n    if name[0].isdigit():\n        raise StartsWithDigitError()  \n    return name    \n\n\ndef name_validation(name):\n    if not isinstance(name, str):\n        raise TypeError()\n    if not re.match(\"^[а-яё]+$\", name.lower()):   \n        raise CyrillicError()\n    if name.capitalize() != name:\n        raise CapitalError()  \n    return name    \n\n\ndef user_validation(**kargs):\n    ln = kargs.get(\"last_name\", None)\n    fn = kargs.get(\"first_name\", None)\n    un = kargs.get(\"username\", None)\n\n    if ln is None or ln is None or un is None or len(kargs) > 3:\n        raise KeyError()\n\n    if not (isinstance(ln, str) and isinstance(fn, str) and isinstance(un, str)):\n        raise TypeError()\n        \n    return {\"last_name\": name_validation(ln),\n            \"first_name\": name_validation(fn),\n            \"username\": username_validation(un)}      ",
      "metadata": {
        "trusted": true
      },
      "outputs": [],
      "execution_count": null
    },
    {
      "cell_type": "markdown",
      "source": "## J. Валидация пароля",
      "metadata": {}
    },
    {
      "cell_type": "code",
      "source": "import re\nfrom hashlib import sha256\n\n\nclass MinLengthError(Exception):\n    pass\n\n\nclass PossibleCharError(Exception):\n    pass\n\n\nclass NeedCharError(Exception):\n    pass\n\n\ndef password_validation(password, **kargs):\n    min_length = kargs.get(\"min_length\", 8)\n    possible_chars = kargs.get(\"possible_chars\", \"a-zA-Z0-9\")\n    at_least_one = kargs.get(\"at_least_one\", lambda char: char.isdigit())\n\n    if not isinstance(password, str):\n        raise TypeError()\n\n    if len(password) < min_length:\n        raise MinLengthError()\n\n    if not re.match(f\"^[{possible_chars}]+$\", password):\n        raise PossibleCharError()    \n\n    ic = 0\n    while ic < len(password):\n        if at_least_one(password[ic]):\n            break\n        else:\n            ic += 1    \n    \n    if ic == len(password):\n        raise NeedCharError()    \n\n    return sha256(password.encode('utf-8')).hexdigest()",
      "metadata": {
        "trusted": true
      },
      "outputs": [],
      "execution_count": null
    }
  ]
}
