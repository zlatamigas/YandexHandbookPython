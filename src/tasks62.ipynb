{
  "metadata": {
    "kernelspec": {
      "name": "python",
      "display_name": "Python (Pyodide)",
      "language": "python"
    },
    "language_info": {
      "codemirror_mode": {
        "name": "python",
        "version": 3
      },
      "file_extension": ".py",
      "mimetype": "text/x-python",
      "name": "python",
      "nbconvert_exporter": "python",
      "pygments_lexer": "ipython3",
      "version": "3.8"
    }
  },
  "nbformat_minor": 4,
  "nbformat": 4,
  "cells": [
    {
      "cell_type": "markdown",
      "source": "# Модуль pandas",
      "metadata": {}
    },
    {
      "cell_type": "markdown",
      "source": "## A. Длины всех слов - 2\n",
      "metadata": {}
    },
    {
      "cell_type": "code",
      "source": "import pandas as pd\nimport re\n\n\ndef length_stats(text):\n    todel = r\"[^a-zа-яё]+\"\n    keys = set(re.sub(todel, \" \", text.lower()).split())\n\n    d = dict()\n    for k in sorted(list(keys)):\n        d[k] = len(k)\n\n    return pd.Series(d)",
      "metadata": {
        "trusted": true
      },
      "outputs": [],
      "execution_count": null
    },
    {
      "cell_type": "markdown",
      "source": "## B. Длины всех слов по чётности\n",
      "metadata": {}
    },
    {
      "cell_type": "code",
      "source": "import pandas as pd\nimport re\n\n\ndef length_stats(text):\n    todel = r\"[^a-zа-яё]+\"\n    keys = set(re.sub(todel, \" \", text.lower()).split())\n\n    d = dict()\n    for k in sorted(list(keys)):\n        d[k] = len(k)\n\n    data = pd.Series(d)\n    return data[data % 2 == 1], data[data % 2 == 0]",
      "metadata": {
        "trusted": true
      },
      "outputs": [],
      "execution_count": null
    },
    {
      "cell_type": "markdown",
      "source": "## C. Чек - 2\n",
      "metadata": {}
    },
    {
      "cell_type": "code",
      "source": "import pandas as pd\nimport numpy as np\n\n\ndef cheque(pl, **kwargs):\n    \n    products = pl.index.to_list()\n    numbers = [kwargs.get(k, 0) for k in products]\n\n    frame = {\n        \"product\": products,\n        \"price\": pl.array,\n        \"number\": numbers,\n    }\n\n    df = pd.DataFrame(frame)\n    df[\"cost\"] = df[\"price\"] * df[\"number\"]\n    df = df.sort_values([\"product\"], ascending=True)[df[\"number\"] > 0]\n    df.index = range(len(df.index)) \n\n    return df",
      "metadata": {
        "trusted": true
      },
      "outputs": [],
      "execution_count": null
    },
    {
      "cell_type": "markdown",
      "source": "## D. Акция\n",
      "metadata": {}
    },
    {
      "cell_type": "code",
      "source": "import pandas as pd\n\n\ndef cheque(pl, **kwargs):\n    \n    products = pl.index.to_list()\n    numbers = [kwargs.get(k, 0) for k in products]\n\n    frame = {\n        \"product\": products,\n        \"price\": pl.array,\n        \"number\": numbers,\n    }\n\n    df = pd.DataFrame(frame)\n    df[\"cost\"] = df[\"price\"] * df[\"number\"]\n    df = df.sort_values([\"product\"], ascending=True)[df[\"number\"] > 0]\n    df.index = range(len(df.index)) \n\n    return df\n\n\ndef discount(df):\n    dfl = df[df[\"number\"] <= 2]\n\n    dfb = df[df[\"number\"] > 2]\n    dfb[\"cost\"] = dfb[\"cost\"] / 2\n\n    df = pd.concat([dfl, dfb])\n    df = df.sort_values([\"product\"], ascending=True)[df[\"number\"] > 0]\n    df.index = range(len(df.index)) \n\n    return df  ",
      "metadata": {
        "trusted": true
      },
      "outputs": [],
      "execution_count": null
    },
    {
      "cell_type": "markdown",
      "source": "## E. Длинные слова\n",
      "metadata": {}
    },
    {
      "cell_type": "code",
      "source": "import pandas as pd\n\n\ndef get_long(sl, **kwargs):\n    minl = kwargs.get(\"min_length\", 5)\n    return sl[sl >= minl]",
      "metadata": {
        "trusted": true
      },
      "outputs": [],
      "execution_count": null
    },
    {
      "cell_type": "markdown",
      "source": "## F. Отчёт успеваемости\n",
      "metadata": {}
    },
    {
      "cell_type": "code",
      "source": "import pandas as pd\nimport numpy as np\n\n\ndef best(data):\n    \n    ds = data[data[\"maths\"] >= 4][data[\"physics\"] >= 4][data[\"computer science\"] >= 4]\n    \n    return ds",
      "metadata": {
        "trusted": true
      },
      "outputs": [],
      "execution_count": null
    },
    {
      "cell_type": "markdown",
      "source": "## G. Отчёт неуспеваемости\n",
      "metadata": {}
    },
    {
      "cell_type": "code",
      "source": "import pandas as pd\n\n\ndef need_to_work_better(data):\n    \n    ds = pd.concat([\n        data[data[\"maths\"] == 2],\n        data[data[\"maths\"] != 2][data[\"physics\"] == 2], \n        data[data[\"maths\"] != 2][data[\"physics\"] != 2][data[\"computer science\"] == 2]\n    ])\n    ds = ds.sort_index()\n    \n    return ds",
      "metadata": {
        "trusted": true
      },
      "outputs": [],
      "execution_count": null
    },
    {
      "cell_type": "markdown",
      "source": "## H. Обновление журнала\n",
      "metadata": {}
    },
    {
      "cell_type": "code",
      "source": "import pandas as pd\n\n\ndef update(data):\n\n    ds = data.assign(average=lambda x: (x[\"maths\"] + x[\"physics\"] + x[\"computer science\"]) / 3)\n    ds = ds.sort_values([\"average\", \"name\"], ascending=[False, True])\n    \n    return ds",
      "metadata": {
        "trusted": true
      },
      "outputs": [],
      "execution_count": null
    },
    {
      "cell_type": "markdown",
      "source": "## I. Бесконечный морской бой\n",
      "metadata": {}
    },
    {
      "cell_type": "code",
      "source": "import pandas as pd\n\n\nsc1, sc2 = input().split(), input().split()\nx1, y1 = int(sc1[0]), int(sc1[1])\nx2, y2 = int(sc2[0]), int(sc2[1])\n\niter_data = pd.read_csv(\"data.csv\", iterator=True, chunksize=1500)\nout_data = pd.concat([data[data[\"x\"] >= x1][data[\"x\"] <= x2][data[\"y\"] >= y2][data[\"y\"] <= y1] for data in iter_data])\n\nprint(out_data)",
      "metadata": {
        "trusted": true
      },
      "outputs": [],
      "execution_count": null
    },
    {
      "cell_type": "markdown",
      "source": "## J. Экстремум функции",
      "metadata": {}
    },
    {
      "cell_type": "code",
      "source": "import pandas as pd\nimport numpy as np\n\n\ndef values(func, start, end, step):\n    x = np.arange(start, end + step, step)\n    y = [func(i) for i in x]\n\n    return pd.Series(y, index=x)\n\n\ndef min_extremum(data):\n    return data.idxmin()\n\n\ndef max_extremum(data):\n    return data.idxmax()",
      "metadata": {
        "trusted": true
      },
      "outputs": [],
      "execution_count": null
    }
  ]
}