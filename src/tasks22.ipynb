{
 "cells": [
  {
   "cell_type": "markdown",
   "metadata": {},
   "source": [
    "# 2.2. Условный оператор"
   ]
  },
  {
   "cell_type": "markdown",
   "metadata": {},
   "source": [
    "## A. Просто здравствуй, просто как дела\n"
   ]
  },
  {
   "cell_type": "code",
   "execution_count": null,
   "metadata": {},
   "outputs": [],
   "source": [
    "print('Как Вас зовут?')\n",
    "name = input()\n",
    "print(f'Здравствуйте, {name}!')\n",
    "print('Как дела?')\n",
    "state = str(input())\n",
    "if state == 'хорошо':\n",
    "    print('Я за вас рада!')\n",
    "elif state == 'плохо':\n",
    "    print('Всё наладится!')"
   ]
  },
  {
   "cell_type": "markdown",
   "metadata": {},
   "source": [
    "## B. Кто быстрее?\n"
   ]
  },
  {
   "cell_type": "code",
   "execution_count": null,
   "metadata": {},
   "outputs": [],
   "source": [
    "a, b = int(input()), int(input())\n",
    "if a > b:\n",
    "    print('Петя')\n",
    "else:    \n",
    "    print('Вася')"
   ]
  },
  {
   "cell_type": "markdown",
   "metadata": {},
   "source": [
    "## C. Кто быстрее на этот раз?\n"
   ]
  },
  {
   "cell_type": "code",
   "execution_count": null,
   "metadata": {},
   "outputs": [],
   "source": [
    "a, b, c = int(input()), int(input()), int(input())\n",
    "if b < a and c < a:\n",
    "    print('Петя')\n",
    "elif a < b and c < b:\n",
    "    print('Вася')\n",
    "else:\n",
    "    print('Толя')"
   ]
  },
  {
   "cell_type": "markdown",
   "metadata": {},
   "source": [
    "## D. Список победителей\n"
   ]
  },
  {
   "cell_type": "code",
   "execution_count": null,
   "metadata": {},
   "outputs": [],
   "source": [
    "a, b, c = int(input()), int(input()), int(input())\n",
    "sa, sb, sc = 'Петя', 'Вася', 'Толя'\n",
    "f = '1. {0}\\n2. {1}\\n3. {2}'\n",
    "f1, f2, f3 = '', '', ''\n",
    "if b < a and c < a:\n",
    "    f1 = sa\n",
    "    (f2, f3) = (sb, sc) if c < b else (sc, sb)\n",
    "elif a < b and c < b:\n",
    "    f1 = sb\n",
    "    if c < a:\n",
    "        f2, f3 = sa, sc\n",
    "    else:\n",
    "        f2, f3 = sc, sa    \n",
    "else:\n",
    "    f1 = sc\n",
    "    if b < a:\n",
    "        f2 = sa\n",
    "        f3 = sb \n",
    "    else:\n",
    "        f2 = sb\n",
    "        f3 = sa\n",
    "\n",
    "print(f.format(f1, f2, f3))"
   ]
  },
  {
   "cell_type": "markdown",
   "metadata": {},
   "source": [
    "## E. Яблоки\n"
   ]
  },
  {
   "cell_type": "code",
   "execution_count": null,
   "metadata": {},
   "outputs": [],
   "source": [
    "n, m = int(input()), int(input())\n",
    "if 6 + n > 12 + m:\n",
    "    print('Петя')\n",
    "else:\n",
    "    print('Вася')    "
   ]
  },
  {
   "cell_type": "markdown",
   "metadata": {},
   "source": [
    "## F. Сила прокрастинации\n"
   ]
  },
  {
   "cell_type": "code",
   "execution_count": null,
   "metadata": {},
   "outputs": [],
   "source": [
    "year = int(input())\n",
    "\n",
    "if (year % 4 == 0 and year % 100 != 0) or year % 400 == 0:\n",
    "    print('YES')\n",
    "else:\n",
    "    print('NO')    "
   ]
  },
  {
   "cell_type": "markdown",
   "metadata": {},
   "source": [
    "## G. А роза упала на лапу Азора\n"
   ]
  },
  {
   "cell_type": "code",
   "execution_count": null,
   "metadata": {},
   "outputs": [],
   "source": [
    "v = str(input())\n",
    "\n",
    "if v[0] == v[3] and v[1] == v[2]:\n",
    "    print('YES')\n",
    "else:\n",
    "    print('NO')    "
   ]
  },
  {
   "cell_type": "code",
   "execution_count": null,
   "metadata": {},
   "outputs": [],
   "source": [
    "v = int(input())\n",
    "\n",
    "if v // 1000 == v % 10 and v // 100 % 10 == v // 10 % 10:\n",
    "    print('YES')\n",
    "else:\n",
    "    print('NO')    "
   ]
  },
  {
   "cell_type": "markdown",
   "metadata": {},
   "source": [
    "## H. Зайка — 1\n"
   ]
  },
  {
   "cell_type": "code",
   "execution_count": null,
   "metadata": {},
   "outputs": [],
   "source": [
    "s = str(input())\n",
    "\n",
    "if 'зайка' in s:\n",
    "    print('YES')\n",
    "else:    \n",
    "    print('NO')"
   ]
  },
  {
   "cell_type": "markdown",
   "metadata": {},
   "source": [
    "## I. Первому игроку приготовиться\n"
   ]
  },
  {
   "cell_type": "code",
   "execution_count": null,
   "metadata": {},
   "outputs": [],
   "source": [
    "a, b, c = str(input()), str(input()), str(input())\n",
    "print(min(a, b, c))"
   ]
  },
  {
   "cell_type": "markdown",
   "metadata": {},
   "source": [
    "## J. Лучшая защита — шифрование\n"
   ]
  },
  {
   "cell_type": "code",
   "execution_count": null,
   "metadata": {},
   "outputs": [],
   "source": [
    "v = int(input())\n",
    "a = v // 10 % 10 + v % 10\n",
    "b = v // 100 + v // 10 % 10\n",
    "if a > b:\n",
    "    print(a, b, sep='')\n",
    "else:\n",
    "    print(str(b) + str(a))  "
   ]
  },
  {
   "cell_type": "markdown",
   "metadata": {},
   "source": [
    "## K. Красота спасёт мир\n"
   ]
  },
  {
   "cell_type": "code",
   "execution_count": null,
   "metadata": {},
   "outputs": [],
   "source": [
    "v = int(input())\n",
    "\n",
    "a = v // 100\n",
    "b = v // 10 % 10\n",
    "c = v % 10\n",
    "\n",
    "minv = min(a, b, c)\n",
    "maxv = max(a, b, c)\n",
    "\n",
    "f = a\n",
    "if b != minv and b != maxv:\n",
    "    f = b\n",
    "if c != minv and c != maxv:\n",
    "    f = c\n",
    "\n",
    "if minv + maxv == f * 2:\n",
    "    print(\"YES\")\n",
    "else:    \n",
    "    print(\"NO\")"
   ]
  },
  {
   "cell_type": "code",
   "execution_count": null,
   "metadata": {},
   "outputs": [],
   "source": [
    "v = int(input())\n",
    "\n",
    "a = v // 100\n",
    "b = v // 10 % 10\n",
    "c = v % 10\n",
    "\n",
    "minv = min(a, b, c)\n",
    "maxv = max(a, b, c)\n",
    "\n",
    "f = a\n",
    "if minv < b < maxv:\n",
    "    f = b\n",
    "if minv < c < maxv:\n",
    "    f = c\n",
    "\n",
    "if minv + maxv == f * 2:\n",
    "    print(\"YES\")\n",
    "else:    \n",
    "    print(\"NO\")"
   ]
  },
  {
   "cell_type": "code",
   "execution_count": null,
   "metadata": {},
   "outputs": [],
   "source": [
    "v = int(input())\n",
    "\n",
    "a = v // 100\n",
    "b = v // 10 % 10\n",
    "c = v % 10\n",
    "\n",
    "minv = min(a, b, c)\n",
    "maxv = max(a, b, c)\n",
    "\n",
    "f = a + b + c - maxv - minv\n",
    "\n",
    "if minv + maxv == f * 2:\n",
    "    print(\"YES\")\n",
    "else:    \n",
    "    print(\"NO\")"
   ]
  },
  {
   "cell_type": "markdown",
   "metadata": {},
   "source": [
    "## L. Музыкальный инструмент\n"
   ]
  },
  {
   "cell_type": "code",
   "execution_count": null,
   "metadata": {},
   "outputs": [],
   "source": [
    "a, b, c = int(input()), int(input()), int(input())\n",
    "if a + b > c and a + c > b and b + c > a:\n",
    "    print('YES')\n",
    "else:  \n",
    "    print('NO')"
   ]
  },
  {
   "cell_type": "markdown",
   "metadata": {},
   "source": [
    "## M. Властелин Чисел: Братство общей цифры\n"
   ]
  },
  {
   "cell_type": "code",
   "execution_count": null,
   "metadata": {},
   "outputs": [],
   "source": [
    "a, b, c = int(input()), int(input()), int(input())\n",
    "\n",
    "if a // 10 == b // 10 == c // 10:\n",
    "    print(a // 10)\n",
    "else:  \n",
    "    print(a % 10)  "
   ]
  },
  {
   "cell_type": "code",
   "execution_count": null,
   "metadata": {},
   "outputs": [],
   "source": [
    "a, b, c = int(input()), int(input()), int(input())\n",
    "\n",
    "if a // 10 == b // 10 == c // 10:\n",
    "    print(a // 10)\n",
    "elif a % 10 == b % 10 == c % 10:  \n",
    "    print(a % 10)  "
   ]
  },
  {
   "cell_type": "markdown",
   "metadata": {},
   "source": [
    "## N. Властелин Чисел: Две Башни\n"
   ]
  },
  {
   "cell_type": "code",
   "execution_count": null,
   "metadata": {},
   "outputs": [],
   "source": [
    "v = int(input())\n",
    "a = v // 100\n",
    "b = v // 10 % 10\n",
    "c = v % 10\n",
    "\n",
    "maxf = max(a, b, c)\n",
    "minf = min(a, b, c)\n",
    "\n",
    "f = a + b + c - maxf - minf\n",
    "\n",
    "if minf != 0:\n",
    "    print(minf, f, ' ', maxf, f, sep='')\n",
    "elif f == 0:\n",
    "    print('{0}0 {1}0'.format(maxf, maxf))\n",
    "else:\n",
    "    print(f, minf, ' ', maxf, f, sep='')"
   ]
  },
  {
   "cell_type": "markdown",
   "metadata": {},
   "source": [
    "## O. Властелин Чисел: Возвращение Цезаря\n"
   ]
  },
  {
   "cell_type": "code",
   "execution_count": null,
   "metadata": {},
   "outputs": [],
   "source": [
    "a, b = int(input()), int(input())\n",
    "\n",
    "a1, a2 = a // 10, a % 10\n",
    "b1, b2 = b // 10, b % 10\n",
    "\n",
    "v1 = max(a1, a2, b1, b2)\n",
    "v3 = min(a1, a2, b1, b2)\n",
    "v2 = a1 + a2 + b1 + b2 - v1 - v3\n",
    "\n",
    "print(v1, v2 % 10, v3, sep='') "
   ]
  },
  {
   "cell_type": "markdown",
   "metadata": {},
   "source": [
    "## P. Легенды велогонок возвращаются: кто быстрее?\n"
   ]
  },
  {
   "cell_type": "code",
   "execution_count": null,
   "metadata": {},
   "outputs": [],
   "source": [
    "a, b, c = int(input()), int(input()), int(input())\n",
    "an, bn, cn = 'Петя', 'Вася', 'Толя'\n",
    "\n",
    "space = ' '\n",
    "maxv = max(a, b, c)\n",
    "\n",
    "if a == maxv:\n",
    "    (f1, f2, f3) = (an, bn, cn) if b > c else (an, cn, bn)\n",
    "elif b == maxv:    \n",
    "    (f1, f2, f3) = (bn, an, cn) if a > c else (bn, cn, an)  \n",
    "else:    \n",
    "    (f1, f2, f3) = (cn, an, bn) if a > b else (cn, bn, an)\n",
    "\n",
    "f = f\"\"\"{space * 8}{f1: ^8}{space * 8}\n",
    "{f2: ^8}{space * 16}\n",
    "{space * 16}{f3: ^8}\n",
    "   II      I      III   \n",
    "\"\"\"\n",
    "\n",
    "print(f)"
   ]
  },
  {
   "cell_type": "markdown",
   "metadata": {},
   "source": [
    "## Q. Корень зла\n"
   ]
  },
  {
   "cell_type": "code",
   "execution_count": null,
   "metadata": {},
   "outputs": [],
   "source": [
    "a, b, c = float(input()), float(input()), float(input())\n",
    "\n",
    "d = b ** 2 - 4 * a * c\n",
    "\n",
    "if abs(a) + abs(b) + abs(c) == 0:\n",
    "    print('Infinite solutions')\n",
    "elif a == 0 and b != 0:\n",
    "    print(f'{(-c / b):.2f}')    \n",
    "elif d > 0 and a != 0:\n",
    "    v1 = (-b + d ** 0.5) / (2 * a)\n",
    "    v2 = -(b + d ** 0.5) / (2 * a)\n",
    "    print(f'{min(v1, v2):.2f} {max(v1, v2):.2f}')\n",
    "elif d == 0 and a != 0:\n",
    "    print(f'{(-0.5 * b / a):.2f}')\n",
    "else:\n",
    "    print('No solution')"
   ]
  },
  {
   "cell_type": "code",
   "execution_count": null,
   "metadata": {},
   "outputs": [],
   "source": [
    "a, b, c = float(input()), float(input()), float(input())\n",
    "\n",
    "d = b ** 2 - 4 * a * c\n",
    "\n",
    "if abs(a) + abs(b) + abs(c) == 0:\n",
    "    print('Infinite solutions')\n",
    "elif a == 0 and b != 0:\n",
    "    print(f'{(-c / b):.2f}')    \n",
    "elif d > 0 and a != 0:\n",
    "    v1 = (-b + d ** 0.5) / (2 * a)\n",
    "    v2 = -(b + d ** 0.5) / (2 * a)\n",
    "    print(f'{min(v1, v2):.2f} {max(v1, v2):.2f}')\n",
    "elif d == 0 and a != 0:\n",
    "    print(f'{(-0.5 * b / a):.2f}')\n",
    "else:\n",
    "    print('No solution')"
   ]
  },
  {
   "cell_type": "code",
   "execution_count": null,
   "metadata": {},
   "outputs": [],
   "source": [
    "a, b, c = float(input()), float(input()), float(input())\n",
    "\n",
    "d = b ** 2 - 4 * a * c\n",
    "\n",
    "if abs(a) + abs(b) + abs(c) == 0:\n",
    "    print('Infinite solutions')\n",
    "elif a == 0 and b != 0:\n",
    "    print(f'{(-c / b):.2f}')    \n",
    "elif d > 0 and a != 0:\n",
    "    v1 = (-b + d ** 0.5) / (2 * a)\n",
    "    v2 = -(b + d ** 0.5) / (2 * a)\n",
    "    print(f'{min(v1, v2):.2f} {max(v1, v2):.2f}')\n",
    "elif d == 0 and a != 0:\n",
    "    print(f'{(-0.5 * b / a):.2f}')\n",
    "else:\n",
    "    print('No solution')"
   ]
  },
  {
   "cell_type": "markdown",
   "metadata": {},
   "source": [
    "## R. Территория зла\n"
   ]
  },
  {
   "cell_type": "code",
   "execution_count": null,
   "metadata": {},
   "outputs": [],
   "source": [
    "a, b, c = int(input()), int(input()), int(input())\n",
    "\n",
    "m = max(a, b, c)\n",
    "s = min(a, b, c)\n",
    "v = a + b + c - m - s\n",
    "\n",
    "if m ** 2 == s ** 2 + v ** 2:\n",
    "    print('100%')\n",
    "elif m ** 2 > s ** 2 + v ** 2:\n",
    "    print('велика')\n",
    "else:\n",
    "    print('крайне мала')"
   ]
  },
  {
   "cell_type": "markdown",
   "metadata": {},
   "source": [
    "## S. Автоматизация безопасности\n"
   ]
  },
  {
   "cell_type": "code",
   "execution_count": null,
   "metadata": {},
   "outputs": [],
   "source": [
    "x, y = float(input()), float(input())\n",
    "\n",
    "a = 'Опасность! Покиньте зону как можно скорее!'\n",
    "b = 'Зона безопасна. Продолжайте работу.'\n",
    "c = 'Вы вышли в море и рискуете быть съеденным акулой!'\n",
    "\n",
    "r = b\n",
    "\n",
    "if x ** 2 + y ** 2 > 100:\n",
    "    r = c\n",
    "elif y >= 0:\n",
    "    if x > 0:\n",
    "        r = a if x ** 2 + y ** 2 < 25 else b\n",
    "    else:\n",
    "        if -7 <= x < -4 and (5.0 / 3) * (x + 7) >= y:\n",
    "            r = a\n",
    "        elif -4 <= x <= 0 and y <= 5:\n",
    "            r = a\n",
    "else:\n",
    "    r = a if 0.25 * x ** 2 + 0.5 * x + -8.75 <= 0 else b\n",
    "\n",
    "print(r)"
   ]
  },
  {
   "cell_type": "markdown",
   "metadata": {},
   "source": [
    "## T. Зайка — 2"
   ]
  },
  {
   "cell_type": "code",
   "execution_count": null,
   "metadata": {},
   "outputs": [],
   "source": [
    "s1, s2, s3 = str(input()), str(input()), str(input())\n",
    "ss = 'зайка'\n",
    "\n",
    "m = 0\n",
    "\n",
    "if ss in s1:\n",
    "    m += 2\n",
    "if ss in s2:\n",
    "    m += 3\n",
    "if ss in s3:\n",
    "    m += 4\n",
    "\n",
    "match m:\n",
    "    case 2:\n",
    "        print(s1, len(s1))\n",
    "    case 3:\n",
    "        print(s2, len(s2))\n",
    "    case 4:\n",
    "        print(s3, len(s3))\n",
    "    case 5:\n",
    "        s = s1 if s1 < s2 else s2\n",
    "        print(s, len(s))\n",
    "    case 6:\n",
    "        s = s1 if s1 < s3 else s3\n",
    "        print(s, len(s))\n",
    "    case 7:\n",
    "        s = s2 if s2 < s3 else s3\n",
    "        print(s, len(s))\n",
    "    case 9:\n",
    "        s = s1 if s1 < s3 else s3\n",
    "        s = s2 if s2 < s else s\n",
    "        print(s, len(s))"
   ]
  }
 ],
 "metadata": {
  "language_info": {
   "name": "python"
  }
 },
 "nbformat": 4,
 "nbformat_minor": 2
}
