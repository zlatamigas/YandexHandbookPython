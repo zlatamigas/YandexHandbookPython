{
 "cells": [
  {
   "cell_type": "markdown",
   "metadata": {},
   "source": [
    "# 2.3. Циклы"
   ]
  },
  {
   "cell_type": "markdown",
   "metadata": {},
   "source": [
    "## A. Раз, два, три! Ёлочка, гори!\n"
   ]
  },
  {
   "cell_type": "code",
   "execution_count": null,
   "metadata": {},
   "outputs": [],
   "source": [
    "s1 = 'Режим ожидания...'\n",
    "s2 = 'Ёлочка, гори!'\n",
    "\n",
    "while str(input()) != 'Три!':\n",
    "    print(s1)\n",
    "\n",
    "print(s2)    "
   ]
  },
  {
   "cell_type": "markdown",
   "metadata": {},
   "source": [
    "## B. Зайка — 3\n"
   ]
  },
  {
   "cell_type": "code",
   "execution_count": null,
   "metadata": {},
   "outputs": [],
   "source": [
    "z = 0\n",
    "\n",
    "while (s := input()) != 'Приехали!':\n",
    "    if 'зайка' in s:\n",
    "        z += 1\n",
    "\n",
    "print(z)"
   ]
  },
  {
   "cell_type": "markdown",
   "metadata": {},
   "source": [
    "## C. Считалочка\n"
   ]
  },
  {
   "cell_type": "code",
   "execution_count": null,
   "metadata": {},
   "outputs": [],
   "source": [
    "m, n = int(input()), int(input())\n",
    "\n",
    "print(*range(m, n + 1))"
   ]
  },
  {
   "cell_type": "code",
   "execution_count": null,
   "metadata": {},
   "outputs": [],
   "source": [
    "m, n = int(input()), int(input())\n",
    "\n",
    "for i in range(m, n + 1):\n",
    "    print(i, end=' ')"
   ]
  },
  {
   "cell_type": "markdown",
   "metadata": {},
   "source": [
    "## D. Считалочка 2.0\n"
   ]
  },
  {
   "cell_type": "code",
   "execution_count": null,
   "metadata": {},
   "outputs": [],
   "source": [
    "m, n = int(input()), int(input())\n",
    "\n",
    "if n >= m:\n",
    "    for i in range(m, n + 1, 1):\n",
    "        print(i, end=' ')\n",
    "else:\n",
    "    for i in range(m, n - 1, -1):\n",
    "        print(i, end=' ')"
   ]
  },
  {
   "cell_type": "markdown",
   "metadata": {},
   "source": [
    "## E. Внимание! Акция!\n"
   ]
  },
  {
   "cell_type": "code",
   "execution_count": null,
   "metadata": {},
   "outputs": [],
   "source": [
    "s = 0.0\n",
    "\n",
    "while (v := float(input())) != 0:\n",
    "    s += 0.9 * v if v >= 500 else v\n",
    "\n",
    "print(s)"
   ]
  },
  {
   "cell_type": "markdown",
   "metadata": {},
   "source": [
    "## F. НОД\n"
   ]
  },
  {
   "cell_type": "code",
   "execution_count": null,
   "metadata": {},
   "outputs": [],
   "source": [
    "a, b = int(input()), int(input())\n",
    "\n",
    "while a != 0 and b != 0:\n",
    "    if a > b:\n",
    "        a = a % b\n",
    "    else:\n",
    "        b = b % a    \n",
    "\n",
    "print(a + b)"
   ]
  },
  {
   "cell_type": "markdown",
   "metadata": {},
   "source": [
    "## G. НОК\n"
   ]
  },
  {
   "cell_type": "code",
   "execution_count": null,
   "metadata": {},
   "outputs": [],
   "source": [
    "av, bv = int(input()), int(input())\n",
    "a, b = av, bv\n",
    "\n",
    "while a != 0 and b != 0:\n",
    "    m = min(a, b)\n",
    "    a, b = max(a, b) % m, m\n",
    "\n",
    "print(av // (a + b) * bv)"
   ]
  },
  {
   "cell_type": "markdown",
   "metadata": {},
   "source": [
    "## H. Излишняя автоматизация 2.0\n"
   ]
  },
  {
   "cell_type": "code",
   "execution_count": null,
   "metadata": {},
   "outputs": [],
   "source": [
    "s = str(input())\n",
    "r = int(input())\n",
    "\n",
    "for i in range(r):\n",
    "    print(s)"
   ]
  },
  {
   "cell_type": "markdown",
   "metadata": {},
   "source": [
    "## I. Факториал\n"
   ]
  },
  {
   "cell_type": "code",
   "execution_count": null,
   "metadata": {},
   "outputs": [],
   "source": [
    "m = int(input())\n",
    "v = 1\n",
    "\n",
    "if m > 1:\n",
    "    for i in range(2, m + 1):\n",
    "        v *= i\n",
    "\n",
    "print(v)"
   ]
  },
  {
   "cell_type": "markdown",
   "metadata": {},
   "source": [
    "## J. Маршрут построен\n"
   ]
  },
  {
   "cell_type": "code",
   "execution_count": null,
   "metadata": {},
   "outputs": [],
   "source": [
    "x, y = 0, 0\n",
    "\n",
    "while (dirct := input()) != 'СТОП':\n",
    "    st = int(input())\n",
    "    match dirct:\n",
    "        case 'СЕВЕР':\n",
    "            y += st\n",
    "        case 'ЮГ':\n",
    "            y -= st\n",
    "        case 'ЗАПАД':\n",
    "            x -= st\n",
    "        case 'ВОСТОК':\n",
    "            x += st\n",
    "\n",
    "print(y)\n",
    "print(x)"
   ]
  },
  {
   "cell_type": "markdown",
   "metadata": {},
   "source": [
    "## K. Цифровая сумма\n"
   ]
  },
  {
   "cell_type": "code",
   "execution_count": null,
   "metadata": {},
   "outputs": [],
   "source": [
    "v = int(input())\n",
    "s = 0\n",
    "\n",
    "while v != 0:\n",
    "    s += v % 10\n",
    "    v //= 10\n",
    "\n",
    "print(s)    "
   ]
  },
  {
   "cell_type": "markdown",
   "metadata": {},
   "source": [
    "## L. Сильная цифра\n"
   ]
  },
  {
   "cell_type": "code",
   "execution_count": null,
   "metadata": {},
   "outputs": [],
   "source": [
    "v = int(input())\n",
    "m = 0\n",
    "\n",
    "while v != 0:\n",
    "    m = max(m, v % 10)\n",
    "    v //= 10\n",
    "\n",
    "print(m)"
   ]
  },
  {
   "cell_type": "markdown",
   "metadata": {},
   "source": [
    "## M. Первому игроку приготовиться 2.0\n"
   ]
  },
  {
   "cell_type": "code",
   "execution_count": null,
   "metadata": {},
   "outputs": [],
   "source": [
    "n = int(input())\n",
    "\n",
    "s = input()\n",
    "for i in range(n - 1):\n",
    "    sv = input()\n",
    "    s = sv if sv < s else s\n",
    "\n",
    "print(s)    "
   ]
  },
  {
   "cell_type": "markdown",
   "metadata": {},
   "source": [
    "## N. Простая задача\n"
   ]
  },
  {
   "cell_type": "code",
   "execution_count": null,
   "metadata": {},
   "outputs": [],
   "source": [
    "v = int(input())\n",
    "\n",
    "d = 2\n",
    "while d * d <= v and v % d != 0:\n",
    "    d += 1\n",
    "r = 'YES' if d * d > v and v != 1 else 'NO'\n",
    "\n",
    "print(r)"
   ]
  },
  {
   "cell_type": "markdown",
   "metadata": {},
   "source": [
    "## O. Зайка - 4\n"
   ]
  },
  {
   "cell_type": "code",
   "execution_count": null,
   "metadata": {},
   "outputs": [],
   "source": [
    "n = int(input())\n",
    "v = 0\n",
    "\n",
    "for i in range(n):\n",
    "    if 'зайка' in str(input()):\n",
    "        v += 1\n",
    "\n",
    "print(v)"
   ]
  },
  {
   "cell_type": "markdown",
   "metadata": {},
   "source": [
    "## P. А роза упала на лапу Азора 2.0"
   ]
  },
  {
   "cell_type": "code",
   "execution_count": null,
   "metadata": {},
   "outputs": [],
   "source": [
    "v = int(input())\n",
    "r = 'YES'\n",
    "\n",
    "k = len(str(v))\n",
    "d = 10 ** (k - 1)\n",
    "\n",
    "while k > 1:\n",
    "    va = v // d\n",
    "    vb = v % 10\n",
    "    if va != vb:\n",
    "        r = 'NO'\n",
    "        break\n",
    "    else:\n",
    "        v = (v - va * d) // 10\n",
    "        k -= 2\n",
    "        d //= 100\n",
    "\n",
    "print(r)"
   ]
  },
  {
   "cell_type": "markdown",
   "metadata": {},
   "source": [
    "## Q. Чётная чистота"
   ]
  },
  {
   "cell_type": "code",
   "execution_count": null,
   "metadata": {},
   "outputs": [],
   "source": [
    "v = int(input())\n",
    "r = 0\n",
    "k = 1\n",
    "\n",
    "while v > 0:\n",
    "    a = v % 10\n",
    "    if a % 2 != 0:\n",
    "        r += a * k\n",
    "        k *= 10\n",
    "    v //= 10    \n",
    "print(r)"
   ]
  },
  {
   "cell_type": "markdown",
   "metadata": {},
   "source": [
    "## R. Простая задача 2.0\n"
   ]
  },
  {
   "cell_type": "code",
   "execution_count": null,
   "metadata": {},
   "outputs": [],
   "source": [
    "v = int(input())\n",
    "hf = False\n",
    "\n",
    "while v > 1:\n",
    "    d = 2\n",
    "    while d * d <= v and v % d != 0:\n",
    "        d += 1\n",
    "    rv = v if d * d > v else d\n",
    "    if hf:\n",
    "        print(f\" * {rv}\", end='')\n",
    "    else:\n",
    "        print(rv, end='')\n",
    "        hf = True    \n",
    "    v //= rv"
   ]
  },
  {
   "cell_type": "markdown",
   "metadata": {},
   "source": [
    "## S. Игра в «Угадайку»\n"
   ]
  },
  {
   "cell_type": "code",
   "execution_count": null,
   "metadata": {},
   "outputs": [],
   "source": [
    "a, b = 1, 1001\n",
    "v = 501\n",
    "\n",
    "print(v)\n",
    "\n",
    "while (s := input()) != 'Угадал!':\n",
    "    if s == 'Больше':\n",
    "        a = v\n",
    "    elif s == 'Меньше':\n",
    "        b = v\n",
    "    v = (a + b) // 2\n",
    "    print(v)"
   ]
  },
  {
   "cell_type": "markdown",
   "metadata": {},
   "source": [
    "## T. Хайпанём немножечко!"
   ]
  },
  {
   "cell_type": "code",
   "execution_count": null,
   "metadata": {},
   "outputs": [],
   "source": [
    "n = int(input())\n",
    "ri = -1\n",
    "\n",
    "hnp = 0\n",
    "i = 0\n",
    "while i < n and ri == -1:\n",
    "    b = int(input())\n",
    "    m = b // 65536\n",
    "    b %= 65536\n",
    "    r = b // 256\n",
    "    hn = b % 256\n",
    "\n",
    "    if hn >= 100 or (37 * (m + r + hnp)) % 256 != hn:\n",
    "        ri = i\n",
    "    \n",
    "    hnp = hn\n",
    "    i += 1    \n",
    "\n",
    "print(ri) "
   ]
  }
 ],
 "metadata": {
  "language_info": {
   "name": "python"
  }
 },
 "nbformat": 4,
 "nbformat_minor": 2
}
