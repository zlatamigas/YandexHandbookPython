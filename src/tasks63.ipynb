{
  "metadata": {
    "kernelspec": {
      "name": "python",
      "display_name": "Python (Pyodide)",
      "language": "python"
    },
    "language_info": {
      "codemirror_mode": {
        "name": "python",
        "version": 3
      },
      "file_extension": ".py",
      "mimetype": "text/x-python",
      "name": "python",
      "nbconvert_exporter": "python",
      "pygments_lexer": "ipython3",
      "version": "3.8"
    }
  },
  "nbformat_minor": 4,
  "nbformat": 4,
  "cells": [
    {
      "cell_type": "markdown",
      "source": "# Модуль requests",
      "metadata": {}
    },
    {
      "cell_type": "markdown",
      "source": "## A. Проверка системы\n",
      "metadata": {}
    },
    {
      "cell_type": "code",
      "source": "from requests import get\n\n\naddr = \"http://127.0.0.1:5000/\"\nresponse = get(addr)\nst = response.content.decode('utf-8')\nprint(st)",
      "metadata": {
        "trusted": true
      },
      "outputs": [],
      "execution_count": null
    },
    {
      "cell_type": "markdown",
      "source": "## B. Суммирование ответов\n",
      "metadata": {}
    },
    {
      "cell_type": "code",
      "source": "from requests import get\n\naddr = \"http://\" + input() + \"/\"\n\ns = 0\nreceive = True\n\nwhile receive:\n    response = get(addr)\n    v = int(response.content.decode('utf-8'))\n    s += v\n    if v == 0:\n        receive = False\n\nprint(s)",
      "metadata": {
        "trusted": true
      },
      "outputs": [],
      "execution_count": null
    },
    {
      "cell_type": "markdown",
      "source": "## C. Суммирование ответов 2\n",
      "metadata": {}
    },
    {
      "cell_type": "code",
      "source": "from requests import get\n\naddr = \"http://\" + input() + \"/\"\nresponse = get(addr)\nli = response.json()\ns = sum([int(x) if isinstance(x, (int, float)) else 0 for x in li])\n\nprint(s)",
      "metadata": {
        "trusted": true
      },
      "outputs": [],
      "execution_count": null
    },
    {
      "cell_type": "code",
      "source": "from requests import get\n\naddr = \"http://\" + input() + \"/\"\nresponse = get(addr)\nli = response.json()\ns = sum([x if isinstance(x, (int, float)) else 0 for x in li])\n\nprint(s)",
      "metadata": {
        "trusted": true
      },
      "outputs": [],
      "execution_count": null
    },
    {
      "cell_type": "markdown",
      "source": "## D. Конкретное значение\n",
      "metadata": {}
    },
    {
      "cell_type": "code",
      "source": "from requests import get\n\naddr = \"http://\" + input() + \"/\" \nkey = input()\nresponse = get(addr)\nd = response.json()\n\nprint(d.get(key, \"No data\"))",
      "metadata": {
        "trusted": true
      },
      "outputs": [],
      "execution_count": null
    },
    {
      "cell_type": "markdown",
      "source": "## E. Суммирование ответов 3\n",
      "metadata": {}
    },
    {
      "cell_type": "code",
      "source": "from requests import get\nfrom sys import stdin\n\n\naddr = \"http://\" + input()\n\nli = []\nfor p in stdin.readlines():\n    li += get(addr + p.rstrip(\"\\n\")).json()\n\ns = sum([x if isinstance(x, (int, float)) else 0 for x in li])\n\nprint(s)",
      "metadata": {
        "trusted": true
      },
      "outputs": [],
      "execution_count": null
    },
    {
      "cell_type": "markdown",
      "source": "## F. Список пользователей\n",
      "metadata": {}
    },
    {
      "cell_type": "code",
      "source": "from requests import get\n\naddr = \"http://\" + input() + \"/users\"\nresponse = get(addr)\njd = response.json()\n\nnames = [f'{x[\"last_name\"]} {x[\"first_name\"]}' for x in jd]\nnames.sort()\n\nfor n in names:\n    print(n)",
      "metadata": {
        "trusted": true
      },
      "outputs": [],
      "execution_count": null
    },
    {
      "cell_type": "markdown",
      "source": "## G. Рассылка сообщений\n",
      "metadata": {}
    },
    {
      "cell_type": "code",
      "source": "from requests import get\nfrom sys import stdin\n\nlines = stdin.readlines()\n\naddr = \"http://\" + lines[0].rstrip(\"\\n\") + \"/users/\" + lines[1].rstrip(\"\\n\")\n\nids = int(lines[1].rstrip(\"\\n\"))\nmsg = \"\".join(lines[2:])\n\nresp = get(addr)\nif resp.status_code != 404:\n    per = resp.json()\n    un = per[\"username\"]\n    ln = per[\"last_name\"]\n    s = msg.format(id=ids, username=un, last_name=ln, first_name=per[\"first_name\"], email=per[\"email\"])\n    print(s)\nelse:  \n    print(\"Пользователь не найден\")      ",
      "metadata": {
        "trusted": true
      },
      "outputs": [],
      "execution_count": null
    },
    {
      "cell_type": "markdown",
      "source": "## H. Регистрация нового пользователя\n",
      "metadata": {}
    },
    {
      "cell_type": "code",
      "source": "from requests import post\n\naddr = \"http://\" + input() + \"/users\"\n\nuser = {\n    \"username\": input(),\n    \"last_name\": input(),\n    \"first_name\": input(),\n    \"email\": input()    \n}\n\nresp = post(addr, json=user)    ",
      "metadata": {
        "trusted": true
      },
      "outputs": [],
      "execution_count": null
    },
    {
      "cell_type": "code",
      "source": "from requests import post\nimport json\n\naddr = \"http://\" + input() + \"/users\"\n\nuser = {\n    \"username\": input(),\n    \"last_name\": input(),\n    \"first_name\": input(),\n    \"email\": input()    \n}\n\nresp = post(addr, data=json.dumps(user))    ",
      "metadata": {
        "trusted": true
      },
      "outputs": [],
      "execution_count": null
    },
    {
      "cell_type": "markdown",
      "source": "## I. Изменение данных\n",
      "metadata": {}
    },
    {
      "cell_type": "code",
      "source": "from requests import put\nfrom sys import stdin\nimport json\n\nlines = stdin.readlines()\n\naddr = \"http://\" + lines[0].rstrip(\"\\n\") + \"/users/\" + lines[1].rstrip(\"\\n\")\n\nids = int(lines[1].rstrip(\"\\n\"))\n\nuser = dict()\nfor s in lines[2:]:\n    sv = s.rstrip(\"\\n\").split(\"=\")\n    user[sv[0]] = sv[1]\n\nresp = put(addr, data=json.dumps(user))  ",
      "metadata": {
        "trusted": true
      },
      "outputs": [],
      "execution_count": null
    },
    {
      "cell_type": "markdown",
      "source": "## J. Удаление данных",
      "metadata": {}
    },
    {
      "cell_type": "code",
      "source": "from requests import delete\n\n\nresp = delete(\"http://\" + input() + \"/users/\" + input())",
      "metadata": {
        "trusted": true
      },
      "outputs": [],
      "execution_count": null
    }
  ]
}