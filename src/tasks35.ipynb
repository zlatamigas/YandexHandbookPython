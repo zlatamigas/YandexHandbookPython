{
  "metadata": {
    "kernelspec": {
      "name": "python",
      "display_name": "Python (Pyodide)",
      "language": "python"
    },
    "language_info": {
      "name": ""
    }
  },
  "nbformat_minor": 4,
  "nbformat": 4,
  "cells": [
    {
      "cell_type": "markdown",
      "source": "# 3.5. Потоковый ввод/вывод. Работа с текстовыми файлами. JSON",
      "metadata": {}
    },
    {
      "cell_type": "markdown",
      "source": "## A. A+B+...\n",
      "metadata": {}
    },
    {
      "cell_type": "code",
      "source": "from sys import stdin\n\nsu = 0\nfor vs in stdin:\n    v = vs.split()\n    for i in v:\n        su += int(i)\n\nprint(su)",
      "metadata": {
        "trusted": true
      },
      "outputs": [],
      "execution_count": null
    },
    {
      "cell_type": "code",
      "source": "from sys import stdin\nfrom itertools import chain, accumulate\n\nlines = chain.from_iterable([line.split() for line in stdin.readlines()]) \nres = list(accumulate(lines, lambda s, a: int(s) + int(a)))\n\nprint(res[-1])",
      "metadata": {
        "trusted": true
      },
      "outputs": [],
      "execution_count": null
    },
    {
      "cell_type": "markdown",
      "source": "## B. Средний рост\n",
      "metadata": {}
    },
    {
      "cell_type": "code",
      "source": "from sys import stdin\n\nn = 0\nsumm = 0\n\nfor s in stdin:\n    ss = s.split()\n    summ += int(ss[2]) - int(ss[1])\n    n += 1\n\nprint(round(summ / n))    ",
      "metadata": {
        "trusted": true
      },
      "outputs": [],
      "execution_count": null
    },
    {
      "cell_type": "markdown",
      "source": "## C. Без комментариев 2.0\n",
      "metadata": {}
    },
    {
      "cell_type": "code",
      "source": "from sys import stdin\n\nfor s in stdin:\n    s = s.rstrip('\\n')\n    i = s.find('#')\n    if i == -1:\n        print(s)\n    elif i > 0:\n        print(s[:i])    ",
      "metadata": {
        "trusted": true
      },
      "outputs": [],
      "execution_count": null
    },
    {
      "cell_type": "markdown",
      "source": "## D. Найдётся всё 2.0\n",
      "metadata": {}
    },
    {
      "cell_type": "code",
      "source": "from sys import stdin\n\nlines = stdin.readlines()\n\ntitles = lines[:-1]\nsear = lines[-1].rstrip('\\n').lower()\n\nfor s in titles:\n    if sear in s.lower():\n        print(s, end='')",
      "metadata": {
        "trusted": true
      },
      "outputs": [],
      "execution_count": null
    },
    {
      "cell_type": "markdown",
      "source": "## E. А роза упала на лапу Азора 6.0\n",
      "metadata": {}
    },
    {
      "cell_type": "code",
      "source": "from sys import stdin\n\npol = set()\n\nfor line in stdin:\n    for s in line.rstrip('\\n').split():\n        sv = s.lower()\n\n        for i in range(len(sv) // 2):\n            if sv[i] != sv[-1 - i]:\n                break\n        else:\n            pol.add(s)        \n\nfor v in sorted(list(pol)):\n    print(v)",
      "metadata": {
        "trusted": true
      },
      "outputs": [],
      "execution_count": null
    },
    {
      "cell_type": "markdown",
      "source": "## F. Транслитерация 2.0\n",
      "metadata": {}
    },
    {
      "cell_type": "code",
      "source": "d = {\n    'А': 'A',\n    'Б': 'B',\n    'В': 'V',\n    'Г': 'G',\n    'Д': 'D',\n    'Е': 'E',\n    'Ё': 'E',\n    'Ж': 'ZH',\n    'З': 'Z',\n    'И': 'I',\n    'Й': 'I',\n    'К': 'K',\n    'Л': 'L',\n    'М': 'M',\n    'Н': 'N',\n    'О': 'O',\n    'П': 'P',\n    'Р': 'R',\n    'С': 'S',\n    'Т': 'T',\n    'У': 'U',\n    'Ф': 'F',\n    'Х': 'KH',\n    'Ц': 'TC',\n    'Ч': 'CH',\n    'Ш': 'SH',\n    'Щ': 'SHCH',\n    'Ы': 'Y',\n    'Э': 'E',\n    'Ю': 'IU',\n    'Я': 'IA'\n}\n\nwith open('cyrillic.txt', encoding='UTF-8') as fi:\n    s = fi.read()\n    so = ''\n    for ci in s:\n        if \"ьъЬЪ\".find(ci) != -1: \n            continue\n\n        ciu = ci.upper() \n        if ciu in d: \n            if ci.isupper() is True: \n                eci = d[ciu].capitalize()\n            else:\n                eci = d[ciu].lower()\n        else: \n            eci = ci\n        so += eci\n    \nwith open('transliteration.txt', 'w', encoding='UTF-8') as fo:\n    print(so, file=fo)",
      "metadata": {
        "trusted": true
      },
      "outputs": [],
      "execution_count": null
    },
    {
      "cell_type": "markdown",
      "source": "## G. Файловая статистика\n",
      "metadata": {}
    },
    {
      "cell_type": "code",
      "source": "from itertools import dropwhile\n\nfname = input()\n\nn, np, minv, maxv, sumv, avg = 0, 0, 0, 0, 0, 0.00\n\nwith open(fname, encoding='UTF-8') as fi:\n    ss = fi.readlines()\n\nfor i, s in enumerate(ss):\n    vs = [int(sv) for sv in s.rstrip('\\n').split()]\n    vs.sort()\n\n    if len(vs) > 0:\n        n += len(vs)\n        minv = min(minv, vs[0]) if i != 0 else vs[0]\n        maxv = max(maxv, vs[-1]) if i != 0 else vs[-1]\n        sumv += sum(vs)\n        np += len(list(dropwhile(lambda x: x <= 0, vs)))\n        \navg = sumv / n\n\nprint(n, np, minv, maxv, sumv, f'{avg:.2f}', sep='\\n')",
      "metadata": {
        "trusted": true
      },
      "outputs": [],
      "execution_count": null
    },
    {
      "cell_type": "markdown",
      "source": "## H. Файловая разница\n",
      "metadata": {}
    },
    {
      "cell_type": "code",
      "source": "from itertools import chain\n\nfnames = [input(), input()]\n\nfwords = []\nfor fname in fnames:\n    with open(fname, encoding='UTF-8') as fi:\n        sss = chain.from_iterable([s.rstrip('\\n').split() for s in fi.readlines()])\n        fwords.append(set(sss)) \n\nwith open(input(), 'w', encoding='UTF-8') as fo:\n    res = sorted(list(fwords[0] ^ fwords[1]))\n    print('\\n'.join(res), file=fo)",
      "metadata": {
        "trusted": true
      },
      "outputs": [],
      "execution_count": null
    },
    {
      "cell_type": "markdown",
      "source": "## I. Файловая чистка\n",
      "metadata": {}
    },
    {
      "cell_type": "code",
      "source": "from itertools import filterfalse\n\nfin, fon = input(), input()\n\nwith open(fin, encoding='UTF-8') as fi:\n    sss = fi.readlines()\n\nso = '' \nfor s in sss:\n    sv1 = s.strip().rstrip('\\n')\n    sv2 = ''.join(sv1.split('\\t'))\n    sv3 = list(filterfalse(lambda x: x == '', sv2.split(' ')))\n    sv4 = ' '.join(sv3)\n    if sv4.strip() == '':\n        continue\n    so += sv4 + '\\n'\n    \nwith open(fon, 'w', encoding='UTF-8') as fo:\n    fo.write(so)\n",
      "metadata": {
        "trusted": true
      },
      "outputs": [],
      "execution_count": null
    },
    {
      "cell_type": "markdown",
      "source": "## J. Хвост\n",
      "metadata": {}
    },
    {
      "cell_type": "code",
      "source": "f, n = input(), -int(input())\n\nwith open(f, encoding='UTF-8') as fi:\n    ss = fi.readlines()\n    for s in ss[n:]:\n        print(s.rstrip('\\n'))",
      "metadata": {
        "trusted": true
      },
      "outputs": [],
      "execution_count": null
    },
    {
      "cell_type": "markdown",
      "source": "## K. Файловая статистика 2.0\n",
      "metadata": {}
    },
    {
      "cell_type": "code",
      "source": "import json\nfrom itertools import dropwhile\n\na, b = input(), input()\n\nn, np, minv, maxv, sumv, avg = 0, 0, 0, 0, 0, 0.00\n\nwith open(a, encoding='UTF-8') as fi:\n    lines = fi.readlines()\n\nfor i, line in enumerate(lines):\n    ss = sorted([int(s) for s in line.rstrip('\\n').split()])\n    ss.sort()\n    if len(ss) > 0:\n        n += len(ss)  \n        np += len(list(dropwhile(lambda x: x <= 0, ss)))\n        minv = min(ss[0], minv) if i != 0 else ss[0]\n        maxv = max(ss[-1], maxv) if i != 0 else ss[-1]\n        sumv += sum(ss)\navg = round(sumv / n, 2)    \n\nd = {\n    \"count\": n,\n    \"positive_count\": np,\n    \"min\": minv,\n    'max': maxv,\n    'sum': sumv,\n    \"average\": avg\n}\n\nwith open(b, 'w', encoding='UTF-8') as fo:\n    json.dump(d, fo, indent=4)   ",
      "metadata": {
        "trusted": true
      },
      "outputs": [],
      "execution_count": null
    },
    {
      "cell_type": "markdown",
      "source": "## L. Разделяй и властвуй\n",
      "metadata": {}
    },
    {
      "cell_type": "code",
      "source": "from itertools import chain, accumulate\n\neven = ['2', '4', '6', '8', '0']\nuneven = ['1', '3', '5', '7', '9']\n\nfin, fen, fun, fsn = input(), input(), input(), input()\n\nwith open(fin) as fi, open(fen, 'w') as fe, open(fun, 'w') as fu, open(fsn, 'w') as fs:\n    for i in fi:\n        ivs = i.rstrip('\\n').split()\n        e, u, s = '', '', ''\n        for iv in ivs:\n            ec = sum([iv.count(v) for v in even])\n            nc = sum([iv.count(v) for v in uneven]) \n            if ec > nc:\n                e += iv + ' '\n            elif ec < nc:\n                u += iv + ' ' \n            else:\n                s += iv + ' '   \n        print(e, file=fe)   \n        print(u, file=fu)  \n        print(s, file=fs)       ",
      "metadata": {
        "trusted": true
      },
      "outputs": [],
      "execution_count": null
    },
    {
      "cell_type": "markdown",
      "source": "## M. Обновление данных\n",
      "metadata": {}
    },
    {
      "cell_type": "code",
      "source": "import json\nfrom sys import stdin\n\nfn = input()\n\nwith open(fn, 'r+', encoding='UTF-8') as f:\n    d = json.load(f)\n\n    for s in stdin:\n        (k, v) = tuple(s.rstrip('\\n').split(' == '))\n        d[k] = v\n        \n    f.seek(0)\n    json.dump(d, f, ensure_ascii=False, indent=4)",
      "metadata": {
        "trusted": true
      },
      "outputs": [],
      "execution_count": null
    },
    {
      "cell_type": "markdown",
      "source": "## N. Слияние данных\n",
      "metadata": {}
    },
    {
      "cell_type": "code",
      "source": "import json\n\nfoldn, fnewn = input(), input()\n\nwith open(foldn, encoding='UTF-8') as fo:\n    dos = json.load(fo) \nwith open(fnewn, encoding='UTF-8') as fn:\n    dns = json.load(fn)\n\nds = dict()\nfor v in dos:\n    k = v.pop(\"name\")\n    ds[k] = v\nfor v in dns:\n    k = v.pop(\"name\")\n    for (ki, vi) in v.items():\n        if ki not in ds[k] or ds[k][ki] < vi:\n            ds[k][ki] = vi     \n\nwith open(foldn, 'w', encoding='UTF-8') as f:\n    json.dump(ds, f, ensure_ascii=False, indent=4)",
      "metadata": {
        "trusted": true
      },
      "outputs": [],
      "execution_count": null
    },
    {
      "cell_type": "markdown",
      "source": "## O. Поставь себя на моё место\n",
      "metadata": {}
    },
    {
      "cell_type": "code",
      "source": "import json\n\nwith open('scoring.json', encoding='UTF-8') as f:\n    sc = json.load(f)\n\nb = 0\nfor gr in sc:\n    p = gr[\"points\"]\n    c = len(gr[\"tests\"])\n    n = 0\n    for t in gr[\"tests\"]:\n        s = input().rstrip('\\n')\n        if s == t[\"pattern\"]:\n            n += 1\n    b += p // c * n if n != 0 else 0       \n\nprint(b)    ",
      "metadata": {
        "trusted": true
      },
      "outputs": [],
      "execution_count": null
    },
    {
      "cell_type": "markdown",
      "source": "## P. Найдётся всё 3.0\n",
      "metadata": {}
    },
    {
      "cell_type": "code",
      "source": "from sys import stdin\nimport re\n\nsear = ' '.join(re.split('\\s+', input().lower()))\n\nfns = []\nfor s in stdin:\n    fns.append(s.rstrip('\\n'))\n\nr = False\nfor fn in fns:\n    with open(fn, encoding='UTF-8') as f:\n        ss = f.read()\n    s = ss.rstrip('\\n').lower() \n    sn = ' '.join(re.split('\\s+', s))\n    \n    if sear in sn:\n        r = True\n        print(fn)    \nif r is False:\n    print('404. Not Found')            ",
      "metadata": {
        "trusted": true
      },
      "outputs": [],
      "execution_count": null
    },
    {
      "cell_type": "markdown",
      "source": "## Q. Прятки\n",
      "metadata": {}
    },
    {
      "cell_type": "code",
      "source": "with open(\"secret.txt\", encoding='UTF-8') as f:\n    enc = f.read()\n\nfor ce in enc:\n    i = ord(ce)\n    if i < 128:\n        print(ce, end='')\n    else:\n        print(chr(i % 256), end='')    ",
      "metadata": {
        "trusted": true
      },
      "outputs": [],
      "execution_count": null
    },
    {
      "cell_type": "markdown",
      "source": "## R. Сколько вешать в байтах?\n",
      "metadata": {}
    },
    {
      "cell_type": "code",
      "source": "with open(input(), 'rb') as f:\n    data = f.read()\n\nbyte = len(data)\n\nd = 1\nif byte < (d := d * 1024):\n    c = 'Б'\nelif byte < (d := d * 1024):\n    c = 'КБ'\nelif byte < (d := d * 1024):    \n    c = 'МБ'\nelse:\n    d *= 1024\n    c = 'ГБ'\n\nd //= 1024\nprint(byte // d + int(byte % d != 0), c, sep='')  ",
      "metadata": {
        "trusted": true
      },
      "outputs": [],
      "execution_count": null
    },
    {
      "cell_type": "code",
      "source": "import os\n\nbyte = os.path.getsize(input())\n\nd = 1\nif byte < (d := d * 1024):\n    c = 'Б'\nelif byte < (d := d * 1024):\n    c = 'КБ'\nelif byte < (d := d * 1024):    \n    c = 'МБ'\nelse:\n    d *= 1024\n    c = 'ГБ'\n\nd //= 1024\nprint(byte // d + int(byte % d != 0), c, sep='')  ",
      "metadata": {
        "trusted": true
      },
      "outputs": [],
      "execution_count": null
    },
    {
      "cell_type": "markdown",
      "source": "## S. Это будет наш секрет\n",
      "metadata": {}
    },
    {
      "cell_type": "code",
      "source": "n = int(input())\nn = n % 26\n\nwith open(\"public.txt\", encoding=\"UTF-8\") as fi:\n    ss = fi.read()\n\ns = ''   \nbal, bab = ord('a'), ord('A') \nfor c in ss: \n    if c.isalpha():\n        b = bab if c.isupper() else bal\n        co = chr((ord(c) - b + n) % 26 + b)\n    else:\n        co = c  \n    s += co\n\nwith open(\"private.txt\", 'w', encoding=\"UTF-8\") as fo:\n    fo.write(s)",
      "metadata": {
        "trusted": true
      },
      "outputs": [],
      "execution_count": null
    },
    {
      "cell_type": "code",
      "source": "n = int(input())\n\nwith open(\"public.txt\", encoding=\"UTF-8\") as fi:\n    ss = fi.read()\n\ns = ''   \nbal, bab = ord('a'), ord('A') \nfor c in ss: \n    if c.isalpha():\n        b = bab if c.isupper() else bal\n        co = chr((ord(c) - b + n) % 26 + b)\n    else:\n        co = c  \n    s += co\n\nwith open(\"private.txt\", 'w', encoding=\"UTF-8\") as fo:\n    fo.write(s)",
      "metadata": {
        "trusted": true
      },
      "outputs": [],
      "execution_count": null
    },
    {
      "cell_type": "markdown",
      "source": "## T. Файловая сумма\n",
      "metadata": {}
    },
    {
      "cell_type": "code",
      "source": "with open(\"numbers.num\", \"rb\") as f:\n    arr = f.read()\n\nsm = 0 \nfor i in range(0, len(arr), 2):\n    sm += int.from_bytes(arr[i:i + 2])\n\nprint(sm % 65536)",
      "metadata": {
        "trusted": true
      },
      "outputs": [],
      "execution_count": null
    },
    {
      "cell_type": "code",
      "source": "with open(\"numbers.num\", \"rb\") as f:\n    arr = f.read()\n\nsm = 0 \nfor i in range(0, len(arr), 2):\n    sm += int(arr[i]) * 256 + int(arr[i + 1])\n\nprint(sm % 65536)",
      "metadata": {
        "trusted": true
      },
      "outputs": [],
      "execution_count": null
    }
  ]
}
