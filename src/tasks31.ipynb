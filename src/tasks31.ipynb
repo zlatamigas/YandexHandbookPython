{
 "cells": [
  {
   "cell_type": "markdown",
   "metadata": {},
   "source": [
    "# 3.1. Строки, кортежи, списки"
   ]
  },
  {
   "cell_type": "markdown",
   "metadata": {},
   "source": [
    "## A. Азбука\n"
   ]
  },
  {
   "cell_type": "code",
   "execution_count": null,
   "metadata": {},
   "outputs": [],
   "source": [
    "n = int(input())\n",
    "\n",
    "r = True\n",
    "for i in range(n):\n",
    "    s = str(input()).lower()\n",
    "    if s.startswith((\"а\", \"б\", \"в\")) is False:\n",
    "        r = False\n",
    "print('YES' if r else 'NO')        "
   ]
  },
  {
   "cell_type": "markdown",
   "metadata": {},
   "source": [
    "## B. Кручу-верчу\n"
   ]
  },
  {
   "cell_type": "code",
   "execution_count": null,
   "metadata": {},
   "outputs": [],
   "source": [
    "sh = input()\n",
    "for v in sh:\n",
    "    print(v)"
   ]
  },
  {
   "cell_type": "markdown",
   "metadata": {},
   "source": [
    "## C. Анонс новости\n"
   ]
  },
  {
   "cell_type": "code",
   "execution_count": null,
   "metadata": {},
   "outputs": [],
   "source": [
    "l, n = int(input()), int(input())\n",
    "lr = l - 3\n",
    "\n",
    "for i in range(n):\n",
    "    s = input()\n",
    "    if len(s) > l:\n",
    "        print(s[:lr] + '...')\n",
    "    else:\n",
    "        print(s)    "
   ]
  },
  {
   "cell_type": "markdown",
   "metadata": {},
   "source": [
    "## D. Очистка данных\n"
   ]
  },
  {
   "cell_type": "code",
   "execution_count": null,
   "metadata": {},
   "outputs": [],
   "source": [
    "while (s := input()) != '':\n",
    "    if s.startswith(\"##\"):\n",
    "        s = s[2:]\n",
    "    if s.endswith(\"@@@\"):\n",
    "        continue\n",
    "    print(s)      "
   ]
  },
  {
   "cell_type": "code",
   "execution_count": null,
   "metadata": {},
   "outputs": [],
   "source": [
    "while (s := input()) != '':\n",
    "    if s.endswith(\"@@@\") is False:\n",
    "        if s.startswith(\"##\"):\n",
    "            s = s[2:]\n",
    "        print(s)      "
   ]
  },
  {
   "cell_type": "markdown",
   "metadata": {},
   "source": [
    "## E. А роза упала на лапу Азора 4.0\n"
   ]
  },
  {
   "cell_type": "code",
   "execution_count": null,
   "metadata": {},
   "outputs": [],
   "source": [
    "s = input()\n",
    "\n",
    "for i in range(len(s) // 2 + 1):\n",
    "    if s[i] != s[-i - 1]:\n",
    "        print('NO')\n",
    "        break\n",
    "else:\n",
    "    print('YES')"
   ]
  },
  {
   "cell_type": "markdown",
   "metadata": {},
   "source": [
    "## F. Зайка — 6\n"
   ]
  },
  {
   "cell_type": "code",
   "execution_count": null,
   "metadata": {},
   "outputs": [],
   "source": [
    "n = int(input())\n",
    "c = 0\n",
    "\n",
    "for i in range(n):\n",
    "    s = input()\n",
    "    c += s.count(\"зайка\")\n",
    "print(c)    "
   ]
  },
  {
   "cell_type": "markdown",
   "metadata": {},
   "source": [
    "## G. А и Б сидели на трубе\n"
   ]
  },
  {
   "cell_type": "code",
   "execution_count": null,
   "metadata": {},
   "outputs": [],
   "source": [
    "s = input()\n",
    "sv = 0\n",
    "for v in s.split(' '):\n",
    "    sv += int(v)\n",
    "print(sv)"
   ]
  },
  {
   "cell_type": "markdown",
   "metadata": {},
   "source": [
    "## H. Зайка — 7\n"
   ]
  },
  {
   "cell_type": "code",
   "execution_count": null,
   "metadata": {},
   "outputs": [],
   "source": [
    "n = int(input())\n",
    "no = 'Заек нет =('\n",
    "\n",
    "for i in range(n):\n",
    "    s = input()\n",
    "    pos = s.find('зайка')\n",
    "    if pos == -1:\n",
    "        print(no)\n",
    "    else:\n",
    "        print(pos + 1)    "
   ]
  },
  {
   "cell_type": "markdown",
   "metadata": {},
   "source": [
    "## I. Без комментариев\n"
   ]
  },
  {
   "cell_type": "code",
   "execution_count": null,
   "metadata": {},
   "outputs": [],
   "source": [
    "while (s := input()) != '':\n",
    "    k = s.find('#')\n",
    "    match k:\n",
    "        case -1:\n",
    "            print(s)\n",
    "        case 0:\n",
    "            continue\n",
    "        case _:\n",
    "            print(s[:k])    "
   ]
  },
  {
   "cell_type": "markdown",
   "metadata": {},
   "source": [
    "## J. Частотный анализ на минималках\n"
   ]
  },
  {
   "cell_type": "code",
   "execution_count": null,
   "metadata": {},
   "outputs": [],
   "source": [
    "alp = []\n",
    "freq = []\n",
    "while (s := input()) != \"ФИНИШ\":\n",
    "    for v in s.lower():\n",
    "        if v != ' ':\n",
    "            if v in alp:\n",
    "                freq[alp.index(v)] += 1\n",
    "            else:\n",
    "                alp.append(v)\n",
    "                freq.append(1)\n",
    "\n",
    "m = max(freq)     \n",
    "sm = ''\n",
    "for i in range(len(alp)):\n",
    "    if m == freq[i]:\n",
    "        if sm == '' or (sm != '' and alp[i] < sm):\n",
    "            sm = alp[i]  \n",
    "print(sm)              "
   ]
  },
  {
   "cell_type": "markdown",
   "metadata": {},
   "source": [
    "## K. Найдётся всё\n"
   ]
  },
  {
   "cell_type": "code",
   "execution_count": null,
   "metadata": {},
   "outputs": [],
   "source": [
    "n = int(input())\n",
    "t = []\n",
    "for i in range(n):\n",
    "    t.append(input())\n",
    "s = input().lower()    \n",
    "\n",
    "for ti in t:\n",
    "    if ti.lower().find(s) != -1:\n",
    "        print(ti)"
   ]
  },
  {
   "cell_type": "markdown",
   "metadata": {},
   "source": [
    "## L. Меню питания\n"
   ]
  },
  {
   "cell_type": "code",
   "execution_count": null,
   "metadata": {},
   "outputs": [],
   "source": [
    "n = int(input())\n",
    "t = (\"Манная\", \"Гречневая\", \"Пшённая\", \"Овсяная\", \"Рисовая\")\n",
    "tl = len(t)\n",
    "for i in range(n):\n",
    "    print(t[i % tl])"
   ]
  },
  {
   "cell_type": "markdown",
   "metadata": {},
   "source": [
    "## M. Массовое возведение в степень\n"
   ]
  },
  {
   "cell_type": "code",
   "execution_count": null,
   "metadata": {},
   "outputs": [],
   "source": [
    "n = int(input())\n",
    "vs = []\n",
    "for i in range(n):\n",
    "    vs.append(int(input()))\n",
    "p = int(input())   \n",
    "\n",
    "for v in vs:\n",
    "    print(v ** p)"
   ]
  },
  {
   "cell_type": "markdown",
   "metadata": {},
   "source": [
    "## N. Массовое возведение в степень 2.0\n"
   ]
  },
  {
   "cell_type": "code",
   "execution_count": null,
   "metadata": {},
   "outputs": [],
   "source": [
    "ns = input().split()\n",
    "p = int(input())\n",
    "\n",
    "for n in ns:\n",
    "    print(int(n) ** p, end=' ')"
   ]
  },
  {
   "cell_type": "markdown",
   "metadata": {},
   "source": [
    "## O. НОД 3.0\n"
   ]
  },
  {
   "cell_type": "code",
   "execution_count": null,
   "metadata": {},
   "outputs": [],
   "source": [
    "vs = input().split()\n",
    "\n",
    "a = int(vs[0])\n",
    "for i in range(1, len(vs)):\n",
    "    b = int(vs[i])\n",
    "    while a != 0 and b != 0:\n",
    "        (a, b) = (a - b, b) if a > b else (a, b - a)\n",
    "    a += b   \n",
    "print(a)    "
   ]
  },
  {
   "cell_type": "markdown",
   "metadata": {},
   "source": [
    "## P. Анонс новости 2.0\n"
   ]
  },
  {
   "cell_type": "code",
   "execution_count": null,
   "metadata": {},
   "outputs": [],
   "source": [
    "ln, n = int(input()), int(input())\n",
    "\n",
    "ts = []\n",
    "for i in range(n):\n",
    "    ts.append(input())\n",
    "\n",
    "ss = '\\n'.join(ts)\n",
    "ls = len(ss) - len(ts) + 1\n",
    "\n",
    "if ls <= ln:\n",
    "    print(ss)\n",
    "else:\n",
    "    while ls > ln - 3:\n",
    "        pi = ss[::-1].find('\\n')\n",
    "        if pi == -1:\n",
    "            ss = ss[:(ln - 3)]\n",
    "            break\n",
    "        elif ls - pi < ln - 3:\n",
    "            ss = ss[:(ln - 3 - ls)]\n",
    "            break\n",
    "        elif ls - pi >= ln - 3:\n",
    "            ss = ss[:-pi - 1]    \n",
    "            ls -= pi\n",
    "\n",
    "print(ss + \"...\")"
   ]
  },
  {
   "cell_type": "markdown",
   "metadata": {},
   "source": [
    "## Q. А роза упала на лапу Азора 5.0\n"
   ]
  },
  {
   "cell_type": "code",
   "execution_count": null,
   "metadata": {},
   "outputs": [],
   "source": [
    "s = input().replace(' ', '').lower()\n",
    "\n",
    "r = True\n",
    "for i in range(len(s) // 2 + 1):\n",
    "    if s[i] != s[-1 - i]:\n",
    "        r = False\n",
    "print('YES' if r else 'NO')        "
   ]
  },
  {
   "cell_type": "code",
   "execution_count": null,
   "metadata": {},
   "outputs": [],
   "source": [
    "s = ''.join(input().split()).lower()\n",
    "\n",
    "r = True\n",
    "for i in range(len(s) // 2 + 1):\n",
    "    if s[i] != s[-1 - i]:\n",
    "        r = False\n",
    "print('YES' if r else 'NO')        "
   ]
  },
  {
   "cell_type": "markdown",
   "metadata": {},
   "source": [
    "## R. RLE\n"
   ]
  },
  {
   "cell_type": "code",
   "execution_count": null,
   "metadata": {},
   "outputs": [],
   "source": [
    "s = input()\n",
    "lps = len(s)\n",
    "while len(s) > 0:\n",
    "    c = 0\n",
    "    a = s[0]\n",
    "    s = s.lstrip(a)\n",
    "    print(a, lps - len(s))\n",
    "    lps = len(s)"
   ]
  },
  {
   "cell_type": "markdown",
   "metadata": {},
   "source": [
    "## S. Польский калькулятор\n"
   ]
  },
  {
   "cell_type": "code",
   "execution_count": null,
   "metadata": {},
   "outputs": [],
   "source": [
    "sl = input().split()\n",
    "\n",
    "data = []\n",
    "for j in range(len(sl)):\n",
    "    i = sl.pop(0)\n",
    "\n",
    "    if i.isdigit() is True:\n",
    "        data.append(int(i))\n",
    "        continue    \n",
    "    \n",
    "    a = data.pop()\n",
    "    b = data.pop()\n",
    "    match i:\n",
    "        case '+':\n",
    "            data.append(a + b)\n",
    "        case '-':\n",
    "            data.append(b - a)\n",
    "        case '*':\n",
    "            data.append(a * b)\n",
    "\n",
    "print(data.pop())       "
   ]
  },
  {
   "cell_type": "markdown",
   "metadata": {},
   "source": [
    "## T. Польский калькулятор — 2"
   ]
  },
  {
   "cell_type": "code",
   "execution_count": null,
   "metadata": {},
   "outputs": [],
   "source": [
    "sl = input().split()\n",
    "\n",
    "data = []\n",
    "for i in range(len(sl)):\n",
    "    v = sl.pop(0)\n",
    "\n",
    "    if v.isdigit() is True:\n",
    "        data.append(int(v))\n",
    "        continue\n",
    "    \n",
    "    a = data.pop()   \n",
    "    match v:\n",
    "        case '+':\n",
    "            data.append(data.pop() + a)\n",
    "        case '-':\n",
    "            data.append(data.pop() - a)\n",
    "        case '*':\n",
    "            data.append(data.pop() * a)\n",
    "        case '/':\n",
    "            data.append(data.pop() // a)\n",
    "        case '~':\n",
    "            data.append(-a)\n",
    "        case '!':\n",
    "            f = 1\n",
    "            for j in range(2, a + 1):\n",
    "                f *= j\n",
    "            data.append(f)\n",
    "        case '#':\n",
    "            data.append(a)\n",
    "            data.append(a)\n",
    "        case '@':\n",
    "            b = data.pop()\n",
    "            c = data.pop()\n",
    "            data.append(b)\n",
    "            data.append(a)\n",
    "            data.append(c)\n",
    "print(data.pop())"
   ]
  }
 ],
 "metadata": {
  "kernelspec": {
   "display_name": "Python 3",
   "language": "python",
   "name": "python3"
  },
  "language_info": {
   "name": "python",
   "version": "3.12.1"
  }
 },
 "nbformat": 4,
 "nbformat_minor": 2
}
