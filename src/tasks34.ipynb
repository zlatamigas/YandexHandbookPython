{
  "metadata": {
    "kernelspec": {
      "name": "python",
      "display_name": "Python (Pyodide)",
      "language": "python"
    },
    "language_info": {
      "codemirror_mode": {
        "name": "ipython",
        "version": 3
      },
      "file_extension": ".py",
      "mimetype": "text/x-python",
      "name": "python",
      "nbconvert_exporter": "python",
      "pygments_lexer": "ipython3",
      "version": "3.12.1"
    }
  },
  "nbformat_minor": 4,
  "nbformat": 4,
  "cells": [
    {
      "cell_type": "markdown",
      "source": "# 3.4. Встроенные возможности по работе с коллекциями",
      "metadata": {}
    },
    {
      "cell_type": "markdown",
      "source": "## A. Автоматизация списка\n",
      "metadata": {}
    },
    {
      "cell_type": "code",
      "source": "ss = input().split()\nfor i, s in enumerate(ss, 1):\n    print(f'{i}. {s}')",
      "metadata": {},
      "outputs": [],
      "execution_count": null
    },
    {
      "cell_type": "markdown",
      "source": "## B. Сборы на прогулку\n",
      "metadata": {}
    },
    {
      "cell_type": "code",
      "source": "asi = input().split(\", \")\nbsi = input().split(\", \")\n\nfor a, b in zip(asi, bsi):\n    print(f\"{a} - {b}\")",
      "metadata": {},
      "outputs": [],
      "execution_count": null
    },
    {
      "cell_type": "markdown",
      "source": "## C. Рациональная считалочка\n",
      "metadata": {}
    },
    {
      "cell_type": "code",
      "source": "from itertools import count\n\nbs, ens, sts = tuple(input().split())\nb, en, st = float(bs), float(ens), float(sts)\n\nfor c in count(b, st):\n    if c >= en:\n        break\n    print(round(c, 1))    ",
      "metadata": {},
      "outputs": [],
      "execution_count": null
    },
    {
      "cell_type": "markdown",
      "source": "## D. Словарная ёлка\n",
      "metadata": {}
    },
    {
      "cell_type": "code",
      "source": "from itertools import accumulate\n\nss = input().split()\n\nfor v in accumulate(ss, lambda a, pr: a + ' ' + pr):\n    print(v)",
      "metadata": {},
      "outputs": [],
      "execution_count": null
    },
    {
      "cell_type": "markdown",
      "source": "## E. Список покупок\n",
      "metadata": {}
    },
    {
      "cell_type": "code",
      "source": "from itertools import chain\n\na, b, c = input().split(\", \"), input().split(\", \"), input().split(\", \")\n\ndata = sorted(list(set(chain(a, b, c))))\nfor i, v in enumerate(data, 1):    \n    print(f'{i}. {v}')",
      "metadata": {},
      "outputs": [],
      "execution_count": null
    },
    {
      "cell_type": "markdown",
      "source": "## F. Колода карт\n",
      "metadata": {}
    },
    {
      "cell_type": "code",
      "source": "import itertools\n\nms = ['пик', 'треф', 'бубен', 'червей']\nn = ['2', '3', '4', '5', '6', '7', '8', '9', '10', 'валет', 'дама', 'король', 'туз']\n\ns = input()\nm = ms[:]\nm.remove(s)\n\nfor (v, b) in itertools.product(n, m):\n    print(f'{v} {b}')",
      "metadata": {},
      "outputs": [],
      "execution_count": null
    },
    {
      "cell_type": "markdown",
      "source": "## G. Игровая сетка\n",
      "metadata": {}
    },
    {
      "cell_type": "code",
      "source": "import itertools\n\nn = int(input())\np = [input() for i in range(n)]\n \nfor (a, b) in itertools.combinations(p, 2):\n    print(f'{a} - {b}') ",
      "metadata": {},
      "outputs": [],
      "execution_count": null
    },
    {
      "cell_type": "markdown",
      "source": "## H. Меню питания 2.0\n",
      "metadata": {}
    },
    {
      "cell_type": "code",
      "source": "from itertools import repeat, islice, chain\n\nms = [input() for i in range(int(input()))]\nn = int(input())\n\nmsl = len(ms)\nrep = n // msl + (1 if n % msl != 0 else 1)\n\nvs = islice(chain.from_iterable(repeat(ms, rep)), n)\nfor v in vs:\n    print(v)",
      "metadata": {},
      "outputs": [],
      "execution_count": null
    },
    {
      "cell_type": "markdown",
      "source": "## I. Таблица умножения 3.0\n",
      "metadata": {}
    },
    {
      "cell_type": "code",
      "source": "from itertools import product\n\nn = int(input())\n\nns = range(1, n + 1)\npairs = product(ns, ns)\n\ni = 1\nfor (a, b) in pairs:\n    if a == i:\n        print(a * b, end=' ')\n    else:\n        print(f'\\n{(a * b)}', end=' ') \n        i += 1   ",
      "metadata": {},
      "outputs": [],
      "execution_count": null
    },
    {
      "cell_type": "code",
      "source": "from itertools import starmap, product\n\nn = int(input())\n\nns = range(1, n + 1)\npairs = starmap(lambda x, y: x * y, product(ns, repeat=2))\n\ni = 1\nfor v in pairs:\n    print(v, end=' ')\n    if i < n:\n        i += 1   \n    else:\n        print()   \n        i = 1  ",
      "metadata": {},
      "outputs": [],
      "execution_count": null
    },
    {
      "cell_type": "markdown",
      "source": "## J. Мы делили апельсин 2.0\n",
      "metadata": {}
    },
    {
      "cell_type": "code",
      "source": "from itertools import product\n\nn = int(input())\n\nvs = [(a, b, c) for (a, b, c) in product(range(1, n - 1), repeat=3) if a + b + c == n]\n\nprint('А', 'Б', 'В')\nfor (a, b, c) in vs:\n    print(a, b, c)",
      "metadata": {},
      "outputs": [],
      "execution_count": null
    },
    {
      "cell_type": "markdown",
      "source": "## K. Числовой прямоугольник 3.0\n",
      "metadata": {}
    },
    {
      "cell_type": "code",
      "source": "from itertools import product\n\nn, m = int(input()), int(input())\n\nlnm = len(str(n * m))\n\nv = 0\nfor (i, j) in product(range(n), range(1, m + 1)):\n    if v != i:\n        print()\n        v = i\n    print(f'{(i * m + j): >{lnm}}', end=' ')    ",
      "metadata": {},
      "outputs": [],
      "execution_count": null
    },
    {
      "cell_type": "markdown",
      "source": "## L. Список покупок 2.0\n",
      "metadata": {}
    },
    {
      "cell_type": "code",
      "source": "from itertools import chain\n\nn = int(input())\n\ns = (input().split(', ') for i in range(n))\npr = sorted(list(chain.from_iterable(s)))\n\nfor i, v in enumerate(pr, 1):\n    print(f'{i}. {v}')",
      "metadata": {},
      "outputs": [],
      "execution_count": null
    },
    {
      "cell_type": "markdown",
      "source": "## M. Расстановка спортсменов\n",
      "metadata": {}
    },
    {
      "cell_type": "code",
      "source": "from itertools import permutations\n\nn = int(input())\nsps = sorted([input() for i in range(n)])\n\nfor v in permutations(sps): \n    print(', '.join(v))",
      "metadata": {},
      "outputs": [],
      "execution_count": null
    },
    {
      "cell_type": "markdown",
      "source": "## N. Спортивные гадания\n",
      "metadata": {}
    },
    {
      "cell_type": "code",
      "source": "from itertools import repeat, islice, chain\n\nms = [input() for i in range(int(input()))]\nn = int(input())\n\nmsl = len(ms)\nrep = n // msl + (1 if n % msl != 0 else 1)\n\nvs = islice(chain.from_iterable(repeat(ms, rep)), n)\nfor v in vs:\n    print(v)",
      "metadata": {},
      "outputs": [],
      "execution_count": null
    },
    {
      "cell_type": "code",
      "source": "from itertools import permutations\n\nn = int(input())\nsps = sorted([input() for i in range(n)])\n\nfor v in permutations(sps, r=3):\n    print(', '.join(v))",
      "metadata": {
        "trusted": true
      },
      "outputs": [],
      "execution_count": null
    },
    {
      "cell_type": "markdown",
      "source": "## O. Список покупок 3.0\n",
      "metadata": {}
    },
    {
      "cell_type": "code",
      "source": "from itertools import chain, permutations\n\nn = int(input())\npr = sorted(chain.from_iterable([input().split(', ') for i in range(n)]))\n\nfor v in permutations(pr, r=3):\n    print(' '.join(v)) ",
      "metadata": {},
      "outputs": [],
      "execution_count": null
    },
    {
      "cell_type": "markdown",
      "source": "## P. Расклад таков...\n",
      "metadata": {}
    },
    {
      "cell_type": "code",
      "source": "from itertools import combinations, product\n\nms = ['бубен', 'пик', 'треф', 'червей']\nds = ['10', '2', '3', '4', '5', '6', '7', '8', '9', 'валет', 'дама', 'король', 'туз']\n\nmtm = {\n    'буби': 'бубен',\n    'пики': 'пик',\n    'трефы': 'треф',\n    'черви': 'червей'\n}\n\nm = input()\nnd = input()\n\nds.remove(nd)\nm = mtm[m]\n\nv1 = product(ds, ms)\nv2 = combinations(v1, 3)\n\ni = 0\nfor v in v2:\n    if i == 10:\n        break\n    if v[0][1] == m or v[1][1] == m or v[2][1] == m:\n        print(f'{v[0][0]} {v[0][1]}, {v[1][0]} {v[1][1]}, {v[2][0]} {v[2][1]}')\n        i += 1 ",
      "metadata": {},
      "outputs": [],
      "execution_count": null
    },
    {
      "cell_type": "markdown",
      "source": "## Q. А есть ещё варианты?\n",
      "metadata": {}
    },
    {
      "cell_type": "code",
      "source": "from itertools import product, combinations, dropwhile\n\nms = ['бубен', 'пик', 'треф', 'червей']\nds = ['10', '2', '3', '4', '5', '6', '7', '8', '9', 'валет', 'дама', 'король', 'туз']\n\nmtm = {\n    'буби': 'бубен',\n    'пики': 'пик',\n    'трефы': 'треф',\n    'черви': 'червей'\n}\n\nm = mtm[input()]\nds.remove(input())\n\nprss = input().split(', ')\nprs = []\nfor v in prss:\n    prs.append(tuple(v.split()))\nprs = tuple(prs)\n\nv1 = product(ds, ms)\nv2 = combinations(v1, 3)\nv3 = list(dropwhile(lambda x: x != prs, v2))[1:]\n\nfor v in v3:\n    if v[0][1] == m or v[1][1] == m or v[2][1] == m:\n        print(f'{v[0][0]} {v[0][1]}, {v[1][0]} {v[1][1]}, {v[2][0]} {v[2][1]}')\n        break\n\n",
      "metadata": {},
      "outputs": [],
      "execution_count": null
    },
    {
      "cell_type": "markdown",
      "source": "## R. Таблица истинности\n",
      "metadata": {}
    },
    {
      "cell_type": "code",
      "source": "from itertools import product\n\ns = input()\n\nprint('a b c f')\nfor (a, b, c) in product([False, True], repeat=3):\n    print(int(a), int(b), int(c), int(eval(s)))\n",
      "metadata": {},
      "outputs": [],
      "execution_count": null
    },
    {
      "cell_type": "markdown",
      "source": "## S. Таблица истинности 2\n",
      "metadata": {}
    },
    {
      "cell_type": "code",
      "source": "from itertools import product\n\ns = input()\nlocs = set()\nfor v in s.split():\n    if v != 'not' and v != 'and' and v != 'or':\n        locs.add(v)\nlocs = sorted(list(locs))\n\nprint(' '.join(locs) + ' F')\nfor v in product([False, True], repeat=len(locs)):\n    d = {locs[i]: v[i] for i in range(len(locs))}\n    r = eval(s, {}, d)\n    for i in v:\n        print(int(i), end=' ')\n    print(int(r))",
      "metadata": {},
      "outputs": [],
      "execution_count": null
    },
    {
      "cell_type": "markdown",
      "source": "## T. Таблицы истинности 3",
      "metadata": {}
    },
    {
      "cell_type": "code",
      "source": "from itertools import product\n\ns = input()\nlocs = set()\nfor v in s.split():\n    io = v.find('(') + 1\n    ic = v.find(')')\n    ic = ic if ic != -1 else len(v) \n    v = v[io:ic]\n    if v.isupper():\n        locs.add(v) \n\nlocs = sorted(list(locs))\n\nst = []\nso = []\n\nprior = {\n    'not': 7,\n    'and': 6,\n    'or': 5,\n    '^': 4,\n    '->': 3,\n    '~': 2,\n    ')': 1,\n    '(': 0\n}\n\n# префиксная запись\nsv = s.split()\nwhile len(sv) != 0:\n    c = sv.pop(0)\n\n    while c[0] == '(':\n        st.append('(')\n        c = c[1:]\n\n    ind = c.find(')')\n    cv = c if ind == -1 else c[:ind]\n\n    if cv.isupper():\n        so.append(cv) \n    else: \n        while len(st) > 0 and prior[st[-1]] >= prior[cv]:\n            t = st.pop()  \n            so.append(t) \n        st.append(cv)    \n\n    if ind != -1:\n        for i in range(len(c) - ind):\n            t = st.pop()\n            while t != '(':\n                so.append(t)\n                t = st.pop()\n\nwhile len(st) > 0:\n    so.append(st.pop())\n# замена\nlst = []\nwhile len(so) > 0:\n    op = so.pop(0)\n    match op:\n        case 'not':\n            a = lst.pop()\n            lst.append('not (' + a + ')')\n        case 'and':\n            b = lst.pop() \n            a = lst.pop()\n            lst.append('(' + a + ') and (' + b + ')')\n        case 'or':\n            b = lst.pop()\n            a = lst.pop()\n            lst.append('(' + a + ') or (' + b + ')')\n        case '^':\n            b = lst.pop()\n            a = lst.pop()\n            sfxor = \"(not ({0}) and ({1})) or (not ({1}) and ({0}))\"\n            lst.append(sfxor.format(a, b))\n        case '->':\n            b = lst.pop()\n            a = lst.pop()\n            sff = \"not ({0}) or ({1})\"\n            lst.append(sff.format(a, b))\n        case '~':\n            b = lst.pop() \n            a = lst.pop()\n            sfe = \"(({0}) and ({1})) or (not ({0}) and not ({1}))\"\n            lst.append(sfe.format(a, b))\n        case _:\n            lst.append(op)\nsres = lst.pop()\n# вычисление\nprint(' '.join(locs) + ' F')\nllocs = len(locs)\nfor v in product([False, True], repeat=llocs):\n    d = {locs[i]: v[i] for i in range(llocs)}\n\n    f = eval(sres, {}, d)\n    for i in v:\n        print(int(i), end=' ')\n    print(int(f))    ",
      "metadata": {},
      "outputs": [],
      "execution_count": null
    }
  ]
}