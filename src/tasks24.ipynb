{
 "cells": [
  {
   "cell_type": "markdown",
   "metadata": {},
   "source": [
    "# 2.4. Вложенные циклы"
   ]
  },
  {
   "cell_type": "markdown",
   "metadata": {},
   "source": [
    "## A. Таблица умножения\n"
   ]
  },
  {
   "cell_type": "code",
   "execution_count": null,
   "metadata": {},
   "outputs": [],
   "source": [
    "n = int(input())\n",
    "\n",
    "for i in range(1, n + 1):\n",
    "    for j in range(1, n + 1):\n",
    "        print(f'{i * j}', end=' ')\n",
    "    print()    "
   ]
  },
  {
   "cell_type": "code",
   "execution_count": null,
   "metadata": {},
   "outputs": [],
   "source": [
    "n = int(input())\n",
    "\n",
    "for i in range(1, n + 1):\n",
    "    print(*range(i, i * (n + 1), i))"
   ]
  },
  {
   "cell_type": "markdown",
   "metadata": {},
   "source": [
    "## B. Не таблица умножения\n"
   ]
  },
  {
   "cell_type": "code",
   "execution_count": null,
   "metadata": {},
   "outputs": [],
   "source": [
    "n = int(input())\n",
    "\n",
    "for i in range(1, n + 1):\n",
    "    for j in range(1, n + 1):\n",
    "        print(f'{j} * {i} = {i * j}')"
   ]
  },
  {
   "cell_type": "markdown",
   "metadata": {},
   "source": [
    "## C. Новогоднее настроение\n"
   ]
  },
  {
   "cell_type": "code",
   "execution_count": null,
   "metadata": {},
   "outputs": [],
   "source": [
    "n = int(input())\n",
    "\n",
    "v = 1\n",
    "w = 1\n",
    "while v <= n:\n",
    "    for i in range(w):\n",
    "        print(v, end=' ')\n",
    "        v += 1\n",
    "        if v > n:\n",
    "            break\n",
    "    w += 1\n",
    "    print()    "
   ]
  },
  {
   "cell_type": "markdown",
   "metadata": {},
   "source": [
    "## D. Суммарная сумма\n"
   ]
  },
  {
   "cell_type": "code",
   "execution_count": null,
   "metadata": {},
   "outputs": [],
   "source": [
    "n = int(input())\n",
    "\n",
    "s = 0\n",
    "for i in range(n):\n",
    "    v = int(input())\n",
    "    while v > 0:\n",
    "        s += v % 10\n",
    "        v //= 10\n",
    "\n",
    "print(s)    "
   ]
  },
  {
   "cell_type": "markdown",
   "metadata": {},
   "source": [
    "## E. Зайка — 5\n"
   ]
  },
  {
   "cell_type": "code",
   "execution_count": null,
   "metadata": {},
   "outputs": [],
   "source": [
    "n = int(input())\n",
    "\n",
    "m = 0\n",
    "for i in range(n):\n",
    "    b = False\n",
    "    while (s := input()) != 'ВСЁ':\n",
    "        if s == 'зайка':\n",
    "            b = True\n",
    "    if b:\n",
    "        m += 1        \n",
    "\n",
    "print(m)"
   ]
  },
  {
   "cell_type": "markdown",
   "metadata": {},
   "source": [
    "## F. НОД 2.0\n"
   ]
  },
  {
   "cell_type": "code",
   "execution_count": null,
   "metadata": {},
   "outputs": [],
   "source": [
    "n = int(input())\n",
    "\n",
    "a = int(input())\n",
    "for i in range(1, n):\n",
    "    b = int(input())\n",
    "    while a != 0 and b != 0:\n",
    "        (a, b) = (a - b, b) if a > b else (b - a, a)\n",
    "    a += b\n",
    "\n",
    "print(a)"
   ]
  },
  {
   "cell_type": "markdown",
   "metadata": {},
   "source": [
    "## G. На старт! Внимание! Марш!\n"
   ]
  },
  {
   "cell_type": "code",
   "execution_count": null,
   "metadata": {},
   "outputs": [],
   "source": [
    "n = int(input())\n",
    "\n",
    "v = 3\n",
    "for i in range(1, n + 1):\n",
    "    for j in range(v, 0, -1):\n",
    "        print(f'До старта {j} секунд(ы)')\n",
    "    print(f'Старт {i}!!!')\n",
    "    v += 1    "
   ]
  },
  {
   "cell_type": "markdown",
   "metadata": {},
   "source": [
    "## H. Максимальная сумма\n"
   ]
  },
  {
   "cell_type": "code",
   "execution_count": null,
   "metadata": {},
   "outputs": [],
   "source": [
    "n = int(input())\n",
    "\n",
    "m = 0\n",
    "w = ''\n",
    "\n",
    "for i in range(n):\n",
    "    s = str(input())\n",
    "    v = int(input())\n",
    "    a = 0\n",
    "    while v != 0:\n",
    "        a += v % 10\n",
    "        v //= 10\n",
    "    if a >= m:\n",
    "        m = a\n",
    "        w = s   \n",
    "print(w)        "
   ]
  },
  {
   "cell_type": "markdown",
   "metadata": {},
   "source": [
    "## I. Большое число\n"
   ]
  },
  {
   "cell_type": "code",
   "execution_count": null,
   "metadata": {},
   "outputs": [],
   "source": [
    "n = int(input())\n",
    "\n",
    "m = 0\n",
    "for i in range(1, n + 1):\n",
    "    v = int(input())\n",
    "    a = 0\n",
    "    while v != 0:\n",
    "        b = v % 10\n",
    "        a = b if b > a else a\n",
    "        v //= 10\n",
    "    m = m * 10 + a    \n",
    "\n",
    "print(m)"
   ]
  },
  {
   "cell_type": "markdown",
   "metadata": {},
   "source": [
    "## J. Мы делили апельсин\n"
   ]
  },
  {
   "cell_type": "code",
   "execution_count": null,
   "metadata": {},
   "outputs": [],
   "source": [
    "n = int(input())\n",
    "\n",
    "print('А Б В')\n",
    "\n",
    "for i in range(1, n - 1):\n",
    "    for j in range(1, n - i):\n",
    "        print(i, j, n - i - j)"
   ]
  },
  {
   "cell_type": "markdown",
   "metadata": {},
   "source": [
    "## K. Простая задача 3.0\n"
   ]
  },
  {
   "cell_type": "code",
   "execution_count": null,
   "metadata": {},
   "outputs": [],
   "source": [
    "n = int(input())\n",
    "\n",
    "c = 0\n",
    "for i in range(n):\n",
    "    v = int(input())\n",
    "    if v > 1:\n",
    "        d = 2\n",
    "        while d * d <= v and v % d != 0:\n",
    "            d += 1\n",
    "        if d * d > v:\n",
    "            c += 1\n",
    "print(c)                "
   ]
  },
  {
   "cell_type": "markdown",
   "metadata": {},
   "source": [
    "## L. Числовой прямоугольник\n"
   ]
  },
  {
   "cell_type": "code",
   "execution_count": null,
   "metadata": {},
   "outputs": [],
   "source": [
    "n, m = int(input()), int(input())\n",
    "lenm = len(str(n * m))\n",
    "\n",
    "v = 1\n",
    "for i in range(n):\n",
    "    for j in range(m):\n",
    "        print(' ' * (lenm - len(str(v))), v, sep='', end=' ')\n",
    "        v += 1\n",
    "    print()    "
   ]
  },
  {
   "cell_type": "markdown",
   "metadata": {},
   "source": [
    "## M. Числовой прямоугольник 2.0\n"
   ]
  },
  {
   "cell_type": "code",
   "execution_count": null,
   "metadata": {},
   "outputs": [],
   "source": [
    "n, m = int(input()), int(input())\n",
    "lenm = len(str(n * m))\n",
    "\n",
    "for i in range(n):\n",
    "    for j in range(m):\n",
    "        v = j * n + i + 1\n",
    "        print(' ' * (lenm - len(str(v))), v, sep='', end=' ')\n",
    "    print()    "
   ]
  },
  {
   "cell_type": "markdown",
   "metadata": {},
   "source": [
    "## N. Числовая змейка\n"
   ]
  },
  {
   "cell_type": "code",
   "execution_count": null,
   "metadata": {},
   "outputs": [],
   "source": [
    "n, m = int(input()), int(input())\n",
    "lenm = len(str(n * m))\n",
    "\n",
    "for i in range(n):\n",
    "    if i % 2 == 0:\n",
    "        bg, en, st = i * m + 1, (i + 1) * m + 1, 1\n",
    "    else:\n",
    "        bg, en, st = (i + 1) * m, i * m, -1\n",
    "    for j in range(bg, en, st):\n",
    "        print(' ' * (lenm - len(str(j))), j, sep='', end=' ')\n",
    "    print()    \n"
   ]
  },
  {
   "cell_type": "markdown",
   "metadata": {},
   "source": [
    "## O. Числовая змейка 2.0\n"
   ]
  },
  {
   "cell_type": "code",
   "execution_count": null,
   "metadata": {},
   "outputs": [],
   "source": [
    "n, m = int(input()), int(input())\n",
    "lenm = len(str(n * m))\n",
    "\n",
    "for i in range(n):\n",
    "    for j in range(m):\n",
    "        v = j * n + 1\n",
    "        v += i if j % 2 == 0 else (n - i - 1)\n",
    "        print(' ' * (lenm - len(str(v))), v, sep='', end=' ')\n",
    "    print()    "
   ]
  },
  {
   "cell_type": "markdown",
   "metadata": {},
   "source": [
    "## P. Редизайн таблицы умножения\n"
   ]
  },
  {
   "cell_type": "code",
   "execution_count": null,
   "metadata": {},
   "outputs": [],
   "source": [
    "n, m = int(input()), int(input())\n",
    "delv = '|'\n",
    "st = '-' * (n * m + n - 1)\n",
    "\n",
    "for i in range(1, n + 1):\n",
    "    for j in range(i, i * n, i):\n",
    "        print(f'{j: ^{m}}', end=delv)\n",
    "    print(f'{(i * n): ^{m}} ')\n",
    "    if i < n:\n",
    "        print(st)"
   ]
  },
  {
   "cell_type": "markdown",
   "metadata": {},
   "source": [
    "## Q. А роза упала на лапу Азора 3.0\n"
   ]
  },
  {
   "cell_type": "code",
   "execution_count": null,
   "metadata": {},
   "outputs": [],
   "source": [
    "n = int(input())\n",
    "\n",
    "c = 0\n",
    "for i in range(n):\n",
    "    v = int(input())\n",
    "    if v > 9:\n",
    "        k = 10 ** (len(str(v)) - 1)\n",
    "        while v > 9:\n",
    "            a = v // k\n",
    "            b = v % 10\n",
    "            if a != b:\n",
    "                break\n",
    "            v = (v - a * k) // 10   \n",
    "            k //= 100\n",
    "        else:\n",
    "            c += 1        \n",
    "    else:\n",
    "        c += 1    \n",
    "\n",
    "print(c)        "
   ]
  },
  {
   "cell_type": "markdown",
   "metadata": {},
   "source": [
    "## R. Новогоднее настроение 2.0\n"
   ]
  },
  {
   "cell_type": "code",
   "execution_count": null,
   "metadata": {},
   "outputs": [],
   "source": [
    "n = int(input())\n",
    "\n",
    "v = 0\n",
    "m = 1\n",
    "pl = 0\n",
    "while v < n:\n",
    "    pl = v\n",
    "    v += m\n",
    "    m += 1\n",
    "\n",
    "lenl = n - pl\n",
    "for i in range(pl + 1, n + 1):\n",
    "    lenl += len(str(i))\n",
    "\n",
    "sf = '{0: ^{1}}'\n",
    "\n",
    "mi = 1\n",
    "v = 0\n",
    "for mi in range(1, m):\n",
    "    s = ''\n",
    "    for i in range(mi):\n",
    "        v += 1\n",
    "        s += str(v) + ' '\n",
    "        if v == n:\n",
    "            break\n",
    "    print(sf.format(s, lenl))            "
   ]
  },
  {
   "cell_type": "markdown",
   "metadata": {},
   "source": [
    "## S. Числовой квадрат\n"
   ]
  },
  {
   "cell_type": "code",
   "execution_count": null,
   "metadata": {},
   "outputs": [],
   "source": [
    "n = int(input())\n",
    "v = n // 2 + n % 2\n",
    "ln = len(str(v))\n",
    "\n",
    "for i in range(1, n + 1):\n",
    "    s = ''\n",
    "    for j in range(1, n + 1):\n",
    "        a = n - i + 1\n",
    "        a = i if i < a else a\n",
    "        b = n - j + 1\n",
    "        b = j if j < b else b\n",
    "        m = min(a, b)\n",
    "        s += f'{m: >{ln}} '\n",
    "    print(s)"
   ]
  },
  {
   "cell_type": "markdown",
   "metadata": {},
   "source": [
    "## T. Математическая выгода"
   ]
  },
  {
   "cell_type": "code",
   "execution_count": null,
   "metadata": {},
   "outputs": [],
   "source": [
    "n = int(input())\n",
    "\n",
    "k = 10\n",
    "s = 0\n",
    "for i in range(10, 1, -1):\n",
    "    v = n\n",
    "    km = 1\n",
    "    sm = 0\n",
    "    while v >= km * i:\n",
    "        km *= i\n",
    "    while v > 0:\n",
    "        a = v // km\n",
    "        sm += a\n",
    "        v -= a * km\n",
    "        km //= i\n",
    "    if s <= sm:\n",
    "        k = i\n",
    "        s = sm\n",
    "print(k)            "
   ]
  }
 ],
 "metadata": {
  "language_info": {
   "name": "python"
  }
 },
 "nbformat": 4,
 "nbformat_minor": 2
}
