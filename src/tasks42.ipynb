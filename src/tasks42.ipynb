{
  "metadata": {
    "kernelspec": {
      "name": "python",
      "display_name": "Python (Pyodide)",
      "language": "python"
    },
    "language_info": {
      "codemirror_mode": {
        "name": "python",
        "version": 3
      },
      "file_extension": ".py",
      "mimetype": "text/x-python",
      "name": "python",
      "nbconvert_exporter": "python",
      "pygments_lexer": "ipython3",
      "version": "3.8"
    }
  },
  "nbformat_minor": 4,
  "nbformat": 4,
  "cells": [
    {
      "cell_type": "markdown",
      "source": "# Позиционные и именованные аргументы. Функции высших порядков. Лямбда-функции",
      "metadata": {}
    },
    {
      "cell_type": "markdown",
      "source": "## A. Генератор списков\n",
      "metadata": {}
    },
    {
      "cell_type": "code",
      "source": "def make_list(length, value=0):\n    return [value for i in range(length)]",
      "metadata": {
        "trusted": true
      },
      "outputs": [],
      "execution_count": null
    },
    {
      "cell_type": "markdown",
      "source": "## B. Генератор матриц\n",
      "metadata": {}
    },
    {
      "cell_type": "code",
      "source": "def make_matrix(size, value=0):\n    (n, m) = size if isinstance(size, tuple) else (size, size)\n    return [[value] * n for i in range(m)]",
      "metadata": {
        "trusted": true
      },
      "outputs": [],
      "execution_count": null
    },
    {
      "cell_type": "markdown",
      "source": "## C. Функциональный нод 2.0\n",
      "metadata": {}
    },
    {
      "cell_type": "code",
      "source": "def gcd(*values):\n    a = values[0]\n    for i in range(1, len(values)):\n        b = values[i]\n        while b != 0:\n            (a, b) = (b, a - b) if a > b else (a, b - a)\n    return a        ",
      "metadata": {
        "trusted": true
      },
      "outputs": [],
      "execution_count": null
    },
    {
      "cell_type": "markdown",
      "source": "## D. Имя of the month 2.0\n",
      "metadata": {}
    },
    {
      "cell_type": "code",
      "source": "def month(n, lang=\"ru\"):\n    d = {\n        1: [\"Январь\", \"january\"],\n        2: [\"Февраль\", \"febuary\"], \n        3: [\"Март\", \"march\"],\n        4: [\"Апрель\", \"april\"],\n        5: [\"май\", \"may\"],\n        6: [\"июнь\", \"june\"],\n        7: [\"июль\", \"july\"],\n        8: [\"август\", \"august\"],\n        9: [\"сентябрь\", \"september\"],\n        10: [\"октябрь\", \"october\"],\n        11: [\"ноябрь\", \"november\"],\n        12: [\"декабрь\", \"december\"]\n    }\n    lv = 0 if lang == \"ru\" else 1\n    return d[n][lv].capitalize()",
      "metadata": {
        "trusted": true
      },
      "outputs": [],
      "execution_count": null
    },
    {
      "cell_type": "markdown",
      "source": "## E. Подготовка данных\n",
      "metadata": {}
    },
    {
      "cell_type": "code",
      "source": "def to_string(*args, sep=' ', end='\\n'):\n    argss = [str(a) for a in args]\n    return sep.join(argss) + end",
      "metadata": {
        "trusted": true
      },
      "outputs": [],
      "execution_count": null
    },
    {
      "cell_type": "markdown",
      "source": "## F. Кофейня\n",
      "metadata": {}
    },
    {
      "cell_type": "code",
      "source": "def order(*args):\n    cs = \"К сожалению, не можем предложить Вам напиток\" \n    \n    f, m, r = \"coffee\", \"milk\", \"cream\"\n    coff, milk, cr = in_stock[\"coffee\"], in_stock[\"milk\"], in_stock[\"cream\"]\n    for d in args:\n        match d:\n            case \"Эспрессо\":\n                if coff >= 1:\n                    in_stock[f] -= 1\n                    cs = d\n                    break\n            case \"Капучино\":\n                if coff >= 1 and milk >= 3:\n                    in_stock[f] -= 1\n                    in_stock[m] -= 3\n                    cs = d\n                    break\n            case \"Макиато\":\n                if coff >= 2 and milk >= 1:\n                    in_stock[f] -= 2\n                    in_stock[m] -= 1\n                    cs = d\n                    break\n            case \"Кофе по-венски\":\n                if coff >= 1 and cr >= 2:\n                    in_stock[f] -= 1\n                    in_stock[r] -= 2\n                    cs = d\n                    break\n            case \"Латте Макиато\":\n                if coff >= 1 and milk >= 2 and cr >= 1:\n                    in_stock[f] -= 1\n                    in_stock[m] -= 2\n                    in_stock[r] -= 1\n                    cs = d\n                    break\n            case \"Кон Панна\":\n                if coff >= 1 and cr >= 1:\n                    in_stock[f] -= 1\n                    in_stock[r] -= 1\n                    cs = d\n                    break\n\n    return cs        ",
      "metadata": {
        "trusted": true
      },
      "outputs": [],
      "execution_count": null
    },
    {
      "cell_type": "markdown",
      "source": "## G. В эфире рубрика «Эксперименты»\n",
      "metadata": {}
    },
    {
      "cell_type": "code",
      "source": "from functools import reduce\n\n\ndef enter_results(*args):\n    if \"results\" not in globals():\n        global results\n        results = []\n    results += [(args[i], args[i + 1]) for i in range(0, len(args), 2)]\n\n\ndef get_sum():\n    return reduce(lambda x, y: (x[0] + y[0], x[1] + y[1]), results)\n    \n\ndef get_average():  \n    sm = get_sum()  \n    n = len(results)\n    return (round(sm[0] / n, 2), round(sm[1] / n, 2))    ",
      "metadata": {
        "trusted": true
      },
      "outputs": [],
      "execution_count": null
    },
    {
      "cell_type": "code",
      "source": "def enter_results(*args):\n    if \"results\" not in globals():\n        global results\n        results = []\n    results += [(args[i], args[i + 1]) for i in range(0, len(args), 2)]\n\n\ndef get_sum():\n    s1 = sum([s[0] for s in results])\n    s2 = sum([s[1] for s in results])\n    return (s1, s2)\n    \n\ndef get_average():  \n    sm = get_sum()  \n    n = len(results)\n    return (round(sm[0] / n, 2), round(sm[1] / n, 2))    ",
      "metadata": {
        "trusted": true
      },
      "outputs": [],
      "execution_count": null
    },
    {
      "cell_type": "markdown",
      "source": "## H. Длинная сортировка\n",
      "metadata": {}
    },
    {
      "cell_type": "code",
      "source": "lambda x: (len(x), x.lower())",
      "metadata": {
        "trusted": true
      },
      "outputs": [],
      "execution_count": null
    },
    {
      "cell_type": "markdown",
      "source": "## I. Чётная фильтрация\n",
      "metadata": {}
    },
    {
      "cell_type": "code",
      "source": "lambda x: sum([int(i) for i in list(str(x))]) % 2 == 0",
      "metadata": {
        "trusted": true
      },
      "outputs": [],
      "execution_count": null
    },
    {
      "cell_type": "markdown",
      "source": "## J. Ключевой секрет\n",
      "metadata": {}
    },
    {
      "cell_type": "code",
      "source": "def secret_replace(text, **rules):\n    enc = ''\n\n    al = dict()\n    for c in text:\n        if c in rules:\n            n = len(rules[c])\n            if n > 1:\n                if c in al:\n                    al[c] += 1\n                    m = al[c]\n                    enc += rules[c][m % n]\n                else:\n                    al[c] = 0\n                    enc += rules[c][0]   \n            else:\n                enc += rules[c][0]    \n        else:\n            enc += c    \n\n    return enc",
      "metadata": {
        "trusted": true
      },
      "outputs": [],
      "execution_count": null
    }
  ]
}