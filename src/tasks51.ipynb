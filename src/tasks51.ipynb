{
  "metadata": {
    "kernelspec": {
      "name": "python",
      "display_name": "Python (Pyodide)",
      "language": "python"
    },
    "language_info": {
      "codemirror_mode": {
        "name": "python",
        "version": 3
      },
      "file_extension": ".py",
      "mimetype": "text/x-python",
      "name": "python",
      "nbconvert_exporter": "python",
      "pygments_lexer": "ipython3",
      "version": "3.8"
    }
  },
  "nbformat_minor": 4,
  "nbformat": 4,
  "cells": [
    {
      "cell_type": "markdown",
      "source": "# Объектная модель Python. Классы, поля и методы",
      "metadata": {}
    },
    {
      "cell_type": "markdown",
      "source": "## A. Классная точка\n",
      "metadata": {}
    },
    {
      "cell_type": "code",
      "source": "class Point:\n\n    def __init__(self, x, y):\n        self.x = x\n        self.y = y",
      "metadata": {
        "trusted": true
      },
      "outputs": [],
      "execution_count": null
    },
    {
      "cell_type": "markdown",
      "source": "## B. Классная точка 2.0\n",
      "metadata": {}
    },
    {
      "cell_type": "code",
      "source": "class Point:\n\n    def __init__(self, x, y):\n        self.x = x\n        self.y = y\n\n    def move(self, a, b):\n        self.x += a\n        self.y += b    \n\n    def length(self, p):\n        lv = ((self.x - p.x) ** 2 + (self.y - p.y) ** 2) ** 0.5 \n        return float(f'{lv:.2f}')  ",
      "metadata": {
        "trusted": true
      },
      "outputs": [],
      "execution_count": null
    },
    {
      "cell_type": "markdown",
      "source": "## C. Не нажимай красную кнопку!\n",
      "metadata": {}
    },
    {
      "cell_type": "code",
      "source": "class RedButton:\n\n    def __init__(self):\n        self.c = 0\n\n    def click(self):\n        print('Тревога!') \n        self.c += 1\n\n    def count(self): \n        return self.c     ",
      "metadata": {
        "trusted": true
      },
      "outputs": [],
      "execution_count": null
    },
    {
      "cell_type": "markdown",
      "source": "## D. Работа не волк\n",
      "metadata": {}
    },
    {
      "cell_type": "code",
      "source": "class Programmer:\n\n    def __init__(self, name, state):\n        self.name = name\n        self.state = state\n        self.workout = 0\n        self.money = 0\n        self.sts = {'Junior': 10, 'Middle': 15, 'Senior': 20}\n\n    def work(self, time):\n        self.workout += time\n        self.money += self.sts[self.state] * time\n        \n    def rise(self):\n        match self.state:\n            case 'Junior':\n                self.state = 'Middle'\n            case 'Middle':\n                self.state = 'Senior'\n            case 'Senior':\n                self.sts['Senior'] += 1\n\n    def info(self):\n        return f'{self.name} {self.workout}ч. {self.money}тгр.'            ",
      "metadata": {
        "trusted": true
      },
      "outputs": [],
      "execution_count": null
    },
    {
      "cell_type": "markdown",
      "source": "## E. Классный прямоугольник\n",
      "metadata": {}
    },
    {
      "cell_type": "code",
      "source": "class Rectangle:\n\n    def __init__(self, csa, csb):\n        a = abs(csa[0] - csb[0]) \n        b = abs(csa[1] - csb[1])\n        self.p = float(f'{2 * (a + b):.2f}')\n        self.a = float(f'{a * b:.2f}')\n    \n    def perimeter(self):\n        return self.p\n    \n    def area(self):\n        return self.a       ",
      "metadata": {
        "trusted": true
      },
      "outputs": [],
      "execution_count": null
    },
    {
      "cell_type": "markdown",
      "source": "## F. Классный прямоугольник 2.0\n",
      "metadata": {}
    },
    {
      "cell_type": "code",
      "source": "class Rectangle:\n\n    def __init__(self, pa, pb):\n        self.pa = pa\n        self.pb = pb\n\n    def norm(self, v):\n        return float(f'{v:.2f}')\n\n    def get_pos(self):\n        a = self.pa[0] if self.pb[0] > self.pa[0] else self.pb[0]\n        b = self.pa[1] if self.pb[1] < self.pa[1] else self.pb[1] \n        return (a, b)\n\n    def get_size(self):\n        a = self.norm(abs(self.pa[0] - self.pb[0]))\n        b = self.norm(abs(self.pa[1] - self.pb[1]))\n        return (a, b)\n\n    def move(self, dx, dy): \n        self.pa = (self.norm(self.pa[0] + dx), self.norm(self.pa[1] + dy)) \n        self.pb = (self.norm(self.pb[0] + dx), self.norm(self.pb[1] + dy))\n\n    def resize(self, width, height): \n        (px, py) = self.get_pos()\n        (x, y) = self.pa\n        \n        if px == x and py == y:\n            self.pa = (px, py)\n            self.pb = (px + width, py - height)\n        elif px == x: \n            self.pa = (px, py - height)\n            self.pb = (px + width, py)\n        elif py == y:\n            self.pa = (px + width, py)\n            self.pb = (px, py - height)\n        else:\n            self.pa = (px + width, py - height)\n            self.pb = (px, py)     \n\n    def perimeter(self):\n        v = 2 * (abs(self.pa[0] - self.pb[0]) + abs(self.pa[1] - self.pb[1]))\n        return self.norm(v)\n\n    def area(self):\n        v = abs(self.pa[0] - self.pb[0]) * abs(self.pa[1] - self.pb[1])\n        return self.norm(v)              ",
      "metadata": {
        "trusted": true
      },
      "outputs": [],
      "execution_count": null
    },
    {
      "cell_type": "markdown",
      "source": "## G. Классный прямоугольник 3.0\n",
      "metadata": {}
    },
    {
      "cell_type": "code",
      "source": "class Rectangle:\n\n    def __init__(self, pa, pb):\n        a = pa[0] if pb[0] > pa[0] else pb[0]\n        b = pa[1] if pb[1] < pa[1] else pb[1] \n        self.p = (a, b)\n        self.w = self.norm(abs(pa[0] - pb[0]))\n        self.h = self.norm(abs(pa[1] - pb[1]))\n\n    def norm(self, v):\n        return float(f'{v:.2f}')\n\n    def get_pos(self):\n        return self.p\n\n    def get_size(self):\n        return (self.w, self.h)\n\n    def move(self, dx, dy): \n        self.p = (self.norm(self.p[0] + dx), self.norm(self.p[1] + dy)) \n        \n    def resize(self, width, height): \n        self.w = width\n        self.h = height        \n\n    def perimeter(self):\n        return self.norm(2 * (self.w + self.h))\n\n    def area(self):\n        return self.norm(self.w * self.h) \n\n    def turn(self):\n        (pcx, pcy) = self.get_center()\n        h = self.h\n        self.h = self.w\n        self.w = h\n        self.p = (self.norm(pcx - self.w / 2), self.norm(pcy + self.h / 2))\n\n    def scale(self, factor): \n        (pcx, pcy) = self.get_center()\n        self.w = self.norm(self.w * factor)\n        self.h = self.norm(self.h * factor)\n        self.p = (self.norm(pcx - self.w / 2), self.norm(pcy + self.h / 2))\n\n    def get_center(self):\n        pcx = self.norm(self.p[0] + self.w / 2)\n        pcy = self.norm(self.p[1] - self.h / 2)\n        return (pcx, pcy)\n",
      "metadata": {
        "trusted": true
      },
      "outputs": [],
      "execution_count": null
    },
    {
      "cell_type": "markdown",
      "source": "## H. Шашки\n",
      "metadata": {}
    },
    {
      "cell_type": "code",
      "source": "class Checkers:\n\n    def __init__(self):\n        self.d = dict()\n        for row in range(8, 0, -1):\n            for ind, col in enumerate('ABCDEFGH', 1):\n                if row > 5 and row % 2 == ind % 2:\n                    self.d[col + str(row)] = Cell(\"B\")\n                elif row < 4 and row % 2 == ind % 2:\n                    self.d[col + str(row)] = Cell(\"W\")\n                else:    \n                    self.d[col + str(row)] = Cell(\"X\")\n\n    def move(self, f, t):\n        self.d[t] = self.d[f]\n        self.d[f] = Cell(\"X\")\n\n    def get_cell(self, p): \n        return self.d[p]       \n\n\nclass Cell:   \n\n    def __init__(self, status): \n        self.s = status   \n\n    def status(self):\n        return self.s\n",
      "metadata": {
        "trusted": true
      },
      "outputs": [],
      "execution_count": null
    },
    {
      "cell_type": "markdown",
      "source": "## I. Очередь\n",
      "metadata": {}
    },
    {
      "cell_type": "code",
      "source": "class Queue:\n\n    def __init__(self):\n        self.q = []\n\n    def push(self, item):\n        self.q.append(item)\n\n    def pop(self):\n        v = self.q[0]\n        self.q = self.q[1::]\n        return v\n\n    def is_empty(self):\n        return len(self.q) == 0            ",
      "metadata": {
        "trusted": true
      },
      "outputs": [],
      "execution_count": null
    },
    {
      "cell_type": "markdown",
      "source": "## J. Стек",
      "metadata": {}
    },
    {
      "cell_type": "code",
      "source": "class Stack:\n\n    def __init__(self):\n        self.q = []\n\n    def push(self, item):\n        self.q.append(item)\n\n    def pop(self):\n        v = self.q[-1]\n        self.q = self.q[:-1:]\n        return v\n\n    def is_empty(self):\n        return len(self.q) == 0            ",
      "metadata": {
        "trusted": true
      },
      "outputs": [],
      "execution_count": null
    }
  ]
}