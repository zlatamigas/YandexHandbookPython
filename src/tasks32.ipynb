{
 "cells": [
  {
   "cell_type": "markdown",
   "metadata": {},
   "source": [
    "# 3.2. Множества, словари"
   ]
  },
  {
   "cell_type": "markdown",
   "metadata": {},
   "source": [
    "## A. Символическая выжимка\n"
   ]
  },
  {
   "cell_type": "code",
   "execution_count": null,
   "metadata": {},
   "outputs": [],
   "source": [
    "s = input()\n",
    "v = ''.join(set(s))\n",
    "print(v)"
   ]
  },
  {
   "cell_type": "markdown",
   "metadata": {},
   "source": [
    "## B. Символическая разница\n"
   ]
  },
  {
   "cell_type": "code",
   "execution_count": null,
   "metadata": {},
   "outputs": [],
   "source": [
    "s1, s2 = set(input()), set(input())\n",
    "s = ''.join(s1 & s2)\n",
    "print(s)"
   ]
  },
  {
   "cell_type": "markdown",
   "metadata": {},
   "source": [
    "## C. Зайка — 8\n"
   ]
  },
  {
   "cell_type": "code",
   "execution_count": null,
   "metadata": {},
   "outputs": [],
   "source": [
    "n = int(input())\n",
    "ss = set()\n",
    "for i in range(n):\n",
    "    for s in input().split():\n",
    "        ss.add(s) \n",
    "\n",
    "for s in ss:\n",
    "    print(s)"
   ]
  },
  {
   "cell_type": "markdown",
   "metadata": {},
   "source": [
    "## D. Кашееды\n"
   ]
  },
  {
   "cell_type": "code",
   "execution_count": null,
   "metadata": {},
   "outputs": [],
   "source": [
    "n, m = int(input()), int(input())\n",
    "nv, mv = set(), set()\n",
    "for i in range(n):\n",
    "    nv.add(input())\n",
    "for i in range(m):\n",
    "    mv.add(input())\n",
    "v = nv & mv\n",
    "print(len(v) if len(v) > 0 else 'Таких нет')    "
   ]
  },
  {
   "cell_type": "markdown",
   "metadata": {},
   "source": [
    "## E. Кашееды — 2\n"
   ]
  },
  {
   "cell_type": "code",
   "execution_count": null,
   "metadata": {},
   "outputs": [],
   "source": [
    "n, m = int(input()), int(input())\n",
    "v = set()\n",
    "for i in range(n + m):\n",
    "    r = input()\n",
    "    if r in v:\n",
    "        v.discard(r)\n",
    "    else:\n",
    "        v.add(r)     \n",
    "print(len(v) if len(v) > 0 else 'Таких нет')"
   ]
  },
  {
   "cell_type": "markdown",
   "metadata": {},
   "source": [
    "## F. Кашееды — 3\n"
   ]
  },
  {
   "cell_type": "code",
   "execution_count": null,
   "metadata": {},
   "outputs": [],
   "source": [
    "n, m = int(input()), int(input())\n",
    "v = set()\n",
    "for i in range(n + m):\n",
    "    r = input()\n",
    "    if r in v:\n",
    "        v.discard(r)\n",
    "    else:\n",
    "        v.add(r)  \n",
    "for i in sorted(list(v)):\n",
    "    print(i)    \n",
    "if len(v) == 0:\n",
    "    print('Таких нет')       "
   ]
  },
  {
   "cell_type": "markdown",
   "metadata": {},
   "source": [
    "## G. Азбука Морзе\n"
   ]
  },
  {
   "cell_type": "code",
   "execution_count": null,
   "metadata": {},
   "outputs": [],
   "source": [
    "d = {\n",
    "    'A': '.-',\n",
    "    'B': '-...',\n",
    "    'C': '-.-.',\n",
    "    'D': '-..',\n",
    "    'E': '.',\n",
    "    'F': '..-.',\n",
    "    'G': '--.',\n",
    "    'H': '....',\n",
    "    'I': '..',\n",
    "    'J': '.---',\n",
    "    'K': '-.-',\n",
    "    'L': '.-..',\n",
    "    'M': '--',\n",
    "    'N': '-.',\n",
    "    'O': '---',\n",
    "    'P': '.--.',\n",
    "    'Q': '--.-',\n",
    "    'R': '.-.',\n",
    "    'S': '...',\n",
    "    'T': '-',\n",
    "    'U': '..-',\n",
    "    'V': '...-',\n",
    "    'W': '.--',\n",
    "    'X': '-..-',\n",
    "    'Y': '-.--',\n",
    "    'Z': '--..',\n",
    "    '0': '-----', \n",
    "    '1': '.----',\n",
    "    '2': '..---',\n",
    "    '3': '...--',\n",
    "    '4': '....-',\n",
    "    '5': '.....',\n",
    "    '6': '-....',\n",
    "    '7': '--...',\n",
    "    '8': '---..',\n",
    "    '9': '----.'\n",
    "}   \n",
    "\n",
    "ss = input().upper().split()\n",
    "for s in ss:\n",
    "    for v in s:\n",
    "        print(d[v], sep='', end=' ')\n",
    "    print()    "
   ]
  },
  {
   "cell_type": "markdown",
   "metadata": {},
   "source": [
    "## H. Кашееды — 4\n"
   ]
  },
  {
   "cell_type": "code",
   "execution_count": null,
   "metadata": {},
   "outputs": [],
   "source": [
    "n = int(input())\n",
    "\n",
    "v = dict()\n",
    "for i in range(n):\n",
    "    r = input().split()\n",
    "    name = r.pop(0)\n",
    "    for k in r:\n",
    "        v[k] = v.get(k, []) + [name]\n",
    "\n",
    "if (k := input()) in v:\n",
    "    for name in sorted(v[k]):\n",
    "        print(name)\n",
    "else:\n",
    "    print('Таких нет')        "
   ]
  },
  {
   "cell_type": "markdown",
   "metadata": {},
   "source": [
    "## I. Зайка — 9\n"
   ]
  },
  {
   "cell_type": "code",
   "execution_count": null,
   "metadata": {},
   "outputs": [],
   "source": [
    "v = dict()\n",
    "while (s := input()) != '':\n",
    "    for sv in s.split():\n",
    "        if sv in v:\n",
    "            v[sv] += 1\n",
    "        else:\n",
    "            v[sv] = 1\n",
    "\n",
    "for i, c in v.items():\n",
    "    print(i, c)"
   ]
  },
  {
   "cell_type": "markdown",
   "metadata": {},
   "source": [
    "## J. Транслитерация\n"
   ]
  },
  {
   "cell_type": "code",
   "execution_count": null,
   "metadata": {},
   "outputs": [],
   "source": [
    "d = {\n",
    "    'А': 'A',\n",
    "    'Б': 'B',\n",
    "    'В': 'V',\n",
    "    'Г': 'G',\n",
    "    'Д': 'D',\n",
    "    'Е': 'E',\n",
    "    'Ё': 'E',\n",
    "    'Ж': 'ZH',\n",
    "    'З': 'Z',\n",
    "    'И': 'I',\n",
    "    'Й': 'I',\n",
    "    'К': 'K',\n",
    "    'Л': 'L',\n",
    "    'М': 'M',\n",
    "    'Н': 'N',\n",
    "    'О': 'O',\n",
    "    'П': 'P',\n",
    "    'Р': 'R',\n",
    "    'С': 'S',\n",
    "    'Т': 'T',\n",
    "    'У': 'U',\n",
    "    'Ф': 'F',\n",
    "    'Х': 'KH',\n",
    "    'Ц': 'TC',\n",
    "    'Ч': 'CH',\n",
    "    'Ш': 'SH',\n",
    "    'Щ': 'SHCH',\n",
    "    'Ы': 'Y',\n",
    "    'Э': 'E', \n",
    "    'Ю': 'IU', \n",
    "    'Я': 'IA'\n",
    "}\n",
    "\n",
    "s = input()\n",
    "for ci in s:\n",
    "    if \"ьъЬЪ\".find(ci) != -1:\n",
    "        continue\n",
    "    ciu = ci.upper() \n",
    "    if ciu in d:\n",
    "        if ci.isupper() is True:\n",
    "            eci = d[ciu].capitalize()\n",
    "        else:\n",
    "            eci = d[ciu].lower()    \n",
    "    else:\n",
    "        eci = ci        \n",
    "\n",
    "    print(eci, end='')"
   ]
  },
  {
   "cell_type": "markdown",
   "metadata": {},
   "source": [
    "## K. Однофамильцы\n"
   ]
  },
  {
   "cell_type": "code",
   "execution_count": null,
   "metadata": {},
   "outputs": [],
   "source": [
    "n = int(input())\n",
    "ms = set()\n",
    "md = dict()\n",
    "for i in range(n):\n",
    "    s = input()\n",
    "    if s not in ms:\n",
    "        ms.add(s)\n",
    "    else:\n",
    "        if s in md:\n",
    "            md[s] += 1\n",
    "        else:\n",
    "            md[s] = 2    \n",
    "\n",
    "c = 0\n",
    "for i in md.values():\n",
    "    c += i\n",
    "print(c)       "
   ]
  },
  {
   "cell_type": "markdown",
   "metadata": {},
   "source": [
    "## L. Однофамильцы — 2\n"
   ]
  },
  {
   "cell_type": "code",
   "execution_count": null,
   "metadata": {},
   "outputs": [],
   "source": [
    "n = int(input())\n",
    "\n",
    "ms, md = set(), dict()\n",
    "\n",
    "for i in range(n):\n",
    "    s = input()\n",
    "    if s in ms:\n",
    "        if s in md:\n",
    "            md[s] += 1\n",
    "        else:\n",
    "            md[s] = 2   \n",
    "    else:\n",
    "        ms.add(s)\n",
    "\n",
    "for (name, v) in sorted(md.items()):\n",
    "    print(name, v, sep=' - ') \n",
    "if len(md) == 0:\n",
    "    print('Однофамильцев нет')      "
   ]
  },
  {
   "cell_type": "markdown",
   "metadata": {},
   "source": [
    "## M. Дайте чего-нибудь новенького!\n"
   ]
  },
  {
   "cell_type": "code",
   "execution_count": null,
   "metadata": {},
   "outputs": [],
   "source": [
    "n = int(input())\n",
    "dishes = set()\n",
    "for i in range(n):\n",
    "    dishes.add(input())\n",
    "\n",
    "for i in range(int(input())):\n",
    "    c = int(input())\n",
    "    for j in range(c):\n",
    "        dishes.discard(input())\n",
    "\n",
    "if len(dishes) > 0:\n",
    "    for i in sorted(list(dishes)):\n",
    "        print(i)\n",
    "else:\n",
    "    print('Готовить нечего')      "
   ]
  },
  {
   "cell_type": "markdown",
   "metadata": {},
   "source": [
    "## N. Это будет шедевр!\n"
   ]
  },
  {
   "cell_type": "code",
   "execution_count": null,
   "metadata": {},
   "outputs": [],
   "source": [
    "prods = set()\n",
    "for i in range(int(input())):\n",
    "    prods.add(input())\n",
    "\n",
    "ds = dict()\n",
    "for i in range(int(input())):\n",
    "    name = input()\n",
    "    ps = set()\n",
    "    for j in range(int(input())):\n",
    "        ps.add(input())\n",
    "    ds[name] = ps  \n",
    "\n",
    "ads = []\n",
    "for n, ps in ds.items():\n",
    "    if prods >= ps:\n",
    "        ads.append(n)\n",
    "\n",
    "if len(ads) == 0:\n",
    "    print('Готовить нечего')\n",
    "for n in sorted(ads):\n",
    "    print(n)    "
   ]
  },
  {
   "cell_type": "markdown",
   "metadata": {},
   "source": [
    "## O. Двоичная статистика!\n"
   ]
  },
  {
   "cell_type": "code",
   "execution_count": null,
   "metadata": {},
   "outputs": [],
   "source": [
    "vss = input().split()\n",
    "data = []\n",
    "\n",
    "for vs in vss:\n",
    "    v = f'{(int(vs)):b}'\n",
    "    d = {\n",
    "        \"digits\": len(v),\n",
    "        \"units\": v.count(\"1\"),\n",
    "        \"zeros\": v.count(\"0\")\n",
    "    }\n",
    "    data.append(d)\n",
    "\n",
    "print(data)"
   ]
  },
  {
   "cell_type": "markdown",
   "metadata": {},
   "source": [
    "## P. Зайка — 10\n"
   ]
  },
  {
   "cell_type": "code",
   "execution_count": null,
   "metadata": {},
   "outputs": [],
   "source": [
    "near = set()\n",
    "while (s := input()) != '':\n",
    "    sv = s.split()\n",
    "    li = len(sv) - 1\n",
    "    for i, v in enumerate(sv):\n",
    "        if v == 'зайка':\n",
    "            if i > 0:\n",
    "                near.add(sv[i - 1])\n",
    "            if i < li:\n",
    "                near.add(sv[i + 1])    \n",
    "\n",
    "for v in near:\n",
    "    print(v)    "
   ]
  },
  {
   "cell_type": "markdown",
   "metadata": {},
   "source": [
    "## Q. Друзья друзей\n"
   ]
  },
  {
   "cell_type": "code",
   "execution_count": null,
   "metadata": {},
   "outputs": [],
   "source": [
    "pairs = dict()\n",
    "peop = set()\n",
    "while (s := input()) != '':\n",
    "    sv = s.split()\n",
    "    (n, f) = tuple(sv)\n",
    "    pairs[n] = pairs.get(n, set()) | {f}\n",
    "    pairs[f] = pairs.get(f, set()) | {n}\n",
    "    peop = peop | {n, f}\n",
    "\n",
    "for ign in (peop - set(pairs.keys())):\n",
    "    pairs[ign] = set()\n",
    "\n",
    "for nv in sorted(pairs.keys()):\n",
    "    fs = set()\n",
    "    for fi in pairs[nv]:\n",
    "        fs = fs | pairs[fi] - {nv} - pairs[nv]\n",
    "    print(nv, ': ', ', '.join(sorted(list(fs))), sep='')      "
   ]
  },
  {
   "cell_type": "markdown",
   "metadata": {},
   "source": [
    "## R. Карта сокровищ\n"
   ]
  },
  {
   "cell_type": "code",
   "execution_count": null,
   "metadata": {},
   "outputs": [],
   "source": [
    "n = int(input()) \n",
    "d = dict()\n",
    "for i in range(n):\n",
    "    (xs, ys) = tuple(input().split())\n",
    "    key = f'{(xs[:-1])} {(ys[:-1])}'\n",
    "    if key in d:\n",
    "        d[key] += 1\n",
    "    else:\n",
    "        d[key] = 1\n",
    "\n",
    "print(max(d.values()))"
   ]
  },
  {
   "cell_type": "markdown",
   "metadata": {},
   "source": [
    "## S. Частная собственность\n"
   ]
  },
  {
   "cell_type": "code",
   "execution_count": null,
   "metadata": {},
   "outputs": [],
   "source": [
    "dtoys = dict()\n",
    "for i in range(int(input())):\n",
    "    s = input()\n",
    "    (name, tns) = s.split(\": \")\n",
    "    ntoys = set(tns.split(', '))\n",
    "    for t in ntoys:\n",
    "        dtoys[t] = dtoys.get(t, []) + [name]\n",
    "\n",
    "priv = set()\n",
    "for t, kids in dtoys.items():\n",
    "    if len(kids) == 1:\n",
    "        priv.add(t)\n",
    "\n",
    "for t in sorted(list(priv)):\n",
    "    print(t)"
   ]
  },
  {
   "cell_type": "markdown",
   "metadata": {},
   "source": [
    "## T. Простая задача 4.0"
   ]
  },
  {
   "cell_type": "code",
   "execution_count": null,
   "metadata": {},
   "outputs": [],
   "source": [
    "vss = set(input().split(\"; \"))\n",
    "vd = dict()\n",
    "\n",
    "for vs in vss:\n",
    "    v = int(vs)\n",
    "    prim = []\n",
    "    for bs in vss:\n",
    "        a = v\n",
    "        b = int(bs)\n",
    "        if v == b:\n",
    "            continue\n",
    "        while a != 0 and b != 0:\n",
    "            (a, b) = (a - b, b) if a > b else (a, b - a)\n",
    "        a += b\n",
    "        if a == 1:\n",
    "            prim.append(int(bs))\n",
    "    vd[v] = prim       \n",
    "\n",
    "for k in sorted(vd.keys()):\n",
    "    if len(vd[k]) == 0:\n",
    "        continue\n",
    "\n",
    "    vd[k].sort()\n",
    "    vdk = []\n",
    "    for vi in vd[k]:\n",
    "        vdk.append(str(vi))\n",
    "    print(k, ' - ', ', '.join(vdk), sep='')"
   ]
  }
 ],
 "metadata": {
  "language_info": {
   "name": "python"
  }
 },
 "nbformat": 4,
 "nbformat_minor": 2
}
