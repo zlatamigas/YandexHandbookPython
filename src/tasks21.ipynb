{
 "cells": [
  {
   "cell_type": "markdown",
   "metadata": {},
   "source": [
    "# 2.1. Ввод и вывод данных. Операции с числами, строками. Форматирование"
   ]
  },
  {
   "cell_type": "markdown",
   "metadata": {},
   "source": [
    "## A. Привет, Яндекс!"
   ]
  },
  {
   "cell_type": "code",
   "execution_count": null,
   "metadata": {},
   "outputs": [],
   "source": [
    "print('Привет, Яндекс!')"
   ]
  },
  {
   "cell_type": "markdown",
   "metadata": {},
   "source": [
    "## B. Привет, всем!"
   ]
  },
  {
   "cell_type": "code",
   "execution_count": null,
   "metadata": {},
   "outputs": [],
   "source": [
    "username = input('Как Вас зовут?')\n",
    "print(f'Привет, {username}')"
   ]
  },
  {
   "cell_type": "markdown",
   "metadata": {},
   "source": [
    "## C. Излишняя автоматизация"
   ]
  },
  {
   "cell_type": "code",
   "execution_count": null,
   "metadata": {},
   "outputs": [],
   "source": [
    "value = str(input()) + '\\n'\n",
    "print(value * 3)"
   ]
  },
  {
   "cell_type": "markdown",
   "metadata": {},
   "source": [
    "## D. Сдача"
   ]
  },
  {
   "cell_type": "code",
   "execution_count": null,
   "metadata": {},
   "outputs": [],
   "source": [
    "cost = 2.5 * 38\n",
    "paid = int(input())\n",
    "print(f'{(paid - cost):.0f}')"
   ]
  },
  {
   "cell_type": "markdown",
   "metadata": {},
   "source": [
    "## E. Магазин"
   ]
  },
  {
   "cell_type": "code",
   "execution_count": null,
   "metadata": {},
   "outputs": [],
   "source": [
    "price = int(input())\n",
    "weight = int(input())\n",
    "paid = int(input())\n",
    "print(paid - (weight * price))"
   ]
  },
  {
   "cell_type": "markdown",
   "metadata": {},
   "source": [
    "## F. Чек"
   ]
  },
  {
   "cell_type": "code",
   "execution_count": null,
   "metadata": {},
   "outputs": [],
   "source": [
    "name = str(input())\n",
    "price = int(input())\n",
    "weight = int(input())\n",
    "paid = int(input())\n",
    "cost = price * weight\n",
    "\n",
    "print('Чек')\n",
    "print(name, f'{weight}кг', f'{price}руб/кг', sep=' - ')\n",
    "print(f'Итого: {cost}руб', f'Внесено: {paid}руб', f'Сдача: {paid - cost}руб', sep='\\n')"
   ]
  },
  {
   "cell_type": "markdown",
   "metadata": {},
   "source": [
    "## G. Делу — время, потехе — час"
   ]
  },
  {
   "cell_type": "code",
   "execution_count": null,
   "metadata": {},
   "outputs": [],
   "source": [
    "repeat = int(input())\n",
    "s = 'Купи слона!\\n'\n",
    "print(s * repeat)"
   ]
  },
  {
   "cell_type": "markdown",
   "metadata": {},
   "source": [
    "## H. Наказание"
   ]
  },
  {
   "cell_type": "code",
   "execution_count": null,
   "metadata": {},
   "outputs": [],
   "source": [
    "repeat = int(input())\n",
    "v = str(input())\n",
    "s = f'Я больше никогда не буду писать \"{v}\"!\\n'\n",
    "print(s * repeat) "
   ]
  },
  {
   "cell_type": "markdown",
   "metadata": {},
   "source": [
    "## I. Деловая колбаса"
   ]
  },
  {
   "cell_type": "code",
   "execution_count": null,
   "metadata": {},
   "outputs": [],
   "source": [
    "n = int(input())\n",
    "m = int(input())\n",
    "v = 0.5\n",
    "print(int(n * v * m))"
   ]
  },
  {
   "cell_type": "markdown",
   "metadata": {},
   "source": [
    "## J. Детский сад — штаны на лямках"
   ]
  },
  {
   "cell_type": "code",
   "execution_count": null,
   "metadata": {},
   "outputs": [],
   "source": [
    "name = input()\n",
    "num = str(input())\n",
    "\n",
    "print(f'Группа №{num[0]}.')\n",
    "print(f'{num[2]}. {name}.')\n",
    "print(f'Шкафчик: {num}.')\n",
    "print(f'Кроватка: {num[1]}.')"
   ]
  },
  {
   "cell_type": "code",
   "execution_count": null,
   "metadata": {},
   "outputs": [],
   "source": [
    "name = input()\n",
    "num = int(input())\n",
    "\n",
    "print(f'Группа №{num // 100}.')\n",
    "print(f'{num % 10}. {name}.')\n",
    "print(f'Шкафчик: {num}.')\n",
    "print(f'Кроватка: {num // 10 % 10}.')"
   ]
  },
  {
   "cell_type": "markdown",
   "metadata": {},
   "source": [
    "## K. Автоматизация игры"
   ]
  },
  {
   "cell_type": "code",
   "execution_count": null,
   "metadata": {},
   "outputs": [],
   "source": [
    "vi = int(input())\n",
    "c1 = vi // 1000\n",
    "c2 = vi // 100 % 10\n",
    "c3 = vi // 10 % 10\n",
    "c4 = vi % 10\n",
    "\n",
    "print(c2, c1, c4, c3, sep='')"
   ]
  },
  {
   "cell_type": "code",
   "execution_count": null,
   "metadata": {},
   "outputs": [],
   "source": [
    "vi = str(input())\n",
    "print(vi[1], vi[0], vi[3], vi[2], sep='')"
   ]
  },
  {
   "cell_type": "markdown",
   "metadata": {},
   "source": [
    "## L. Интересное сложение\n"
   ]
  },
  {
   "cell_type": "code",
   "execution_count": null,
   "metadata": {},
   "outputs": [],
   "source": [
    "s1 = int(input())\n",
    "s2 = int(input())\n",
    "v1 = (s1 // 100 + s2 // 100) % 10\n",
    "v2 = (s1 // 10 % 10 + s2 // 10 % 10) % 10\n",
    "v3 = (s1 % 10 + s2 % 10) % 10\n",
    "\n",
    "print(v1, v2, v3, sep='')"
   ]
  },
  {
   "cell_type": "markdown",
   "metadata": {},
   "source": [
    "## M. Дед Мороз и конфеты\n"
   ]
  },
  {
   "cell_type": "code",
   "execution_count": null,
   "metadata": {},
   "outputs": [],
   "source": [
    "c = int(input())\n",
    "s = int(input())\n",
    "print(s // c, s % c, sep='\\n')"
   ]
  },
  {
   "cell_type": "markdown",
   "metadata": {},
   "source": [
    "## N. Шарики и ручки\n"
   ]
  },
  {
   "cell_type": "code",
   "execution_count": null,
   "metadata": {},
   "outputs": [],
   "source": [
    "r = int(input())\n",
    "g = int(input())\n",
    "b = int(input())\n",
    "\n",
    "print(r + b + 1)"
   ]
  },
  {
   "cell_type": "markdown",
   "metadata": {},
   "source": [
    "## O. В ожидании доставки\n"
   ]
  },
  {
   "cell_type": "code",
   "execution_count": null,
   "metadata": {},
   "outputs": [],
   "source": [
    "r = int(input())\n",
    "g = int(input())\n",
    "b = int(input())\n",
    "\n",
    "print(r + b + 1)"
   ]
  },
  {
   "cell_type": "markdown",
   "metadata": {},
   "source": [
    "## P. Доставка\n"
   ]
  },
  {
   "cell_type": "code",
   "execution_count": null,
   "metadata": {},
   "outputs": [],
   "source": [
    "a = int(input())\n",
    "b = int(input())\n",
    "c = float(input())\n",
    "\n",
    "print(f'{((b - a) / c):.2f}')"
   ]
  },
  {
   "cell_type": "markdown",
   "metadata": {},
   "source": [
    "## Q. Ошибка кассового аппарата\n"
   ]
  },
  {
   "cell_type": "code",
   "execution_count": null,
   "metadata": {},
   "outputs": [],
   "source": [
    "o = int(input())\n",
    "a = int(input(), 2)\n",
    "\n",
    "print(o + a)"
   ]
  },
  {
   "cell_type": "markdown",
   "metadata": {},
   "source": [
    "## R. Сдача 10\n"
   ]
  },
  {
   "cell_type": "code",
   "execution_count": null,
   "metadata": {},
   "outputs": [],
   "source": [
    "price = int(input(), 2)\n",
    "paid = int(input())\n",
    "\n",
    "print(paid - price)"
   ]
  },
  {
   "cell_type": "markdown",
   "metadata": {},
   "source": [
    "## S. Украшение чека\n"
   ]
  },
  {
   "cell_type": "code",
   "execution_count": null,
   "metadata": {},
   "outputs": [],
   "source": [
    "name = input()\n",
    "price = int(input())\n",
    "weight = int(input())\n",
    "paid = int(input())\n",
    "\n",
    "print('=' * 16, 'Чек', '=' * 16, sep='')\n",
    "print('Товар:', f'{name: >29}', sep='')\n",
    "\n",
    "cost = price * weight\n",
    "scost_f = f'{weight}кг * {price}руб/кг'\n",
    "\n",
    "print('Цена:', f'{scost_f: >30}', sep='')\n",
    "rubpat = '{}руб'\n",
    "print('Итого:', f'{rubpat.format(cost): >29}', sep='')\n",
    "print('Внесено:', f'{rubpat.format(paid): >27}', sep='')\n",
    "print('Сдача:', f'{rubpat.format(paid - cost): >29}', sep='')\n",
    "print('=' * 35)"
   ]
  },
  {
   "cell_type": "markdown",
   "metadata": {},
   "source": [
    "## T. Мухи отдельно, котлеты отдельно"
   ]
  },
  {
   "cell_type": "code",
   "execution_count": null,
   "metadata": {},
   "outputs": [],
   "source": [
    "n = int(input())\n",
    "m = int(input())\n",
    "k1 = int(input())\n",
    "k2 = int(input())\n",
    "\n",
    "a2 = int((k1 * n - m * n) / float(k1 - k2))\n",
    "a1 = n - a2\n",
    "\n",
    "print(a1, a2)"
   ]
  }
 ],
 "metadata": {
  "kernelspec": {
   "display_name": "Python 3",
   "language": "python",
   "name": "python3"
  },
  "language_info": {
   "codemirror_mode": {
    "name": "ipython",
    "version": 3
   },
   "file_extension": ".py",
   "mimetype": "text/x-python",
   "name": "python",
   "nbconvert_exporter": "python",
   "pygments_lexer": "ipython3",
   "version": "3.12.1"
  }
 },
 "nbformat": 4,
 "nbformat_minor": 2
}
