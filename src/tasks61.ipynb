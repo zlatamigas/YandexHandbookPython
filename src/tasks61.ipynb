{
  "metadata": {
    "kernelspec": {
      "name": "python",
      "display_name": "Python (Pyodide)",
      "language": "python"
    },
    "language_info": {
      "codemirror_mode": {
        "name": "python",
        "version": 3
      },
      "file_extension": ".py",
      "mimetype": "text/x-python",
      "name": "python",
      "nbconvert_exporter": "python",
      "pygments_lexer": "ipython3",
      "version": "3.8"
    }
  },
  "nbformat_minor": 4,
  "nbformat": 4,
  "cells": [
    {
      "cell_type": "markdown",
      "source": "# 6.1. Модули math и numpy",
      "metadata": {}
    },
    {
      "cell_type": "markdown",
      "source": "## A. Математика — круто, но это не точно\n",
      "metadata": {}
    },
    {
      "cell_type": "code",
      "source": "import math\n\nx = float(input())\n\na = math.log(math.pow(x, 3 / 16), 32) \nb = math.pow(x, math.cos(0.5 * math.pi * x / math.e)) \nc = math.pow(math.sin(x / math.pi), 2)\n\nprint(a + b - c)",
      "metadata": {
        "trusted": true
      },
      "outputs": [],
      "execution_count": null
    },
    {
      "cell_type": "markdown",
      "source": "## B. Потоковый НОД\n",
      "metadata": {}
    },
    {
      "cell_type": "code",
      "source": "from sys import stdin\nimport math\n\nlines = stdin.readlines()\nfor line in lines:\n    s = [int(x) for x in line.strip(\"\\n\").split()]\n    print(math.gcd(*s))",
      "metadata": {
        "trusted": true
      },
      "outputs": [],
      "execution_count": null
    },
    {
      "cell_type": "markdown",
      "source": "## C. Есть варианты?\n",
      "metadata": {}
    },
    {
      "cell_type": "code",
      "source": "import math\n\nss = input().split()\nn, m = int(ss[0]), int(ss[1])\n\nx = math.comb(n, m)\ny = math.comb(n - 1, m - 1)\n\nprint(y, x)",
      "metadata": {
        "trusted": true
      },
      "outputs": [],
      "execution_count": null
    },
    {
      "cell_type": "markdown",
      "source": "## D. Среднее не арифметическое\n",
      "metadata": {}
    },
    {
      "cell_type": "code",
      "source": "import math\n\nss = [float(x) for x in input().split()]\nv = math.pow(math.prod(ss), 1 / len(ss))\nprint(v)",
      "metadata": {
        "trusted": true
      },
      "outputs": [],
      "execution_count": null
    },
    {
      "cell_type": "markdown",
      "source": "## E. Шаг навстречу\n",
      "metadata": {}
    },
    {
      "cell_type": "code",
      "source": "import math\n\np1s = input().split()\np2s = input().split()\n\np1 = (float(p1s[0]), float(p1s[1]))\n\nr, q = float(p2s[0]), float(p2s[1])\np2 = (r * math.cos(q), r * math.sin(q))\n\nprint(math.dist(p1, p2))",
      "metadata": {
        "trusted": true
      },
      "outputs": [],
      "execution_count": null
    },
    {
      "cell_type": "markdown",
      "source": "## F. Матрица умножения\n",
      "metadata": {}
    },
    {
      "cell_type": "code",
      "source": "import numpy as np\n\n\ndef multiplication_matrix(n):\n    mv = []\n    for i in range(1, n + 1):\n        mv += [x for x in range(i, n * i + 1, i)]\n    \n    m = np.array(mv)\n    return m.reshape(n, n)",
      "metadata": {
        "trusted": true
      },
      "outputs": [],
      "execution_count": null
    },
    {
      "cell_type": "markdown",
      "source": "## G. Шахматная подготовка\n",
      "metadata": {}
    },
    {
      "cell_type": "code",
      "source": "import numpy as np\n\n\ndef make_board(n):\n    a = n if n % 2 != 0 else n + 1 \n    v = [1, 0] * (a * a + 1 // 2)\n    m = np.array(v[:(a * a)], dtype=\"int8\").reshape((a, a))\n    return m[:n, :n]",
      "metadata": {
        "trusted": true
      },
      "outputs": [],
      "execution_count": null
    },
    {
      "cell_type": "markdown",
      "source": "## H. Числовая змейка 3.0\n",
      "metadata": {}
    },
    {
      "cell_type": "code",
      "source": "import numpy as np\n\n\ndef snake(m, n, **kargs):\n    d = kargs.get(\"direction\", \"H\")\n\n    v = []\n\n    if d == \"V\":\n        n, m = m, n\n\n    for i in range(n):\n        if i % 2 == 0:\n            a = list(range(i * m + 1, (i + 1) * m + 1))\n        else:\n            a = list(range((i + 1) * m, i * m, -1))\n        v += a\n\n    vo = np.array(v, dtype=\"int16\").reshape((n, m))\n    if d == \"V\":\n        vo = vo.transpose()    \n        \n    return vo",
      "metadata": {
        "trusted": true
      },
      "outputs": [],
      "execution_count": null
    },
    {
      "cell_type": "markdown",
      "source": "## I. Вращение\n",
      "metadata": {}
    },
    {
      "cell_type": "code",
      "source": "import numpy as np\n\n\ndef rotate(mm, angle):\n    nmm = mm\n    for i in range(angle // 90):\n        nmm = np.rot90(nmm, -1)\n    return nmm",
      "metadata": {
        "trusted": true
      },
      "outputs": [],
      "execution_count": null
    },
    {
      "cell_type": "markdown",
      "source": "## J. Лесенка",
      "metadata": {}
    },
    {
      "cell_type": "code",
      "source": "import numpy as np\n\n\ndef stairs(v):\n    vr = np.flip(v, 0)\n    a = vr.size\n\n    vv = np.tile(vr, a + 1).reshape(a, a + 1)\n    vv = np.rot90(vv[:, :-1], -1)\n\n    return vv",
      "metadata": {
        "trusted": true
      },
      "outputs": [],
      "execution_count": null
    }
  ]
}
