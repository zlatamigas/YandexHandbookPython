{
  "metadata": {
    "kernelspec": {
      "name": "python",
      "display_name": "Python (Pyodide)",
      "language": "python"
    },
    "language_info": {
      "codemirror_mode": {
        "name": "python",
        "version": 3
      },
      "file_extension": ".py",
      "mimetype": "text/x-python",
      "name": "python",
      "nbconvert_exporter": "python",
      "pygments_lexer": "ipython3",
      "version": "3.8"
    }
  },
  "nbformat_minor": 4,
  "nbformat": 4,
  "cells": [
    {
      "cell_type": "markdown",
      "source": "# Волшебные методы, переопределение методов. Наследование",
      "metadata": {}
    },
    {
      "cell_type": "markdown",
      "source": "## A. Классная точка 3.0\n",
      "metadata": {}
    },
    {
      "cell_type": "code",
      "source": "class Point:\n\n    def __init__(self, x, y):\n        self.x = x\n        self.y = y\n\n    def move(self, a, b):\n        self.x += a\n        self.y += b    \n\n    def length(self, p):\n        lv = ((self.x - p.x) ** 2 + (self.y - p.y) ** 2) ** 0.5 \n        return self.norm(lv)  \n\n    def norm(self, value):\n        return float(f'{value:.2f}')      \n\n\nclass PatchedPoint(Point):\n\n    def __init__(self, *args): \n        match len(args):\n            case 0:\n                super().__init__(x=0, y=0)\n            case 1:\n                super().__init__(args[0][0], args[0][1])\n            case 2:\n                super().__init__(args[0], args[1])",
      "metadata": {
        "trusted": true
      },
      "outputs": [],
      "execution_count": null
    },
    {
      "cell_type": "markdown",
      "source": "## B. Классная точка 4.0\n",
      "metadata": {}
    },
    {
      "cell_type": "code",
      "source": "class Point:\n\n    def __init__(self, x, y):\n        self.x = x\n        self.y = y\n\n    def move(self, a, b):\n        self.x += a\n        self.y += b    \n\n    def length(self, p):\n        lv = ((self.x - p.x) ** 2 + (self.y - p.y) ** 2) ** 0.5 \n        return self.norm(lv)  \n\n    def norm(self, value):\n        return float(f'{value:.2f}')      \n\n\nclass PatchedPoint(Point):\n\n    def __init__(self, *args): \n        match len(args):\n            case 0:\n                super().__init__(x=0, y=0)\n            case 1:\n                super().__init__(args[0][0], args[0][1])\n            case 2:\n                super().__init__(args[0], args[1])\n\n    def __str__(self):\n        return f'({self.x}, {self.y})'\n\n    def __repr__(self): \n        return f'PatchedPoint({self.x}, {self.y})'               ",
      "metadata": {
        "trusted": true
      },
      "outputs": [],
      "execution_count": null
    },
    {
      "cell_type": "markdown",
      "source": "## C. Классная точка 5.0\n",
      "metadata": {}
    },
    {
      "cell_type": "code",
      "source": "class Point:\n\n    def __init__(self, x, y):\n        self.x = x\n        self.y = y\n\n    def move(self, a, b):\n        self.x += a\n        self.y += b    \n\n    def length(self, p):\n        lv = ((self.x - p.x) ** 2 + (self.y - p.y) ** 2) ** 0.5 \n        return self.norm(lv)  \n\n    def norm(self, value):\n        return float(f'{value:.2f}')      \n\n\nclass PatchedPoint(Point):\n\n    def __init__(self, *args): \n        match len(args):\n            case 0:\n                super().__init__(x=0, y=0)\n            case 1:\n                super().__init__(args[0][0], args[0][1])\n            case 2:\n                super().__init__(args[0], args[1])\n\n    def __str__(self):\n        return f'({self.x}, {self.y})'\n\n    def __repr__(self): \n        return f'PatchedPoint({self.x}, {self.y})'  \n\n    def __add__(self, other):\n        return PatchedPoint(self.x + other[0], self.y + other[1])\n\n    def __iadd__(self, other):\n        self.x += other[0]\n        self.y += other[1]\n        return self\n",
      "metadata": {
        "trusted": true
      },
      "outputs": [],
      "execution_count": null
    },
    {
      "cell_type": "markdown",
      "source": "## D. Дроби v0.1\n",
      "metadata": {}
    },
    {
      "cell_type": "code",
      "source": "class Fraction:\n\n    def __init__(self, *args):\n        match len(args):\n            case 1:\n                ss = args[0].split(\"/\")\n                self.n = int(ss[0])\n                self.d = int(ss[1])  \n            case 2:\n                self.n = int(args[0])\n                self.d = int(args[1])    \n                \n        self.__simplify() \n\n    def numerator(self, number=None):\n        if number is None:\n            return self.n\n        self.n = number\n        self.__simplify()    \n\n    def denominator(self, number=None):\n        if number is None:\n            return self.d\n        self.d = number\n        self.__simplify()        \n\n    def __simplify(self):\n        a, b = self.n, self.d\n        while a != 0 and b != 0:\n            if a > b:\n                a = a % b\n            else:\n                b = b % a \n        a += b\n        self.n //= a \n        self.d //= a   \n\n    def __str__(self):\n        return f'{int(self.n)}/{int(self.d)}'    \n\n    def __repr__(self):\n        return f'Fraction({int(self.n)}, {int(self.d)})' ",
      "metadata": {
        "trusted": true
      },
      "outputs": [],
      "execution_count": null
    },
    {
      "cell_type": "markdown",
      "source": "## E. Дроби v0.2\n",
      "metadata": {}
    },
    {
      "cell_type": "code",
      "source": "class Fraction:\n\n    def __init__(self, *args):\n        match len(args):\n            case 1:\n                ss = args[0].split(\"/\")\n                self.n = int(ss[0])\n                self.d = int(ss[1])  \n            case 2:\n                self.n = int(args[0])\n                self.d = int(args[1])    \n\n        if self.d < 0:\n            self.n = int(-self.n)\n            self.d = int(-self.d)\n\n        self.__simplify() \n\n    def numerator(self, number=None):\n        if number is None:\n            return abs(self.n)\n        \n        if self.n < 0:\n            self.n = int(-number)   \n        else:\n            self.n = int(number)\n        \n        if number:\n            self.__simplify()    \n\n    def denominator(self, number=None):\n        if number is None:\n            return self.d\n\n        if number < 0:\n            self.n = int(-self.n)   \n            self.d = int(-number) \n        else:\n            self.d = int(number)\n        \n        self.__simplify()        \n\n    def __simplify(self):\n        a, b = abs(self.n), abs(self.d)\n        while b:\n            a, b = b, a % b\n        \n        self.n //= a \n        self.d //= a   \n\n    def __neg__(self):\n        return Fraction(-self.n, self.d)\n\n    def __str__(self):\n        return f'{self.n}/{self.d}'    \n\n    def __repr__(self):\n        return f\"Fraction('{self.n}/{self.d}')\" ",
      "metadata": {
        "trusted": true
      },
      "outputs": [],
      "execution_count": null
    },
    {
      "cell_type": "markdown",
      "source": "## F. Дроби v0.3\n",
      "metadata": {}
    },
    {
      "cell_type": "code",
      "source": "class Fraction:\n\n    def __init__(self, *args):\n        match len(args):\n            case 1:\n                ss = args[0].split(\"/\")\n                self.n = int(ss[0])\n                self.d = int(ss[1])  \n            case 2:\n                self.n = int(args[0])\n                self.d = int(args[1])    \n\n        if self.d < 0:\n            self.n = int(-self.n)\n            self.d = int(-self.d)\n\n        self.__simplify() \n\n    def numerator(self, number=None):\n        if number is None:\n            return abs(self.n)\n        \n        if self.n < 0:\n            self.n = int(-number)   \n        else:\n            self.n = int(number)\n        \n        if number:\n            self.__simplify()    \n\n    def denominator(self, number=None):\n        if number is None:\n            return self.d\n\n        if number < 0:\n            self.n = int(-self.n)   \n            self.d = int(-number) \n        else:\n            self.d = int(number)\n        \n        self.__simplify()        \n\n    def __simplify(self):\n        a, b = abs(self.n), abs(self.d)\n        while b:\n            a, b = b, a % b\n        \n        self.n //= a \n        self.d //= a   \n\n    def __neg__(self):\n        return Fraction(-self.n, self.d)\n\n    def __str__(self):\n        return f'{self.n}/{self.d}'    \n\n    def __repr__(self):\n        return f\"Fraction('{self.n}/{self.d}')\" \n\n    def __add__(self, other):\n        n = self.n * other.d + self.d * other.n\n        d = other.d * self.d\n        return Fraction(n, d)\n\n    def __iadd__(self, other):\n        n = self.n * other.d + self.d * other.n\n        d = other.d * self.d\n        self.n = n\n        self.d = d\n        self.__simplify()  \n        return self\n\n    def __sub__(self, other):\n        n = self.n * other.d - self.d * other.n\n        d = other.d * self.d\n        return Fraction(n, d)\n\n    def __isub__(self, other): \n        n = self.n * other.d - self.d * other.n\n        d = other.d * self.d\n        self.n = n\n        self.d = d \n        self.__simplify()  \n        return self          ",
      "metadata": {
        "trusted": true
      },
      "outputs": [],
      "execution_count": null
    },
    {
      "cell_type": "markdown",
      "source": "## G. Дроби v0.4\n",
      "metadata": {}
    },
    {
      "cell_type": "code",
      "source": "class Fraction:\n\n    def __init__(self, *args):\n        match len(args):\n            case 1:\n                ss = args[0].split(\"/\")\n                self.n = int(ss[0])\n                self.d = int(ss[1])  \n            case 2:\n                self.n = int(args[0])\n                self.d = int(args[1])    \n\n        if self.d < 0:\n            self.n = int(-self.n)\n            self.d = int(-self.d)\n\n        self.__simplify() \n\n    def numerator(self, number=None):\n        if number is None:\n            return abs(self.n)\n        \n        if self.n < 0:\n            self.n = int(-number)   \n        else:\n            self.n = int(number)\n        \n        if number:\n            self.__simplify()    \n\n    def denominator(self, number=None):\n        if number is None:\n            return self.d\n\n        if number < 0:\n            self.n = int(-self.n)   \n            self.d = int(-number) \n        else:\n            self.d = int(number)\n        \n        self.__simplify()        \n\n    def __simplify(self):\n        a, b = abs(self.n), abs(self.d)\n        while b:\n            a, b = b, a % b\n        \n        self.n //= a \n        self.d //= a   \n\n    def __neg__(self):\n        return Fraction(-self.n, self.d)\n\n    def __str__(self):\n        return f'{self.n}/{self.d}'    \n\n    def __repr__(self):\n        return f\"Fraction('{self.n}/{self.d}')\" \n\n    def __add__(self, other):\n        n = self.n * other.d + self.d * other.n\n        d = other.d * self.d\n        return Fraction(n, d)\n\n    def __iadd__(self, other):\n        n = self.n * other.d + self.d * other.n\n        d = other.d * self.d\n        self.n = n\n        self.d = d\n        self.__simplify()  \n        return self\n\n    def __sub__(self, other):\n        n = self.n * other.d - self.d * other.n\n        d = other.d * self.d\n        return Fraction(n, d)\n\n    def __isub__(self, other): \n        n = self.n * other.d - self.d * other.n\n        d = other.d * self.d\n        self.n = n\n        self.d = d \n        self.__simplify()  \n        return self   \n\n    def __mul__(self, other):\n        n = self.n * other.n\n        d = self.d * other.d\n        return Fraction(n, d)\n\n    def __imul__(self, other): \n        n = self.n * other.n\n        d = self.d * other.d\n        self.n = n\n        self.d = d \n        self.__simplify()  \n        return self      \n        \n    def __truediv__(self, other):\n        n = self.n * other.d\n        d = self.d * other.n\n        return Fraction(n, d)\n\n    def __itruediv__(self, other): \n        n = self.n * other.d\n        d = self.d * other.n\n        self.n = n\n        self.d = d \n\n        if self.d < 0:\n            self.n = int(-self.n)\n            self.d = int(-self.d)\n\n        self.__simplify()  \n        return self   \n\n    def reverse(self):\n        return Fraction(self.d, self.n)          ",
      "metadata": {
        "trusted": true
      },
      "outputs": [],
      "execution_count": null
    },
    {
      "cell_type": "markdown",
      "source": "## H. Дроби v0.5\n",
      "metadata": {}
    },
    {
      "cell_type": "code",
      "source": "class Fraction:\n\n    def __init__(self, *args):\n        match len(args):\n            case 1:\n                ss = args[0].split(\"/\")\n                self.n = int(ss[0])\n                self.d = int(ss[1])  \n            case 2:\n                self.n = int(args[0])\n                self.d = int(args[1])    \n\n        if self.d < 0:\n            self.n = int(-self.n)\n            self.d = int(-self.d)\n\n        self.__simplify() \n\n    def numerator(self, number=None):\n        if number is None:\n            return abs(self.n)\n        \n        if self.n < 0:\n            self.n = int(-number)   \n        else:\n            self.n = int(number)\n        \n        if number:\n            self.__simplify()    \n\n    def denominator(self, number=None):\n        if number is None:\n            return self.d\n\n        if number < 0:\n            self.n = int(-self.n)   \n            self.d = int(-number) \n        else:\n            self.d = int(number)\n        \n        self.__simplify()        \n\n    def __nod(self, a, b):\n        while b:\n            a, b = b, a % b\n        return a \n\n    def __simplify(self):\n        a = self.__nod(abs(self.n), abs(self.d))\n       \n        self.n //= a \n        self.d //= a   \n\n    def __neg__(self):\n        return Fraction(-self.n, self.d)\n\n    def __str__(self):\n        return f'{self.n}/{self.d}'    \n\n    def __repr__(self):\n        return f\"Fraction('{self.n}/{self.d}')\" \n\n    def __add__(self, other):\n        n = self.n * other.d + self.d * other.n\n        d = other.d * self.d\n        return Fraction(n, d)\n\n    def __iadd__(self, other):\n        n = self.n * other.d + self.d * other.n\n        d = other.d * self.d\n        self.n = n\n        self.d = d\n        self.__simplify()  \n        return self\n\n    def __sub__(self, other):\n        n = self.n * other.d - self.d * other.n\n        d = other.d * self.d\n        return Fraction(n, d)\n\n    def __isub__(self, other): \n        n = self.n * other.d - self.d * other.n\n        d = other.d * self.d\n        self.n = n\n        self.d = d \n        self.__simplify()  \n        return self   \n\n    def __mul__(self, other):\n        n = self.n * other.n\n        d = self.d * other.d\n        return Fraction(n, d)\n\n    def __imul__(self, other): \n        n = self.n * other.n\n        d = self.d * other.d\n        self.n = n\n        self.d = d \n        self.__simplify()  \n        return self      \n        \n    def __truediv__(self, other):\n        n = self.n * other.d\n        d = self.d * other.n\n        return Fraction(n, d)\n\n    def __itruediv__(self, other): \n        n = self.n * other.d\n        d = self.d * other.n\n        self.n = n\n        self.d = d \n\n        if self.d < 0:\n            self.n = int(-self.n)\n            self.d = int(-self.d)\n\n        self.__simplify()  \n        return self   \n\n    def reverse(self):\n        return Fraction(self.d, self.n)          \n\n    def __lt__(self, other):\n        return self.n < (self.d * other.n) / other.d\n\n    def __le__(self, other):\n        return self.n <= (self.d * other.n) / other.d\n\n    def __eq__(self, other):\n        return self.n == (self.d * other.n) / other.d\n\n    def __ne__(self, other):\n        return self.n != (self.d * other.n) / other.d\n\n    def __gt__(self, other):\n        return self.n > (self.d * other.n) / other.d\n\n    def __ge__(self, other):   \n        return self.n >= (self.d * other.n) / other.d ",
      "metadata": {
        "trusted": true
      },
      "outputs": [],
      "execution_count": null
    },
    {
      "cell_type": "markdown",
      "source": "## I. Дроби v0.6\n",
      "metadata": {}
    },
    {
      "cell_type": "code",
      "source": "class Fraction:\n\n    def __init__(self, *args):\n        match len(args):\n            case 1:\n                if isinstance(args[0], str):\n                    ss = args[0].split(\"/\")\n                    self.n = int(ss[0])\n                    self.d = int(ss[1]) if len(ss) > 1 else 1 \n                elif isinstance(args[0], int): \n                    self.n = int(args[0])\n                    self.d = 1            \n            case 2:\n                self.n = int(args[0])\n                self.d = int(args[1])    \n\n        if self.d < 0:\n            self.n = int(-self.n)\n            self.d = int(-self.d)\n\n        self.__simplify() \n\n    def numerator(self, number=None):\n        if number is None:\n            return abs(self.n)\n        \n        if self.n < 0:\n            self.n = int(-number)   \n        else:\n            self.n = int(number)\n        \n        if number:\n            self.__simplify()    \n\n    def denominator(self, number=None):\n        if number is None:\n            return self.d\n\n        if number < 0:\n            self.n = int(-self.n)   \n            self.d = int(-number) \n        else:\n            self.d = int(number)\n        \n        self.__simplify()        \n\n    def __nod(self, a, b):\n        while b:\n            a, b = b, a % b\n        return a \n\n    def __simplify(self):\n        a = self.__nod(abs(self.n), abs(self.d))\n       \n        self.n //= a \n        self.d //= a   \n\n    def __neg__(self):\n        return Fraction(-self.n, self.d)\n\n    def __str__(self):\n        return f'{self.n}/{self.d}'    \n\n    def __repr__(self):\n        return f\"Fraction('{self.n}/{self.d}')\" \n\n    def __add__(self, other):\n        if isinstance(other, Fraction):\n            n = self.n * other.d + self.d * other.n\n            d = other.d * self.d\n        else: \n            n = self.n + self.d * other\n            d = self.d   \n        return Fraction(n, d)\n\n    def __iadd__(self, other):\n        if isinstance(other, Fraction):\n            n = self.n * other.d + self.d * other.n\n            d = other.d * self.d\n        else: \n            n = self.n + self.d * other\n            d = self.d   \n        self.n = n\n        self.d = d\n        self.__simplify()  \n        return self\n\n    def __sub__(self, other):\n        if isinstance(other, Fraction):\n            n = self.n * other.d - self.d * other.n\n            d = other.d * self.d\n        else: \n            n = self.n - self.d * other\n            d = self.d   \n        return Fraction(n, d)\n\n    def __isub__(self, other): \n        if isinstance(other, Fraction):\n            n = self.n * other.d - self.d * other.n\n            d = other.d * self.d\n        else: \n            n = self.n - self.d * other\n            d = self.d   \n        self.n = n\n        self.d = d \n        self.__simplify()  \n        return self   \n\n    def __mul__(self, other):\n        if isinstance(other, Fraction):\n            n = self.n * other.n\n            d = self.d * other.d\n        else: \n            n = self.n * other\n            d = self.d   \n        return Fraction(n, d)\n\n    def __imul__(self, other): \n        if isinstance(other, Fraction):\n            n = self.n * other.n\n            d = self.d * other.d\n        else: \n            n = self.n * other\n            d = self.d   \n        self.n = n\n        self.d = d \n        self.__simplify()  \n        return self      \n        \n    def __truediv__(self, other):\n        if isinstance(other, Fraction):\n            n = self.n * other.d\n            d = self.d * other.n\n        else: \n            n = self.n\n            d = self.d * other  \n        return Fraction(n, d)\n\n    def __itruediv__(self, other): \n        if isinstance(other, Fraction):\n            n = self.n * other.d\n            d = self.d * other.n\n        else: \n            n = self.n\n            d = self.d * other  \n        self.n = n\n        self.d = d \n\n        if self.d < 0:\n            self.n = int(-self.n)\n            self.d = int(-self.d)\n\n        self.__simplify()  \n        return self   \n\n    def reverse(self):\n        return Fraction(self.d, self.n)          \n\n    def __lt__(self, other):\n        if isinstance(other, Fraction):\n            v = (self.d * other.n) / other.d\n        else:\n            v = self.d * other    \n        return self.n < v\n          \n    def __le__(self, other):\n        if isinstance(other, Fraction):\n            v = (self.d * other.n) / other.d\n        else:\n            v = self.d * other    \n        return self.n <= v\n\n    def __eq__(self, other):\n        if isinstance(other, Fraction):\n            return self.n == (self.d * other.n) / other.d\n\n    def __ne__(self, other):\n        if isinstance(other, Fraction):\n            v = (self.d * other.n) / other.d\n        else:\n            v = self.d * other    \n        return self.n != v\n\n    def __gt__(self, other):\n        if isinstance(other, Fraction):\n            v = (self.d * other.n) / other.d\n        else:\n            v = self.d * other    \n        return self.n > v\n\n    def __ge__(self, other):  \n        if isinstance(other, Fraction):\n            v = (self.d * other.n) / other.d\n        else:\n            v = self.d * other    \n        return self.n >= v",
      "metadata": {
        "trusted": true
      },
      "outputs": [],
      "execution_count": null
    },
    {
      "cell_type": "markdown",
      "source": "## J. Дроби v0.7\n",
      "metadata": {}
    },
    {
      "cell_type": "code",
      "source": "class Fraction:\n\n    def __init__(self, *args):\n        match len(args):\n            case 1:\n                if isinstance(args[0], str):\n                    ss = args[0].split(\"/\")\n                    self.n = int(ss[0])\n                    self.d = int(ss[1]) if len(ss) > 1 else 1 \n                elif isinstance(args[0], int): \n                    self.n = int(args[0])\n                    self.d = 1            \n            case 2:\n                self.n = int(args[0])\n                self.d = int(args[1])    \n\n        if self.d < 0:\n            self.n = int(-self.n)\n            self.d = int(-self.d)\n\n        self.__simplify() \n\n    def numerator(self, number=None):\n        if number is None:\n            return abs(self.n)\n        \n        if self.n < 0:\n            self.n = int(-number)   \n        else:\n            self.n = int(number)\n        \n        if number:\n            self.__simplify()    \n\n    def denominator(self, number=None):\n        if number is None:\n            return self.d\n\n        if number < 0:\n            self.n = int(-self.n)   \n            self.d = int(-number) \n        else:\n            self.d = int(number)\n        \n        self.__simplify()        \n\n    def __nod(self, a, b):\n        while b:\n            a, b = b, a % b\n        return a \n\n    def __simplify(self):\n        a = self.__nod(abs(self.n), abs(self.d))\n       \n        self.n //= a \n        self.d //= a   \n\n    def __neg__(self):\n        return Fraction(-self.n, self.d)\n\n    def __str__(self):\n        return f'{self.n}/{self.d}'    \n\n    def __repr__(self):\n        return f\"Fraction('{self.n}/{self.d}')\" \n\n    def __add__(self, other):\n        if isinstance(other, Fraction):\n            n = self.n * other.d + self.d * other.n\n            d = other.d * self.d\n        else: \n            n = self.n + self.d * other\n            d = self.d   \n        return Fraction(n, d)\n\n    def __radd__(self, other):\n        return self.__add__(other)\n\n    def __iadd__(self, other):\n        if isinstance(other, Fraction):\n            n = self.n * other.d + self.d * other.n\n            d = other.d * self.d\n        else: \n            n = self.n + self.d * other\n            d = self.d   \n        self.n = n\n        self.d = d\n        self.__simplify()  \n        return self\n\n    def __sub__(self, other):\n        if isinstance(other, Fraction):\n            n = self.n * other.d - self.d * other.n\n            d = other.d * self.d\n        else: \n            n = self.n - self.d * other\n            d = self.d   \n        return Fraction(n, d)\n\n    def __rsub__(self, other):\n        return -self.__sub__(other)\n\n    def __isub__(self, other): \n        if isinstance(other, Fraction):\n            n = self.n * other.d - self.d * other.n\n            d = other.d * self.d\n        else: \n            n = self.n - self.d * other\n            d = self.d   \n        self.n = n\n        self.d = d \n        self.__simplify()  \n        return self   \n\n    def __mul__(self, other):\n        if isinstance(other, Fraction):\n            n = self.n * other.n\n            d = self.d * other.d\n        else: \n            n = self.n * other\n            d = self.d   \n        return Fraction(n, d)\n\n    def __rmul__(self, other):\n        return self.__mul__(other)\n\n    def __imul__(self, other): \n        if isinstance(other, Fraction):\n            n = self.n * other.n\n            d = self.d * other.d\n        else: \n            n = self.n * other\n            d = self.d   \n        self.n = n\n        self.d = d \n        self.__simplify()  \n        return self      \n        \n    def __truediv__(self, other):\n        if isinstance(other, Fraction):\n            n = self.n * other.d\n            d = self.d * other.n\n        else: \n            n = self.n\n            d = self.d * other  \n        return Fraction(n, d)\n\n    def __rtruediv__(self, other):\n        if isinstance(other, Fraction):\n            d = self.n * other.d\n            n = self.d * other.n\n        else: \n            d = self.n\n            n = self.d * other  \n        return Fraction(n, d)\n\n    def __itruediv__(self, other): \n        if isinstance(other, Fraction):\n            n = self.n * other.d\n            d = self.d * other.n\n        else: \n            n = self.n\n            d = self.d * other  \n        self.n = n\n        self.d = d \n\n        if self.d < 0:\n            self.n = int(-self.n)\n            self.d = int(-self.d)\n\n        self.__simplify()  \n        return self   \n\n    def reverse(self):\n        return Fraction(self.d, self.n)          \n\n    def __lt__(self, other):\n        if isinstance(other, Fraction):\n            v = (self.d * other.n) / other.d\n        else:\n            v = self.d * other    \n        return self.n < v\n          \n    def __le__(self, other):\n        if isinstance(other, Fraction):\n            v = (self.d * other.n) / other.d\n        else:\n            v = self.d * other    \n        return self.n <= v\n\n    def __eq__(self, other):\n        if isinstance(other, Fraction):\n            return self.n == (self.d * other.n) / other.d\n\n    def __ne__(self, other):\n        if isinstance(other, Fraction):\n            v = (self.d * other.n) / other.d\n        else:\n            v = self.d * other    \n        return self.n != v\n\n    def __gt__(self, other):\n        if isinstance(other, Fraction):\n            v = (self.d * other.n) / other.d\n        else:\n            v = self.d * other    \n        return self.n > v\n\n    def __ge__(self, other):  \n        if isinstance(other, Fraction):\n            v = (self.d * other.n) / other.d\n        else:\n            v = self.d * other    \n        return self.n >= v",
      "metadata": {
        "trusted": true
      },
      "outputs": [],
      "execution_count": null
    }
  ]
}