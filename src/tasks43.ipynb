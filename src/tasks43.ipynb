{
  "metadata": {
    "kernelspec": {
      "name": "python",
      "display_name": "Python (Pyodide)",
      "language": "python"
    },
    "language_info": {
      "name": ""
    }
  },
  "nbformat_minor": 4,
  "nbformat": 4,
  "cells": [
    {
      "cell_type": "markdown",
      "source": "# Рекурсия. Декораторы. Генераторы",
      "metadata": {}
    },
    {
      "cell_type": "markdown",
      "source": "## A. Рекурсивный сумматор\n",
      "metadata": {}
    },
    {
      "cell_type": "code",
      "source": "def recursive_sum(*args):\n    args = list(args)\n    if len(args) == 0:\n        return 0\n    return recursive_sum(*args[:-1]) + args[-1]    ",
      "metadata": {
        "trusted": true
      },
      "outputs": [],
      "execution_count": null
    },
    {
      "cell_type": "markdown",
      "source": "## B. Рекурсивный сумматор цифр\n",
      "metadata": {}
    },
    {
      "cell_type": "code",
      "source": "def recursive_digit_sum(n):\n    if n < 10:\n        return n\n    return recursive_digit_sum(n // 10) + n % 10",
      "metadata": {
        "trusted": true
      },
      "outputs": [],
      "execution_count": null
    },
    {
      "cell_type": "markdown",
      "source": "## C. Многочлен N-ой степени\n",
      "metadata": {}
    },
    {
      "cell_type": "code",
      "source": "def make_equation(*args):\n    if len(args) == 1:\n        return f'{args[0]}'\n    return '({0}) * x + {1}'.format(make_equation(*args[:-1]), args[-1])    ",
      "metadata": {
        "trusted": true
      },
      "outputs": [],
      "execution_count": null
    },
    {
      "cell_type": "markdown",
      "source": "## D. Декор результата\n",
      "metadata": {}
    },
    {
      "cell_type": "code",
      "source": "def answer(f):\n\n    def decorated(*args, **kwargs):\n        return f'Результат функции: {f(*args, **kwargs)}'\n    return decorated   ",
      "metadata": {
        "trusted": true
      },
      "outputs": [],
      "execution_count": null
    },
    {
      "cell_type": "markdown",
      "source": "## E. Накопление результата\n",
      "metadata": {}
    },
    {
      "cell_type": "code",
      "source": "def result_accumulator(f):\n    dic = dict()\n\n    def decorated(*args, **kwargs):\n        if 'method' not in kwargs:\n            k = 'accumulate'\n        else:\n            k = kwargs['method']\n\n        dic[f] = dic.get(f, [])\n        \n        match k:\n            case 'accumulate':\n                r = f(*args)\n                dic[f] = dic[f] + [r]\n            case 'drop':\n                c = dic[f] + [f(*args)]\n                dic[f] = []\n                return c\n    \n    return decorated    ",
      "metadata": {
        "trusted": true
      },
      "outputs": [],
      "execution_count": null
    },
    {
      "cell_type": "markdown",
      "source": "## F. Сортировка слиянием\n",
      "metadata": {}
    },
    {
      "cell_type": "code",
      "source": "def merge_sort(arr):\n    if len(arr) == 1:\n        return arr\n    n = len(arr) // 2\n    larr, rarr = merge_sort(arr[:n]), merge_sort(arr[n:])\n    farr = []\n    while len(larr) + len(rarr) > 0:\n        if len(larr) != 0 and len(rarr) != 0:\n            a = larr[0]\n            b = rarr[0]\n            if a < b:\n                farr.append(larr.pop(0))\n            else:\n                farr.append(rarr.pop(0))    \n        elif len(larr) != 0:\n            farr = farr + larr\n            break\n        else:\n            farr = farr + rarr\n            break    \n    return farr          ",
      "metadata": {
        "trusted": true
      },
      "outputs": [],
      "execution_count": null
    },
    {
      "cell_type": "markdown",
      "source": "## G. Однотипность не порок\n",
      "metadata": {}
    },
    {
      "cell_type": "code",
      "source": "def same_type(f):\n    def d(*args):\n        t = type(args[0])\n        for v in args:\n            if not isinstance(v, t):\n                print('Обнаружены различные типы данных')\n                return\n        return f(*args)\n    return d    ",
      "metadata": {
        "trusted": true
      },
      "outputs": [],
      "execution_count": null
    },
    {
      "cell_type": "markdown",
      "source": "## H. Генератор Фибоначчи\n",
      "metadata": {}
    },
    {
      "cell_type": "code",
      "source": "def fibonacci(n):\n    f_1, f = 0, 1\n    yield f_1\n    if n > 1:\n        yield f\n    for i in range(n - 2):\n        f_n = f_1 + f\n        yield f_n\n        f_1, f = f, f_n",
      "metadata": {
        "trusted": true
      },
      "outputs": [],
      "execution_count": null
    },
    {
      "cell_type": "code",
      "source": "def fibonacci(n):\n    f_1, f = 0, 1\n    if n > 0:\n        yield f_1\n    if n > 1:\n        yield f\n    for i in range(n - 2):\n        f_n = f_1 + f\n        yield f_n\n        f_1, f = f, f_n",
      "metadata": {
        "trusted": true
      },
      "outputs": [],
      "execution_count": null
    },
    {
      "cell_type": "markdown",
      "source": "## I. Циклический генератор\n",
      "metadata": {}
    },
    {
      "cell_type": "code",
      "source": "def cycle(li):\n    i = 0\n    while True:\n        yield li[i]\n        i += 1\n        if i == len(li):\n            i = 0",
      "metadata": {
        "trusted": true
      },
      "outputs": [],
      "execution_count": null
    },
    {
      "cell_type": "markdown",
      "source": "## J. \"Выпрямление\" списка",
      "metadata": {}
    },
    {
      "cell_type": "code",
      "source": "def make_linear(ll):\n    if not isinstance(ll, list):\n        return [ll]\n    ls = []\n    for v in ll:\n        ls = ls + make_linear(v)\n    return ls    ",
      "metadata": {
        "trusted": true
      },
      "outputs": [],
      "execution_count": null
    }
  ]
}