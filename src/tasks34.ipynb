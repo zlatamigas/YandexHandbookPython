{
 "cells": [
  {
   "cell_type": "markdown",
   "metadata": {},
   "source": [
    "# 3.4. Встроенные возможности по работе с коллекциями"
   ]
  },
  {
   "cell_type": "markdown",
   "metadata": {},
   "source": [
    "## A. Автоматизация списка\n"
   ]
  },
  {
   "cell_type": "code",
   "execution_count": null,
   "metadata": {},
   "outputs": [],
   "source": [
    "ss = input().split()\n",
    "for i, s in enumerate(ss, 1):\n",
    "    print(f'{i}. {s}')"
   ]
  },
  {
   "cell_type": "markdown",
   "metadata": {},
   "source": [
    "## B. Сборы на прогулку\n"
   ]
  },
  {
   "cell_type": "code",
   "execution_count": null,
   "metadata": {},
   "outputs": [],
   "source": [
    "asi = input().split(\", \")\n",
    "bsi = input().split(\", \")\n",
    "\n",
    "for a, b in zip(asi, bsi):\n",
    "    print(f\"{a} - {b}\")"
   ]
  },
  {
   "cell_type": "markdown",
   "metadata": {},
   "source": [
    "## C. Рациональная считалочка\n"
   ]
  },
  {
   "cell_type": "code",
   "execution_count": null,
   "metadata": {},
   "outputs": [],
   "source": [
    "from itertools import count\n",
    "\n",
    "bs, ens, sts = tuple(input().split())\n",
    "b, en, st = float(bs), float(ens), float(sts)\n",
    "\n",
    "for c in count(b, st):\n",
    "    if c >= en:\n",
    "        break\n",
    "    print(round(c, 1))    "
   ]
  },
  {
   "cell_type": "markdown",
   "metadata": {},
   "source": [
    "## D. Словарная ёлка\n"
   ]
  },
  {
   "cell_type": "code",
   "execution_count": null,
   "metadata": {},
   "outputs": [],
   "source": [
    "from itertools import accumulate\n",
    "\n",
    "ss = input().split()\n",
    "\n",
    "for v in accumulate(ss, lambda a, pr: a + ' ' + pr):\n",
    "    print(v)"
   ]
  },
  {
   "cell_type": "markdown",
   "metadata": {},
   "source": [
    "## E. Список покупок\n"
   ]
  },
  {
   "cell_type": "code",
   "execution_count": null,
   "metadata": {},
   "outputs": [],
   "source": [
    "from itertools import chain\n",
    "\n",
    "a, b, c = input().split(\", \"), input().split(\", \"), input().split(\", \")\n",
    "\n",
    "data = sorted(list(set(chain(a, b, c))))\n",
    "for i, v in enumerate(data, 1):    \n",
    "    print(f'{i}. {v}')"
   ]
  },
  {
   "cell_type": "markdown",
   "metadata": {},
   "source": [
    "## F. Колода карт\n"
   ]
  },
  {
   "cell_type": "code",
   "execution_count": null,
   "metadata": {},
   "outputs": [],
   "source": [
    "import itertools\n",
    "\n",
    "ms = ['пик', 'треф', 'бубен', 'червей']\n",
    "n = ['2', '3', '4', '5', '6', '7', '8', '9', '10', 'валет', 'дама', 'король', 'туз']\n",
    "\n",
    "s = input()\n",
    "m = ms[:]\n",
    "m.remove(s)\n",
    "\n",
    "for (v, b) in itertools.product(n, m):\n",
    "    print(f'{v} {b}')"
   ]
  },
  {
   "cell_type": "markdown",
   "metadata": {},
   "source": [
    "## G. Игровая сетка\n"
   ]
  },
  {
   "cell_type": "code",
   "execution_count": null,
   "metadata": {},
   "outputs": [],
   "source": [
    "import itertools\n",
    "\n",
    "n = int(input())\n",
    "p = [input() for i in range(n)]\n",
    " \n",
    "for (a, b) in itertools.combinations(p, 2):\n",
    "    print(f'{a} - {b}') "
   ]
  },
  {
   "cell_type": "markdown",
   "metadata": {},
   "source": [
    "## H. Меню питания 2.0\n"
   ]
  },
  {
   "cell_type": "code",
   "execution_count": null,
   "metadata": {},
   "outputs": [],
   "source": [
    "import itertools\n",
    "\n",
    "n = int(input())\n",
    "p = [input() for i in range(n)]\n",
    " \n",
    "for (a, b) in itertools.combinations(p, 2):\n",
    "    print(f'{a} - {b}') "
   ]
  },
  {
   "cell_type": "markdown",
   "metadata": {},
   "source": [
    "## I. Таблица умножения 3.0\n"
   ]
  },
  {
   "cell_type": "code",
   "execution_count": null,
   "metadata": {},
   "outputs": [],
   "source": [
    "from itertools import product\n",
    "\n",
    "n = int(input())\n",
    "\n",
    "ns = range(1, n + 1)\n",
    "pairs = product(ns, ns)\n",
    "\n",
    "i = 1\n",
    "for (a, b) in pairs:\n",
    "    if a == i:\n",
    "        print(a * b, end=' ')\n",
    "    else:\n",
    "        print(f'\\n{(a * b)}', end=' ') \n",
    "        i += 1   "
   ]
  },
  {
   "cell_type": "code",
   "execution_count": null,
   "metadata": {},
   "outputs": [],
   "source": [
    "from itertools import starmap, product\n",
    "\n",
    "n = int(input())\n",
    "\n",
    "ns = range(1, n + 1)\n",
    "pairs = starmap(lambda x, y: x * y, product(ns, repeat=2))\n",
    "\n",
    "i = 1\n",
    "for v in pairs:\n",
    "    print(v, end=' ')\n",
    "    if i < n:\n",
    "        i += 1   \n",
    "    else:\n",
    "        print()   \n",
    "        i = 1  "
   ]
  },
  {
   "cell_type": "markdown",
   "metadata": {},
   "source": [
    "## J. Мы делили апельсин 2.0\n"
   ]
  },
  {
   "cell_type": "code",
   "execution_count": null,
   "metadata": {},
   "outputs": [],
   "source": [
    "from itertools import product\n",
    "\n",
    "n = int(input())\n",
    "\n",
    "vs = [(a, b, c) for (a, b, c) in product(range(1, n - 1), repeat=3) if a + b + c == n]\n",
    "\n",
    "print('А', 'Б', 'В')\n",
    "for (a, b, c) in vs:\n",
    "    print(a, b, c)"
   ]
  },
  {
   "cell_type": "markdown",
   "metadata": {},
   "source": [
    "## K. Числовой прямоугольник 3.0\n"
   ]
  },
  {
   "cell_type": "code",
   "execution_count": null,
   "metadata": {},
   "outputs": [],
   "source": [
    "from itertools import product\n",
    "\n",
    "n, m = int(input()), int(input())\n",
    "\n",
    "lnm = len(str(n * m))\n",
    "\n",
    "v = 0\n",
    "for (i, j) in product(range(n), range(1, m + 1)):\n",
    "    if v != i:\n",
    "        print()\n",
    "        v = i\n",
    "    print(f'{(i * m + j): >{lnm}}', end=' ')    "
   ]
  },
  {
   "cell_type": "markdown",
   "metadata": {},
   "source": [
    "## L. Список покупок 2.0\n"
   ]
  },
  {
   "cell_type": "code",
   "execution_count": null,
   "metadata": {},
   "outputs": [],
   "source": [
    "from itertools import chain\n",
    "\n",
    "n = int(input())\n",
    "\n",
    "s = (input().split(', ') for i in range(n))\n",
    "pr = sorted(list(chain.from_iterable(s)))\n",
    "\n",
    "for i, v in enumerate(pr, 1):\n",
    "    print(f'{i}. {v}')"
   ]
  },
  {
   "cell_type": "markdown",
   "metadata": {},
   "source": [
    "## M. Расстановка спортсменов\n"
   ]
  },
  {
   "cell_type": "code",
   "execution_count": null,
   "metadata": {},
   "outputs": [],
   "source": [
    "from itertools import permutations\n",
    "\n",
    "n = int(input())\n",
    "sps = sorted([input() for i in range(n)])\n",
    "\n",
    "for v in permutations(sps): \n",
    "    print(', '.join(v))"
   ]
  },
  {
   "cell_type": "markdown",
   "metadata": {},
   "source": [
    "## N. Спортивные гадания\n"
   ]
  },
  {
   "cell_type": "code",
   "execution_count": null,
   "metadata": {},
   "outputs": [],
   "source": [
    "from itertools import permutations\n",
    "\n",
    "n = int(input())\n",
    "sps = sorted([input() for i in range(n)])\n",
    "\n",
    "for v in permutations(sps): \n",
    "    print(', '.join(v))"
   ]
  },
  {
   "cell_type": "markdown",
   "metadata": {},
   "source": [
    "## O. Список покупок 3.0\n"
   ]
  },
  {
   "cell_type": "code",
   "execution_count": null,
   "metadata": {},
   "outputs": [],
   "source": [
    "from itertools import chain, permutations\n",
    "\n",
    "n = int(input())\n",
    "pr = sorted(chain.from_iterable([input().split(', ') for i in range(n)]))\n",
    "\n",
    "for v in permutations(pr, r=3):\n",
    "    print(' '.join(v)) "
   ]
  },
  {
   "cell_type": "markdown",
   "metadata": {},
   "source": [
    "## P. Расклад таков...\n"
   ]
  },
  {
   "cell_type": "code",
   "execution_count": null,
   "metadata": {},
   "outputs": [],
   "source": [
    "from itertools import combinations, product\n",
    "\n",
    "ms = ['бубен', 'пик', 'треф', 'червей']\n",
    "ds = ['10', '2', '3', '4', '5', '6', '7', '8', '9', 'валет', 'дама', 'король', 'туз']\n",
    "\n",
    "mtm = {\n",
    "    'буби': 'бубен',\n",
    "    'пики': 'пик',\n",
    "    'трефы': 'треф',\n",
    "    'черви': 'червей'\n",
    "}\n",
    "\n",
    "m = input()\n",
    "nd = input()\n",
    "\n",
    "ds.remove(nd)\n",
    "m = mtm[m]\n",
    "\n",
    "v1 = product(ds, ms)\n",
    "v2 = combinations(v1, 3)\n",
    "\n",
    "i = 0\n",
    "for v in v2:\n",
    "    if i == 10:\n",
    "        break\n",
    "    if v[0][1] == m or v[1][1] == m or v[2][1] == m:\n",
    "        print(f'{v[0][0]} {v[0][1]}, {v[1][0]} {v[1][1]}, {v[2][0]} {v[2][1]}')\n",
    "        i += 1 "
   ]
  },
  {
   "cell_type": "markdown",
   "metadata": {},
   "source": [
    "## Q. А есть ещё варианты?\n"
   ]
  },
  {
   "cell_type": "code",
   "execution_count": null,
   "metadata": {},
   "outputs": [],
   "source": [
    "from itertools import product, combinations, dropwhile\n",
    "\n",
    "ms = ['бубен', 'пик', 'треф', 'червей']\n",
    "ds = ['10', '2', '3', '4', '5', '6', '7', '8', '9', 'валет', 'дама', 'король', 'туз']\n",
    "\n",
    "mtm = {\n",
    "    'буби': 'бубен',\n",
    "    'пики': 'пик',\n",
    "    'трефы': 'треф',\n",
    "    'черви': 'червей'\n",
    "}\n",
    "\n",
    "m = mtm[input()]\n",
    "ds.remove(input())\n",
    "\n",
    "prss = input().split(', ')\n",
    "prs = []\n",
    "for v in prss:\n",
    "    prs.append(tuple(v.split()))\n",
    "prs = tuple(prs)\n",
    "\n",
    "v1 = product(ds, ms)\n",
    "v2 = combinations(v1, 3)\n",
    "v3 = list(dropwhile(lambda x: x != prs, v2))[1:]\n",
    "\n",
    "for v in v3:\n",
    "    if v[0][1] == m or v[1][1] == m or v[2][1] == m:\n",
    "        print(f'{v[0][0]} {v[0][1]}, {v[1][0]} {v[1][1]}, {v[2][0]} {v[2][1]}')\n",
    "        break\n",
    "\n"
   ]
  },
  {
   "cell_type": "markdown",
   "metadata": {},
   "source": [
    "## R. Таблица истинности\n"
   ]
  },
  {
   "cell_type": "code",
   "execution_count": null,
   "metadata": {},
   "outputs": [],
   "source": [
    "from itertools import product\n",
    "\n",
    "s = input()\n",
    "\n",
    "print('a b c f')\n",
    "for (a, b, c) in product([False, True], repeat=3):\n",
    "    print(int(a), int(b), int(c), int(eval(s)))\n"
   ]
  },
  {
   "cell_type": "markdown",
   "metadata": {},
   "source": [
    "## S. Таблица истинности 2\n"
   ]
  },
  {
   "cell_type": "code",
   "execution_count": null,
   "metadata": {},
   "outputs": [],
   "source": [
    "from itertools import product\n",
    "\n",
    "s = input()\n",
    "locs = set()\n",
    "for v in s.split():\n",
    "    if v != 'not' and v != 'and' and v != 'or':\n",
    "        locs.add(v)\n",
    "locs = sorted(list(locs))\n",
    "\n",
    "print(' '.join(locs) + ' F')\n",
    "for v in product([False, True], repeat=len(locs)):\n",
    "    d = {locs[i]: v[i] for i in range(len(locs))}\n",
    "    r = eval(s, {}, d)\n",
    "    for i in v:\n",
    "        print(int(i), end=' ')\n",
    "    print(int(r))"
   ]
  },
  {
   "cell_type": "markdown",
   "metadata": {},
   "source": [
    "## T. Таблицы истинности 3"
   ]
  },
  {
   "cell_type": "code",
   "execution_count": null,
   "metadata": {},
   "outputs": [],
   "source": [
    "from itertools import product\n",
    "\n",
    "s = input()\n",
    "locs = set()\n",
    "for v in s.split():\n",
    "    io = v.find('(') + 1\n",
    "    ic = v.find(')')\n",
    "    ic = ic if ic != -1 else len(v) \n",
    "    v = v[io:ic]\n",
    "    if v.isupper():\n",
    "        locs.add(v) \n",
    "\n",
    "locs = sorted(list(locs))\n",
    "\n",
    "st = []\n",
    "so = []\n",
    "\n",
    "prior = {\n",
    "    'not': 7,\n",
    "    'and': 6,\n",
    "    'or': 5,\n",
    "    '^': 4,\n",
    "    '->': 3,\n",
    "    '~': 2,\n",
    "    ')': 1,\n",
    "    '(': 0\n",
    "}\n",
    "\n",
    "# префиксная запись\n",
    "sv = s.split()\n",
    "while len(sv) != 0:\n",
    "    c = sv.pop(0)\n",
    "\n",
    "    while c[0] == '(':\n",
    "        st.append('(')\n",
    "        c = c[1:]\n",
    "\n",
    "    ind = c.find(')')\n",
    "    cv = c if ind == -1 else c[:ind]\n",
    "\n",
    "    if cv.isupper():\n",
    "        so.append(cv) \n",
    "    else: \n",
    "        while len(st) > 0 and prior[st[-1]] >= prior[cv]:\n",
    "            t = st.pop()  \n",
    "            so.append(t) \n",
    "        st.append(cv)    \n",
    "\n",
    "    if ind != -1:\n",
    "        for i in range(len(c) - ind):\n",
    "            t = st.pop()\n",
    "            while t != '(':\n",
    "                so.append(t)\n",
    "                t = st.pop()\n",
    "\n",
    "while len(st) > 0:\n",
    "    so.append(st.pop())\n",
    "# замена\n",
    "lst = []\n",
    "while len(so) > 0:\n",
    "    op = so.pop(0)\n",
    "    match op:\n",
    "        case 'not':\n",
    "            a = lst.pop()\n",
    "            lst.append('not (' + a + ')')\n",
    "        case 'and':\n",
    "            b = lst.pop() \n",
    "            a = lst.pop()\n",
    "            lst.append('(' + a + ') and (' + b + ')')\n",
    "        case 'or':\n",
    "            b = lst.pop()\n",
    "            a = lst.pop()\n",
    "            lst.append('(' + a + ') or (' + b + ')')\n",
    "        case '^':\n",
    "            b = lst.pop()\n",
    "            a = lst.pop()\n",
    "            sfxor = \"(not ({0}) and ({1})) or (not ({1}) and ({0}))\"\n",
    "            lst.append(sfxor.format(a, b))\n",
    "        case '->':\n",
    "            b = lst.pop()\n",
    "            a = lst.pop()\n",
    "            sff = \"not ({0}) or ({1})\"\n",
    "            lst.append(sff.format(a, b))\n",
    "        case '~':\n",
    "            b = lst.pop() \n",
    "            a = lst.pop()\n",
    "            sfe = \"(({0}) and ({1})) or (not ({0}) and not ({1}))\"\n",
    "            lst.append(sfe.format(a, b))\n",
    "        case _:\n",
    "            lst.append(op)\n",
    "sres = lst.pop()\n",
    "# вычисление\n",
    "print(' '.join(locs) + ' F')\n",
    "llocs = len(locs)\n",
    "for v in product([False, True], repeat=llocs):\n",
    "    d = {locs[i]: v[i] for i in range(llocs)}\n",
    "\n",
    "    f = eval(sres, {}, d)\n",
    "    for i in v:\n",
    "        print(int(i), end=' ')\n",
    "    print(int(f))    "
   ]
  }
 ],
 "metadata": {
  "kernelspec": {
   "display_name": "Python 3",
   "language": "python",
   "name": "python3"
  },
  "language_info": {
   "codemirror_mode": {
    "name": "ipython",
    "version": 3
   },
   "file_extension": ".py",
   "mimetype": "text/x-python",
   "name": "python",
   "nbconvert_exporter": "python",
   "pygments_lexer": "ipython3",
   "version": "3.12.1"
  }
 },
 "nbformat": 4,
 "nbformat_minor": 2
}
