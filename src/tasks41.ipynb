{
  "metadata": {
    "kernelspec": {
      "name": "python",
      "display_name": "Python (Pyodide)",
      "language": "python"
    },
    "language_info": {
      "name": ""
    }
  },
  "nbformat_minor": 4,
  "nbformat": 4,
  "cells": [
    {
      "cell_type": "markdown",
      "source": "# Функции. Области видимости. Передача параметров в функции",
      "metadata": {}
    },
    {
      "cell_type": "markdown",
      "source": "## A. Функциональное приветствие\n",
      "metadata": {}
    },
    {
      "cell_type": "code",
      "source": "def print_hello(name):\n    print(f'Hello, {name}!')",
      "metadata": {
        "trusted": true
      },
      "outputs": [],
      "execution_count": null
    },
    {
      "cell_type": "markdown",
      "source": "## B. Функциональный НОД\n",
      "metadata": {}
    },
    {
      "cell_type": "code",
      "source": "def gcd(a, b):\n    while a != 0 and b != 0:\n        (a, b) = (a - b, b) if a > b else (a, b - a)\n    return a + b    ",
      "metadata": {
        "trusted": true
      },
      "outputs": [],
      "execution_count": null
    },
    {
      "cell_type": "markdown",
      "source": "## C. Длина числа\n",
      "metadata": {}
    },
    {
      "cell_type": "code",
      "source": "def number_length(num):\n    return len(str(abs(num)))",
      "metadata": {
        "trusted": true
      },
      "outputs": [],
      "execution_count": null
    },
    {
      "cell_type": "markdown",
      "source": "## D. Имя of the month\n",
      "metadata": {}
    },
    {
      "cell_type": "code",
      "source": "def month(num, lang):\n    rueng = {\n        1: [\"January\", \"Январь\"],\n        2: [\"February\", \"Февраль\"],\n        3: [\"March\", \"Март\"],\n        4: [\"April\", \"Апрель\"],\n        5: [\"May\", \"Май\"],\n        6: [\"June\", \"Июнь\"],\n        7: [\"July\", \"Июль\"],\n        8: [\"August\", \"Август\"],\n        9: [\"September\", \"Сентябрь\"],\n        10: [\"October\", \"Октябрь\"],\n        11: [\"November\", \"Ноябрь\"],\n        12: [\"December\", \"Декабрь\"]\n    }\n\n    i = 0 if lang == \"en\" else 1\n    return rueng[num][i] ",
      "metadata": {
        "trusted": true
      },
      "outputs": [],
      "execution_count": null
    },
    {
      "cell_type": "markdown",
      "source": "## E. Числовая строка\n",
      "metadata": {}
    },
    {
      "cell_type": "code",
      "source": "def split_numbers(ns):\n    vs = [int(v) for v in ns.split()]\n    return tuple(vs)",
      "metadata": {
        "trusted": true
      },
      "outputs": [],
      "execution_count": null
    },
    {
      "cell_type": "markdown",
      "source": "## F. Модернизация системы вывода\n",
      "metadata": {}
    },
    {
      "cell_type": "code",
      "source": "def modern_print(s, wasprinted=set()):\n    if len(wasprinted) == 0 or s not in wasprinted:\n        print(s)\n        wasprinted.add(s) ",
      "metadata": {
        "trusted": true
      },
      "outputs": [],
      "execution_count": null
    },
    {
      "cell_type": "code",
      "source": "def modern_print(s):\n    if 'wasprinted' not in globals():\n        global wasprinted\n        wasprinted = set()\n    if len(wasprinted) == 0 or s not in wasprinted:\n        print(s)\n        wasprinted.add(s) ",
      "metadata": {
        "trusted": true
      },
      "outputs": [],
      "execution_count": null
    },
    {
      "cell_type": "markdown",
      "source": "## G. Шахматный «обед»\n",
      "metadata": {}
    },
    {
      "cell_type": "code",
      "source": "def can_eat(v1, v2):\n    (x1, y1) = v1\n    (x2, y2) = v2\n    dx = x1 - x2\n    dy = y1 - y2\n    res = False\n    if 0 < abs(dx) <= 2 and 0 < abs(dy) <= 2:\n        if abs(dx) != abs(dy):  \n            res = True \n    return res        ",
      "metadata": {
        "trusted": true
      },
      "outputs": [],
      "execution_count": null
    },
    {
      "cell_type": "markdown",
      "source": "## H. А роза упала на лапу Азора 7.0\n",
      "metadata": {}
    },
    {
      "cell_type": "code",
      "source": "def is_palindrome(inp):\n    if isinstance(inp, int):\n        v = str(inp)\n    else:\n        v = inp\n            \n    res = True\n    for i in range(len(v) // 2):\n        if v[i] != v[-1 - i]:\n            res = False\n            break\n    return res",
      "metadata": {
        "trusted": true
      },
      "outputs": [],
      "execution_count": null
    },
    {
      "cell_type": "markdown",
      "source": "## I. Простая задача 5.0\n",
      "metadata": {}
    },
    {
      "cell_type": "code",
      "source": "def is_prime(num):\n    d = 2\n    while d * d <= num and num % d != 0:\n        d += 1\n    if d * d > num and num > 1:\n        return True\n    else:\n        return False        ",
      "metadata": {
        "trusted": true
      },
      "outputs": [],
      "execution_count": null
    },
    {
      "cell_type": "markdown",
      "source": "## J. Слияние\n",
      "metadata": {}
    },
    {
      "cell_type": "code",
      "source": "def merge(v1, v2):\n    res = []\n\n    vl1 = list(v1)\n    vl2 = list(v2)\n\n    while len(vl1) + len(vl2) > 0:\n        a = len(vl1)\n        b = len(vl2) \n        if a != 0 and b != 0:\n            v = vl1.pop(0) if vl1[0] <= vl2[0] else vl2.pop(0)\n            res.append(v)\n        elif a != 0:\n            res.append(vl1.pop(0))\n        else:\n            res.append(vl2.pop(0))        \n\n    return tuple(res)",
      "metadata": {
        "trusted": true
      },
      "outputs": [],
      "execution_count": null
    }
  ]
}